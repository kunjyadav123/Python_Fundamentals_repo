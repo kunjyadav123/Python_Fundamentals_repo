{
 "cells": [
  {
   "cell_type": "markdown",
   "id": "78131354",
   "metadata": {},
   "source": [
    "## Clearing Fundamental Notion about Operation in Python !"
   ]
  },
  {
   "cell_type": "markdown",
   "id": "d127c021",
   "metadata": {},
   "source": [
    "##### In Python Numbers Datatypes have very broad range it may be : integer , float , fraction , complex Numbers( a+bJ), Sets are also closely related to Numbers in Python , Boolean ( Yes Boolean are closely related to Numbers as True == 1  and False == 0   we will see more about them shortly)!\n"
   ]
  },
  {
   "cell_type": "markdown",
   "id": "a1d9ddee",
   "metadata": {},
   "source": [
    "#### Rememeber PYTHON is highly optimised for  number operation , thats why it has very string impact on Data Communities.\n",
    "#### Ability of python to handle large numbers is totally unmatched as compared to other language ! \n",
    "#### And with special designed libraries like numpy , pandas the ability of Python gets incresed exponently in case of dealing especiallly with numbers ."
   ]
  },
  {
   "cell_type": "code",
   "execution_count": null,
   "id": "4018296b",
   "metadata": {},
   "outputs": [
    {
     "name": "stdout",
     "output_type": "stream",
     "text": [
      "4\n",
      "9\n",
      "False\n",
      "True\n",
      "True\n",
      "True\n",
      "100\n",
      "-1\n",
      "0\n",
      "-10\n",
      "False\n",
      "False\n"
     ]
    },
    {
     "name": "stderr",
     "output_type": "stream",
     "text": [
      "<>:34: SyntaxWarning: \"is\" with 'int' literal. Did you mean \"==\"?\n",
      "<>:39: SyntaxWarning: \"is\" with 'int' literal. Did you mean \"==\"?\n",
      "<>:34: SyntaxWarning: \"is\" with 'int' literal. Did you mean \"==\"?\n",
      "<>:39: SyntaxWarning: \"is\" with 'int' literal. Did you mean \"==\"?\n",
      "C:\\Users\\Pankaj Yadav\\AppData\\Local\\Temp\\ipykernel_22124\\1103783558.py:34: SyntaxWarning: \"is\" with 'int' literal. Did you mean \"==\"?\n",
      "  print(True is 1)  # Guess  Yes Its  Is False coz surely True == 1 But , True is not same as 1 . so remembeer it\n",
      "C:\\Users\\Pankaj Yadav\\AppData\\Local\\Temp\\ipykernel_22124\\1103783558.py:39: SyntaxWarning: \"is\" with 'int' literal. Did you mean \"==\"?\n",
      "  print(False is 0)  # Guess  Yes Its  Is False coz surely True == 1 But , True is not same as 1 . so remembeer it\n"
     ]
    }
   ],
   "source": [
    "# Let Go! \n",
    "\n",
    "x = 1\n",
    "y = 3\n",
    "z = 8\n",
    "alpha = 1\n",
    "\n",
    "print(x + y)\n",
    "print(x + z)\n",
    "\n",
    "print( x == z)\n",
    "print( x == alpha)  # Expected! \n",
    "\n",
    "\n",
    "print( True == 1)  # Have you seen True == 1\n",
    "\n",
    "print(False == 0)  # Yess False == 0 \n",
    "\n",
    "# lets see some thing exciting \n",
    "\n",
    "print(True+99)   # wow True + 1 == 100\n",
    "\n",
    "print(True - 2) # 1 - 2 == -1\n",
    "\n",
    "print(4*False) # Hurrah! Its works \n",
    "\n",
    "print(False - 10)\n",
    "\n",
    "\n",
    "\n",
    "\n",
    "# BUT EQUAL TO AUR SAME HONE ME DIFFERENCE HAI LETS SEE! \n",
    "\n",
    "print(True is 1)  # Guess  Yes Its  Is False coz surely True == 1 But , True is not same as 1 . so remembeer it\n",
    "                  # values same hai but as object they are same! \n",
    "\n",
    "#as same ! \n",
    "\n",
    "print(False is 0)  # Guess  Yes Its  Is False coz surely False == 0 But , False is not same as 0 . so remembeer it\n",
    "                  # values same hai but as object they are same! \n",
    "\n",
    "\n",
    "\n",
    "# There is huge difference between being equal and being same! "
   ]
  },
  {
   "cell_type": "markdown",
   "id": "8d449db3",
   "metadata": {},
   "source": [
    "#### Operator Precedence! vs Real world working ! "
   ]
  },
  {
   "cell_type": "code",
   "execution_count": 1,
   "id": "1a0183af",
   "metadata": {},
   "outputs": [
    {
     "name": "stdout",
     "output_type": "stream",
     "text": [
      "70\n",
      "90\n"
     ]
    }
   ],
   "source": [
    "a = 10\n",
    "b = 20\n",
    "c = 3\n",
    "\n",
    "print(a+b*c)  # 70  ,  To know how it wok=rks we need opertor precedence but wait in real world cases you will not see such case where you have to think about opertor precedence coz  you will see that the operation that is required to get solved first we put that into closed prenthese() and that perenthesie will get solved first always !\n",
    "\n",
    "print((a+b)*c)  # 90  ,  coz (a+b) get solved first and then it get operated by * with c further!\n",
    "\n",
    "\n",
    "# If you want to learn operator precedence you may  but in real world production it might not be  as useful!  "
   ]
  },
  {
   "cell_type": "code",
   "execution_count": null,
   "id": "fad816db",
   "metadata": {},
   "outputs": [
    {
     "name": "stdout",
     "output_type": "stream",
     "text": [
      "2\n",
      "Pankaj\n",
      "2 4 10\n"
     ]
    },
    {
     "data": {
      "text/plain": [
       "(3, 4, 4)"
      ]
     },
     "execution_count": 11,
     "metadata": {},
     "output_type": "execute_result"
    }
   ],
   "source": [
    "# Something exciting ! \n",
    "# Python  allows you to prints varibale without print also! Remember it , But here is some difference in print(var_name)  as compare to direct Var_name see! \n",
    "# when we access single value without print it simply get prints but when we access multiple values without print result come as Tuple ! so remember it may be useful some time! \n",
    "\n",
    "\n",
    "x = 2\n",
    "y = 4\n",
    "z = 10\n",
    "Name = \"Pankaj\"\n",
    "\n",
    "print(x) # result come as 2.\n",
    "x  # Result comes as 2.\n",
    "print(Name) # here result came as Pankaj.\n",
    "Name  #  But here Result comes as 'Pankaj'.\n",
    "print(x,y,z) # result come as 2 4 10 simple.Remember comma doest get prints in with print.\n",
    "x,y,z  # result come as (2,4,10) i Tuple.\n",
    "x+1,z-6,y  # result come as  (3,4,4) as Tuple.\n",
    "\n"
   ]
  },
  {
   "cell_type": "code",
   "execution_count": null,
   "id": "0fa2ab97",
   "metadata": {},
   "outputs": [
    {
     "name": "stdout",
     "output_type": "stream",
     "text": [
      "18\n",
      "80\n",
      "13.28\n",
      "Ram3\n",
      "RamRamRamRam\n",
      "44444444\n"
     ]
    }
   ],
   "source": [
    "\n",
    "# Exploring more things! \n",
    "\n",
    "\n",
    "x = 8\n",
    "y = 10\n",
    "z = 30\n",
    "c = 3.28\n",
    "\n",
    "print(x+y)\n",
    "print(x*y)\n",
    "\n",
    "print(y +c)  # Good we got result but this is not good practice try to make sure that the both initaited variables have same datatypes coz yaha to kaakm chal gya but see next case ! \n",
    "\n",
    "# print(\"Pankaj\"+3)  # This is wrong and shows error ! coz pankaj and 3 are not of same data types !\n",
    "\n",
    "print(\"Ram\"+\"3\")  # Addition (basically it is concatenation as both are string ) , here \"3\" is string not int .venv/Include/\n",
    "\n",
    "\n",
    "print(\"Ram\"*4)   # Expected! when we multiply any string with any integer the values comes as that string gets repeated as may as times of number/int.\n",
    "\n",
    "print(\"4\"*8)  # wow ! here as 4 is string and 8 is integer thats why it happens .\n",
    "#print(\"Ram\"*\"4\")  # Error coz it is not vaid to multiply two strings ."
   ]
  },
  {
   "cell_type": "code",
   "execution_count": 26,
   "id": "dff285e5",
   "metadata": {},
   "outputs": [
    {
     "name": "stdout",
     "output_type": "stream",
     "text": [
      "20.0\n",
      "4\n",
      "12\n",
      "<class 'float'>\n",
      "<class 'int'>\n",
      "<class 'str'>\n"
     ]
    }
   ],
   "source": [
    "# Conversion \n",
    "\n",
    "x = float(20)  # we are converting 20(int)  into float.\n",
    "\n",
    "y = int(4.45)  # we converted float into int.\n",
    "\n",
    "z = \"12\"\n",
    "\n",
    "\n",
    "\n",
    "print(x)   \n",
    "print(y)\n",
    "print(z)\n",
    "\n",
    "\n",
    "\n",
    "print(type(x))  # x is float not int\n",
    "print(type(y))  # y is int not float\n",
    "print(type(z))  # z is str not int "
   ]
  },
  {
   "cell_type": "code",
   "execution_count": null,
   "id": "fb23109f",
   "metadata": {},
   "outputs": [
    {
     "name": "stdout",
     "output_type": "stream",
     "text": [
      "RamShyam\n",
      "Ram4\n"
     ]
    }
   ],
   "source": [
    "# Concatenation of two strings it is like addition of two string.\n",
    "\n",
    "print(\"Ram\"+\"Shyam\")\n",
    "\n",
    "print(\"Ram\"+\"4\")"
   ]
  },
  {
   "cell_type": "code",
   "execution_count": 32,
   "id": "5980216c",
   "metadata": {},
   "outputs": [
    {
     "name": "stdout",
     "output_type": "stream",
     "text": [
      "600\n",
      "2\n",
      "81\n"
     ]
    }
   ],
   "source": [
    "# exploring more operator ! \n",
    "\n",
    "x = 30\n",
    "y = 20\n",
    "z = 4\n",
    "\n",
    "print(x*y)\n",
    "print(x%z)\n",
    "print(3**z)"
   ]
  },
  {
   "cell_type": "code",
   "execution_count": null,
   "id": "f6b00d1a",
   "metadata": {},
   "outputs": [
    {
     "name": "stdout",
     "output_type": "stream",
     "text": [
      "10715086071862673209484250490600018105614048117055336074437503883703510511249361224931983788156958581275946729175531468251871452856923140435984577574698574803934567774824230985421074605062371141877954182153046474983581941267398767559165543946077062914571196477686542167660429831652624386837205668069376\n"
     ]
    }
   ],
   "source": [
    "# Rememeber PYTHON is highly optimised for  number operation see! \n",
    "# ability of python to handle large numbers is totally unmatched as compared to other language ! \n",
    "# And with special designed libraries like numpy , pandas the ability of Python gets incresed exponently in case of number handling ! \n",
    "\n",
    "print(2**1000)   # Its may see simple to you but actually this is very large complex values to handle and python did it perfectly agar koi language hoti to prooblem create hone lagti values me (e) ane lagta But python is best for dealing number! and with special designed libraries amd optimized hardware it is juts like beast."
   ]
  },
  {
   "cell_type": "code",
   "execution_count": null,
   "id": "a470aa2f",
   "metadata": {},
   "outputs": [],
   "source": [
    "# reper() , str () and print()   explore about them and their differences."
   ]
  },
  {
   "cell_type": "code",
   "execution_count": null,
   "id": "4fa925b2",
   "metadata": {},
   "outputs": [
    {
     "name": "stdout",
     "output_type": "stream",
     "text": [
      "True\n",
      "True\n",
      "False\n",
      "True\n",
      "True\n",
      "False\n",
      "True\n",
      "True\n"
     ]
    }
   ],
   "source": [
    "# Comparison! \n",
    "\n",
    "# Its is advised that Explore how AND and OR works with multiple condition! \n",
    "\n",
    "print(1<2)\n",
    "print( 5 == 5)\n",
    "print(99 != 99)\n",
    "\n",
    "\n",
    "x = 6\n",
    "y = 8\n",
    "z = 10\n",
    "\n",
    "print(x<y<z)  # This can also be written as !\n",
    "\n",
    "print( x < y and y < z)  # same \n",
    "\n",
    "\n",
    "print(1==3<6) # False as 1!=3 Behind the seen it has also AND condition! In And both need to be True and result willl be True! \n",
    "\n",
    "print(11 == 11 and 11 < 13)  # Great\n",
    "\n",
    "print(10 == 10 or 12 > 14)  # OR wala justone needs to be true and result will be true  .\n"
   ]
  },
  {
   "cell_type": "code",
   "execution_count": null,
   "id": "aaa812da",
   "metadata": {},
   "outputs": [
    {
     "data": {
      "text/plain": [
       "-28"
      ]
     },
     "execution_count": 51,
     "metadata": {},
     "output_type": "execute_result"
    }
   ],
   "source": [
    "# Some exciting methods on Maths! \n",
    "\n",
    "# floor() means GIF[ ] Function of maths simple.\n",
    "# trunc()  this gives the closeset integral value which is closeset to zero from that side of number .\n",
    "\n",
    "\n",
    "\n",
    "import math   # important hai nail it ! \n",
    "\n",
    "\n",
    "# Lets go for floor! \n",
    "\n",
    "math.floor(2.5)  # 2\n",
    "\n",
    "math.floor(10.8) # 10\n",
    "\n",
    "math.floor(18.54) # 18\n",
    "\n",
    "math.floor(-2.5) # -3\n",
    "\n",
    "math.floor(-10.8) #  - 11\n",
    "\n",
    "math.floor(-12.5) # - 13\n",
    "\n",
    "\n",
    "\n",
    "# see trunc()\n",
    "\n",
    "math.trunc(2.3)  # 3\n",
    "\n",
    "math.trunc(12) # 12\n",
    "\n",
    "math.trunc(23.3) # 23\n",
    "\n",
    "#  but for negative ones results are exciting.\n",
    "\n",
    "math.trunc(-23.5) # yes -23 not 24\n",
    "\n",
    "math.trunc(-28.9) # clear! \n",
    "\n",
    "\n",
    "\n"
   ]
  },
  {
   "cell_type": "code",
   "execution_count": null,
   "id": "f3a56f20",
   "metadata": {},
   "outputs": [
    {
     "name": "stdout",
     "output_type": "stream",
     "text": [
      "(13+11j)\n",
      "(9-13j)\n",
      "(76+36j)\n",
      "(168-8j)\n",
      "(15+25j)\n"
     ]
    }
   ],
   "source": [
    "# Complex Numbers : ( a + bj)  , where a is real part and bj is imaginary  , remember j is fiexd you cant chanmge it to i or with any otehr word.\n",
    "# we may do\n",
    "complex_1 = 3 + 5j\n",
    "complex_2 = 10 + 6j \n",
    "complex_3 = 12 - 8j\n",
    "\n",
    "print(complex_1 + complex_2)  # addition of complex number.\n",
    "\n",
    "print(complex_3 - complex_1)  # subtraction is allowed in complex number.\n",
    "\n",
    "print(complex_1*complex_3)  # Multiplication is also alowed but remember !  j**2 = -1 okay! \n",
    "\n",
    "print(complex_2*complex_3)  # Remember  j**2 = -1 okay! \n",
    "\n",
    "print(5*complex_1)   # scalar multiplication is also relevent in complex number! \n",
    "\n"
   ]
  },
  {
   "cell_type": "code",
   "execution_count": null,
   "id": "a1b52cc4",
   "metadata": {},
   "outputs": [
    {
     "name": "stdout",
     "output_type": "stream",
     "text": [
      "[3.14, 'Hii', 'Pankaj', 2.25]\n",
      "['Pankaj', 3.14, 'Hii', 2.25]\n"
     ]
    }
   ],
   "source": [
    "# random.random( ) , random.randint(a,b) , random.choice() and random.shuffle()   Methods ! Lets see them! \n",
    "\n",
    "\n",
    "import random  # it is also a crucial one master it \n",
    "\n",
    "\n",
    "\n",
    "# 1 : random.random() its value comes between 0 to 1.\n",
    "\n",
    "random.random()\n",
    "\n",
    "random.random()\n",
    "\n",
    "\n",
    "# 2 : random.randint(a,b) its gives integral value between a and b where b is inclusive yes inclusive here.\n",
    "\n",
    " \n",
    "random.randint(2,20)\n",
    "\n",
    "random.randint(2,20)  \n",
    "\n",
    "\n",
    "# 3: random.choice(var_name)  its gives any random value from pasee dataset as per its own choice.\n",
    "\n",
    "list_one = [1,2,3,\"Pankaj\",\"Rohit\",3.24]\n",
    "\n",
    "random.choice(list_one)\n",
    "\n",
    "random.choice(list_one)\n",
    "\n",
    "\n",
    "# random.shuffle(var_name)  # its just shuffle the order of entire data set by its own choice and makes changes in lists.\n",
    "\n",
    "tuple_1 = (1,2,3,\"Pankaj\",3,14)\n",
    "\n",
    "list_a = [\"Pankaj\",2.25,3.14,\"Hii\"]\n",
    "\n",
    "\n",
    "\n",
    "#random.shuffle(tuple_1)   #  Its doest works here coz tuple doest aloow to get mutate.\n",
    "\n",
    "random.shuffle(list_a)\n",
    "print(list_a)\n",
    "\n",
    "random.shuffle(list_a)\n",
    "print(list_a)\n",
    "\n",
    "# I guess facts are clear now what is reallly going on ! \n"
   ]
  },
  {
   "cell_type": "markdown",
   "id": "adfad7fc",
   "metadata": {},
   "source": [
    "### The Decimal Dillemaa in Python :"
   ]
  },
  {
   "cell_type": "code",
   "execution_count": null,
   "id": "95424faa",
   "metadata": {},
   "outputs": [
    {
     "name": "stdout",
     "output_type": "stream",
     "text": [
      "0.6000000000000001\n",
      "0.30000000000000004\n",
      "5.551115123125783e-17\n",
      "5.551115123125783e-17\n"
     ]
    }
   ],
   "source": [
    "# see \n",
    "\n",
    "print(0.1 + 0.2 + 0.3)  # 0.6 expected alright! \n",
    "\n",
    "print( 0.1 + 0.1 + 0.1) # 0.3 expected fine! \n",
    "\n",
    "\n",
    "# But now here is some shocking result ! \n",
    "\n",
    "\n",
    "print( 0.1 + 0.1 + 0.1 - 0.3) # gives 5.55555  but we expected answer will be 0\n",
    "# or \n",
    "print((0.1 + 0.1 + 0.1) - 0.3) # It also gives 5.55555  , oh here again this also doest  give 0 but why this happens .\n",
    "\n",
    "\n",
    "# But why this happens ! \n",
    "# see when we precisely play with decimals  operations plese dont go in calculations directly and always go with decimal methods , now see next cell ! \n",
    "\n"
   ]
  },
  {
   "cell_type": "code",
   "execution_count": null,
   "id": "0650c199",
   "metadata": {},
   "outputs": [
    {
     "data": {
      "text/plain": [
       "Decimal('0.0')"
      ]
     },
     "execution_count": 8,
     "metadata": {},
     "output_type": "execute_result"
    }
   ],
   "source": [
    "# decimals methods! Its is also a important one so have eyes on it .\n",
    "\n",
    "\n",
    "from decimal import  Decimal     # firstly import decimal  then specify numbers in decimal('value') then do operations.\n",
    "\n",
    "\n",
    "Decimal('0.1') + Decimal('0.1') + Decimal('0.1')   # result is expected! Decimal('0.3')\n",
    "\n",
    "# Now see our prevoius problem! \n",
    "\n",
    "Decimal('0.1') + Decimal('0.1') + Decimal('0.1')  - Decimal('0.3')  # ab sorted hai Decimal('0.0')\n",
    "\n"
   ]
  },
  {
   "cell_type": "markdown",
   "id": "72138c72",
   "metadata": {},
   "source": [
    "### Fractions : A Type of Number Data Type"
   ]
  },
  {
   "cell_type": "code",
   "execution_count": null,
   "id": "7cc44120",
   "metadata": {},
   "outputs": [
    {
     "name": "stdout",
     "output_type": "stream",
     "text": [
      "2/7 \n",
      "\n",
      "11/64\n"
     ]
    }
   ],
   "source": [
    "# To get Fractions we need to import some modules as \n",
    "\n",
    "from fractions import  Fraction \n",
    "\n",
    "frac_a = Fraction(2,7)  # It will give fraction as 2/7 .\n",
    "print(frac_a,\"\\n\")\n",
    "\n",
    "frac_b = Fraction(11,64) # Its will result fraction 11/64 .\n",
    "print(frac_b)\n",
    "\n",
    "\n"
   ]
  },
  {
   "cell_type": "markdown",
   "id": "995e403b",
   "metadata": {},
   "source": [
    "### Dealing with Set : "
   ]
  },
  {
   "cell_type": "code",
   "execution_count": null,
   "id": "78c82292",
   "metadata": {},
   "outputs": [
    {
     "name": "stdout",
     "output_type": "stream",
     "text": [
      "8\n",
      "{1, 2, 3}\n",
      "{2, 4}\n",
      "{1, 2, 3, 4, 9, 11, 46}\n",
      "{1, 2, 3, 4, 5, 9, 11, 12}\n",
      "set()\n",
      "<class 'dict'>\n",
      "Null set : set()\n"
     ]
    }
   ],
   "source": [
    "# Brushup the basic facts and synatx about the sets from notes :\n",
    "# this set is just same as set of mathematics and remember one thing each element in set must be treated as unique if any elememt appears more than one time it will just conts only one time .\n",
    "# example as :  set_a = { 1,2,3,4,,4,4,5,6,3}  is actually { 1,2,3,4,5,6}  we can also verify it via len method.\n",
    "\n",
    "set = { 1,2,3,3,3,4,5,6,8,8,8,8,7}  # here we have total 13 elemennts but it counts only unique values so it length will be 8 not 13 this is major property of set.\n",
    "print(len(set))\n",
    "\n",
    "set_one = {1,2, 3,4,}\n",
    "set_two = {2,4,5,9,11,12}\n",
    "\n",
    "# intersection of two sets and it done by  :   &  we know meaning of intersection of two set .\n",
    "# union of two set is done by   :   |   and we also know the meaning of union of two sets.\n",
    "# we can do set subtraction by simple : - \n",
    "\n",
    "\n",
    "\n",
    "print(set_one & {1,2,3})  # Intersection verified !\n",
    "\n",
    "# other way for set intersection:\n",
    "\n",
    "print(set_one.intersection(set_two))  # intersection method..\n",
    "\n",
    "print(set_one | {1,2,3,3,3,9,11,46})  # Union verified! \n",
    "\n",
    "# other way for set Union \n",
    "\n",
    "print(set_one.union(set_two))  # intersection method.\n",
    "\n",
    "\n",
    "# Syntax of Null set : Remember { } is sign for representing empty dictionary so to represent empty set we use set()  Ok! \n",
    "\n",
    "\n",
    "set_alpha = {1,4,9,16,25,36,49}\n",
    "\n",
    "print(set_alpha - {1,4,9,16,25,36,49})   # got it as its result is null set so it show set()  not { }  coz { }  represents empty dictionary! Remember that ! \n",
    "\n",
    "print(type({}))  # clear hai ab its is refering empty dict not empty set! empty set is refer by set().\n",
    "\n",
    "\n",
    "# lets see an exampel of null set i.e set()  with set subtraction operation.\n",
    "\n",
    "set_a = {10,20,30}\n",
    "set_b = {10,20,30}\n",
    "\n",
    "print(\"Null set :\", set_a - set_b) # Got it null set is represented by set() okay! \n",
    "\n",
    "\n"
   ]
  },
  {
   "cell_type": "code",
   "execution_count": null,
   "id": "9b83b6e7",
   "metadata": {},
   "outputs": [
    {
     "name": "stdout",
     "output_type": "stream",
     "text": [
      "{1, 2.3, 3, 4, 5, 6, 'Pankaj', ' Mridul Pandit '}\n",
      "{1, 2.3, 3, 4, 5, 6, ' Mridul Pandit '}\n",
      "7\n"
     ]
    }
   ],
   "source": [
    "# set methods :\n",
    "# sets are mutable , means we can changes the refernce and manipulate or tweek the set.\n",
    "# But elements of sets are non mutable datatype  like boolean, tuple , string but  we can't make list or dict as element of set as because they are mutable .\n",
    "collection_set = {1,2.3,3,4,\"Pankaj\",5,6}\n",
    "\n",
    "\n",
    "# we can add new elemnt using add(element ) method .\n",
    "collection_set.add(\" Mridul Pandit \")  # its makes changes in actual set wand to verify we can chage it ! \n",
    "print(collection_set)\n",
    "\n",
    "\n",
    "# we can delete new elemnt using remove (element) method .\n",
    "collection_set.remove(\"Pankaj\") # this makes changes in actual set\n",
    "print(collection_set)\n",
    "\n",
    "# If we try to remove element which is not present in set then it will throw error.\n",
    "\n",
    "print(len(collection_set))  # len() method gives the length of set.\n"
   ]
  },
  {
   "cell_type": "markdown",
   "id": "a89c8ffa",
   "metadata": {},
   "source": [
    "### Some Facts , Figures on Boolean Data Type : "
   ]
  },
  {
   "cell_type": "code",
   "execution_count": null,
   "id": "b11affde",
   "metadata": {},
   "outputs": [
    {
     "name": "stdout",
     "output_type": "stream",
     "text": [
      "True\n",
      "True\n",
      "False\n",
      "True\n",
      "False\n",
      "False\n",
      "True\n",
      "False\n",
      "0\n",
      "5\n",
      "12\n",
      "False\n",
      "False\n"
     ]
    },
    {
     "name": "stderr",
     "output_type": "stream",
     "text": [
      "<>:32: SyntaxWarning: \"is\" with 'int' literal. Did you mean \"==\"?\n",
      "<>:34: SyntaxWarning: \"is\" with 'int' literal. Did you mean \"==\"?\n",
      "<>:32: SyntaxWarning: \"is\" with 'int' literal. Did you mean \"==\"?\n",
      "<>:34: SyntaxWarning: \"is\" with 'int' literal. Did you mean \"==\"?\n",
      "C:\\Users\\Pankaj Yadav\\AppData\\Local\\Temp\\ipykernel_9936\\502905598.py:32: SyntaxWarning: \"is\" with 'int' literal. Did you mean \"==\"?\n",
      "  print(True is 1)   # False yes coz surely True == 1 but true is not as 1 !  Its all about same referencing!\n",
      "C:\\Users\\Pankaj Yadav\\AppData\\Local\\Temp\\ipykernel_9936\\502905598.py:34: SyntaxWarning: \"is\" with 'int' literal. Did you mean \"==\"?\n",
      "  print(False is 0)   # Again False coz False == 0 but false is not 0.\n"
     ]
    }
   ],
   "source": [
    "# In like in case of Python's memory management , same in context of Boolean Having same same hand having equal is different! \n",
    "# same is equal as well but equal is not same ! see\n",
    "\n",
    "\n",
    "\n",
    "print(5 == 5)\n",
    "\n",
    "print(2 != 3)\n",
    "\n",
    "print(3 != 3)\n",
    "\n",
    "print(True == 1)\n",
    "\n",
    "print(False == 1)\n",
    "\n",
    "print( True != 1)\n",
    "\n",
    "print(False != 1)\n",
    "\n",
    "print(False != 0)\n",
    "\n",
    "# Lets explore some goodies \n",
    "\n",
    "# Rememeber True == 1 and False == 0 .\n",
    "\n",
    "print(False * 9) # 0 * 9 == 0\n",
    "print(True*5) # 1*5 == 5\n",
    "print(True + 11)  # 1 + 11 == 12\n",
    "\n",
    "\n",
    "\n",
    "\n",
    "# But get ready for shock ! \n",
    "\n",
    "print(True is 1)   # False yes coz surely True == 1 but true is not same  as 1 !  Its all about same referencing!\n",
    "\n",
    "print(False is 0)   # Again False coz False == 0 but false is not same  0.\n"
   ]
  },
  {
   "cell_type": "code",
   "execution_count": null,
   "id": "c832f158",
   "metadata": {},
   "outputs": [
    {
     "name": "stdout",
     "output_type": "stream",
     "text": [
      "ACCHI CHAI\n"
     ]
    }
   ],
   "source": [
    "# some points to remember : In python \n",
    "\n",
    "chai = \"ACCHI CHAI\"\n",
    "chai   # this give : ' ACCHI CHAI'  we prefer this in shell/Terminal coding generally.\n",
    "print(chai)  # But this gives :  ACCHI CHAI   we prefer it in actual file codes."
   ]
  },
  {
   "cell_type": "markdown",
   "id": "7cb857cd",
   "metadata": {},
   "source": [
    "###  Operations on Boolean Data Type : "
   ]
  },
  {
   "cell_type": "code",
   "execution_count": null,
   "id": "47007edc",
   "metadata": {},
   "outputs": [
    {
     "name": "stdout",
     "output_type": "stream",
     "text": [
      "<class 'bool'>\n",
      "<class 'bool'>\n",
      "True\n",
      "False\n",
      "True\n",
      "False\n"
     ]
    },
    {
     "name": "stderr",
     "output_type": "stream",
     "text": [
      "<>:9: SyntaxWarning: \"is\" with 'int' literal. Did you mean \"==\"?\n",
      "<>:14: SyntaxWarning: \"is\" with 'int' literal. Did you mean \"==\"?\n",
      "<>:9: SyntaxWarning: \"is\" with 'int' literal. Did you mean \"==\"?\n",
      "<>:14: SyntaxWarning: \"is\" with 'int' literal. Did you mean \"==\"?\n",
      "C:\\Users\\Pankaj Yadav\\AppData\\Local\\Temp\\ipykernel_11720\\2123924007.py:9: SyntaxWarning: \"is\" with 'int' literal. Did you mean \"==\"?\n",
      "  print(True is 1)  # But not same .\n",
      "C:\\Users\\Pankaj Yadav\\AppData\\Local\\Temp\\ipykernel_11720\\2123924007.py:14: SyntaxWarning: \"is\" with 'int' literal. Did you mean \"==\"?\n",
      "  print(False is 0)  # But not same .\n"
     ]
    }
   ],
   "source": [
    "# lets see \n",
    "\n",
    "print(type(True))  # it is boolean data type.\n",
    "print(type(False))  # same \n",
    "\n",
    "  # lets recape some prior ones\n",
    "\n",
    "print(True == 1)  # equal hai.\n",
    "print(True is 1)  # But not same .\n",
    "\n",
    "  # Lets  recap some prior ones .\n",
    "\n",
    "print(False == 0)  # equal hai.\n",
    "print(False is 0)  # But not same .\n",
    "\n",
    "\n",
    "# Its all about the game of same or different referencing in back view."
   ]
  },
  {
   "cell_type": "code",
   "execution_count": null,
   "id": "1f885162",
   "metadata": {},
   "outputs": [
    {
     "name": "stdout",
     "output_type": "stream",
     "text": [
      "True\n",
      "False\n"
     ]
    }
   ],
   "source": [
    "# Negatation of Boolean data type :\n",
    "\n",
    "print(not False)  # opposite of True.\n",
    "\n",
    "print(not True)  # negatation of False.\n"
   ]
  },
  {
   "cell_type": "code",
   "execution_count": 3,
   "id": "6bcf7518",
   "metadata": {},
   "outputs": [
    {
     "name": "stdout",
     "output_type": "stream",
     "text": [
      "True\n",
      "False\n",
      "False\n",
      "True\n",
      "False\n",
      "False\n",
      "False\n",
      "True\n"
     ]
    }
   ],
   "source": [
    "# application of Bollean datatype :\n",
    "\n",
    "list = [1,2,3,4,5]\n",
    "name = \"pankaj\"\n",
    "set_1 = {\"name\" : \"Pankaj\",\"class\": 12}\n",
    "\n",
    "print(2 in list) #  yes 2 is present in list \n",
    "print(9 in list) # coz 9 is not in list.\n",
    "print(4 not in list)   # false coz there is 4 in list.\n",
    "print(\"k\" in name)  # true cox there is k in name = \"pankaj\"\n",
    "print(\"aj\" not in name)  # false coz there is aj in \"pankaj\"\n",
    "print(\"ak\" in name)  # false coz there is no ak in pankaj .\n",
    "\n",
    "print(\"Pankaj\" in name)   # false coz in set in check over keys not on values and as there is no such key Pankaj it returns False.\n",
    "print(\"name\" in set_1)\n",
    "\n",
    "# as we have various concepts  . "
   ]
  }
 ],
 "metadata": {
  "kernelspec": {
   "display_name": ".venv",
   "language": "python",
   "name": "python3"
  },
  "language_info": {
   "codemirror_mode": {
    "name": "ipython",
    "version": 3
   },
   "file_extension": ".py",
   "mimetype": "text/x-python",
   "name": "python",
   "nbconvert_exporter": "python",
   "pygments_lexer": "ipython3",
   "version": "3.13.3"
  }
 },
 "nbformat": 4,
 "nbformat_minor": 5
}
