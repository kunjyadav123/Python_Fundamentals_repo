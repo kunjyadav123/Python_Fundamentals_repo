{
 "cells": [
  {
   "cell_type": "markdown",
   "metadata": {},
   "source": [
    "# Lecture 10:"
   ]
  },
  {
   "cell_type": "code",
   "execution_count": null,
   "metadata": {},
   "outputs": [],
   "source": [
    "# RECURSION IN PYTHON:\n"
   ]
  },
  {
   "cell_type": "code",
   "execution_count": null,
   "metadata": {},
   "outputs": [],
   "source": [
    "# Analogy in uses of recursiin and loop:\n",
    "# For simpler problems we uses loops .\n",
    "# But for complex ones we uses recursion.\n",
    "# But remember one same task may be performed by both loops and recursion and only deciding factor is difficulty level. If easy it will be loops but for complex ones use recursion.\n",
    "# To understand recursion efficeintly understand the working of callsatck concept.\n",
    "# Recursion usages are ideal in case for Recursive Relation like in case of factorial, sum of first n numbers etc.\n",
    "# Go and explore little about recursive relation."
   ]
  },
  {
   "cell_type": "code",
   "execution_count": null,
   "metadata": {},
   "outputs": [],
   "source": [
    "#  lets go:\n",
    "# Rercursion : When function calls it self repeteldly till base case i.e till return statement( base case is like analogy to stopping condition of loops.)"
   ]
  },
  {
   "cell_type": "code",
   "execution_count": null,
   "metadata": {},
   "outputs": [
    {
     "name": "stdout",
     "output_type": "stream",
     "text": [
      "8\n",
      "7\n",
      "6\n",
      "5\n",
      "4\n",
      "3\n",
      "2\n",
      "1\n"
     ]
    }
   ],
   "source": [
    "# Basic questiona and syntax understanding.\n",
    "# QUESTION 1: Print value n to 1 backward.\n",
    "\n",
    "\n",
    "# Recursive function:\n",
    "\n",
    "def show(n):\n",
    "    if (n == 0): # Base case it just like stoppinng condition of loops and it commands return statement. And at base condition loop like functioning stops once condition of base case satisfied. So it is very important to execute base case otherwise it absence created infinite loop.\n",
    "        return # aur ek baat base case ki value exclusive hoti hai thats why 0 does not print here.\n",
    "    print(n)\n",
    "    show(n-1) # we can not call this show function infinitely.We must need to specify base case for return statement bcoz for avoinding infinite loop case which is dangerous.\n",
    "show(8)\n"
   ]
  },
  {
   "cell_type": "code",
   "execution_count": 12,
   "metadata": {},
   "outputs": [
    {
     "name": "stdout",
     "output_type": "stream",
     "text": [
      "120\n",
      "119\n",
      "118\n",
      "117\n",
      "116\n",
      "115\n",
      "114\n",
      "113\n",
      "112\n",
      "111\n",
      "110\n",
      "109\n",
      "108\n",
      "107\n",
      "106\n",
      "105\n",
      "104\n",
      "103\n",
      "102\n",
      "101\n",
      "100\n",
      "99\n",
      "98\n",
      "97\n",
      "96\n",
      "95\n",
      "94\n",
      "93\n",
      "92\n",
      "91\n",
      "90\n",
      "89\n",
      "88\n",
      "87\n",
      "86\n",
      "85\n",
      "84\n",
      "83\n",
      "82\n",
      "81\n",
      "80\n",
      "79\n",
      "78\n",
      "77\n",
      "76\n",
      "75\n",
      "74\n",
      "73\n",
      "72\n",
      "71\n",
      "70\n",
      "69\n",
      "68\n",
      "67\n",
      "66\n",
      "65\n",
      "64\n",
      "63\n",
      "62\n",
      "61\n",
      "60\n",
      "59\n",
      "58\n",
      "57\n",
      "56\n",
      "55\n",
      "54\n",
      "53\n",
      "52\n",
      "51\n",
      "50\n",
      "49\n",
      "48\n",
      "47\n",
      "46\n",
      "45\n",
      "44\n",
      "43\n",
      "42\n",
      "41\n",
      "40\n",
      "39\n",
      "38\n",
      "37\n",
      "36\n",
      "35\n",
      "34\n",
      "33\n",
      "32\n",
      "31\n",
      "30\n",
      "29\n",
      "28\n",
      "27\n",
      "26\n",
      "25\n",
      "24\n",
      "23\n",
      "22\n",
      "21\n",
      "20\n",
      "19\n",
      "18\n",
      "17\n",
      "16\n",
      "15\n",
      "14\n",
      "13\n",
      "12\n",
      "11\n",
      "10\n",
      "9\n",
      "8\n",
      "7\n",
      "6\n",
      "5\n",
      "4\n",
      "3\n",
      "2\n",
      "1\n",
      "0\n",
      "-1\n",
      "-2\n",
      "-3\n",
      "-4\n"
     ]
    }
   ],
   "source": [
    "# Example \n",
    "# Print number between 120 to -4 using recursion.\n",
    "def show(n):\n",
    "    if(n == -5):\n",
    "        return\n",
    "    print(n)\n",
    "    show(n-1)\n",
    "show(120)    \n",
    "    "
   ]
  },
  {
   "cell_type": "code",
   "execution_count": null,
   "metadata": {},
   "outputs": [
    {
     "name": "stdout",
     "output_type": "stream",
     "text": [
      "8\n",
      "7\n",
      "6\n",
      "5\n",
      "4\n",
      "3\n",
      "2\n",
      "1\n",
      "0\n",
      "-1\n",
      "Hello World\n",
      "Hello World\n",
      "Hello World\n",
      "Hello World\n",
      "Hello World\n",
      "Hello World\n",
      "Hello World\n",
      "Hello World\n",
      "Hello World\n",
      "Hello World\n"
     ]
    }
   ],
   "source": [
    "# After call stack keeps removing one by one then task outside of recursion keeps executing then.see\n",
    "\n",
    "def show(n): \n",
    "    if (n == -2):\n",
    "        return\n",
    "    # print(n)\n",
    "    show(n-1)\n",
    "    print(\"Hello World\") # This task comes outside of recursion so it will print after call stack removal and will print 10 times here because during call stack creation 10 numbers will print( i.e 10 call stack bundels will print) so when 10 builds  so 10 will fall and each time task outside recursion will be performed. This process is called BACK TRACKING.\n",
    "show(8)\n",
    "# maja aaya "
   ]
  },
  {
   "cell_type": "code",
   "execution_count": 1,
   "metadata": {},
   "outputs": [
    {
     "name": "stdout",
     "output_type": "stream",
     "text": [
      "-1\n",
      "0\n",
      "1\n",
      "2\n",
      "3\n",
      "4\n",
      "5\n",
      "6\n",
      "7\n",
      "8\n"
     ]
    }
   ],
   "source": [
    "# After call stack keeps removing one by one then task outside of recursion keeps executing then.see\n",
    "\n",
    "def show(n): \n",
    "    if (n == -2):\n",
    "        return\n",
    "    # print(n)\n",
    "    show(n-1)\n",
    "    print(n) # This task comes outside of recursion so it will print after call stack removal and will print 10 times here because during call stack creation 10 numbers will print( i.e 10 call stack bundels will print) so when 10 builds  so 10 will fall and each time task outside recursion will be performed. This process is called BACK TRACKING.\n",
    "show(8)\n",
    "# maja aaya "
   ]
  },
  {
   "cell_type": "code",
   "execution_count": null,
   "metadata": {},
   "outputs": [
    {
     "name": "stdout",
     "output_type": "stream",
     "text": [
      "120\n"
     ]
    }
   ],
   "source": [
    "# RECURSION EXAMPLE AND VIZULIZATION ON RECURSIVE RELATION.\n",
    "\n",
    "# Using concept of recuesion print factorial of number(n):\n",
    "\n",
    "# HOW RECURSIVE RELATION WORKS HERE SEEE ;   n! = n * (n-1)! and this recursive pattern keeps continues till n!== 0! or 1!  == 1 and how it works.\n",
    "\n",
    "def fact(n):\n",
    "    if (n == 0 or n== 1):\n",
    "        return 1\n",
    "    else:\n",
    "        return fact(n-1)* n\n",
    "print(fact(5))"
   ]
  },
  {
   "cell_type": "code",
   "execution_count": 25,
   "metadata": {},
   "outputs": [
    {
     "name": "stdout",
     "output_type": "stream",
     "text": [
      "Hello world\n",
      "24\n",
      "40320\n"
     ]
    }
   ],
   "source": [
    "# once more\n",
    "\n",
    "def fact(x):\n",
    "    if (x == 0 or x== 1):\n",
    "        return 1\n",
    "    else: \n",
    "        return x * fact(x-1)\n",
    "print(\"Hello world\") # task outside of recursive dpmain.\n",
    "print(fact(4))\n",
    "print(fact(8))\n",
    "    \n"
   ]
  },
  {
   "cell_type": "code",
   "execution_count": 1,
   "metadata": {},
   "outputs": [
    {
     "name": "stdout",
     "output_type": "stream",
     "text": [
      "15\n",
      "21\n",
      "66\n",
      "210\n",
      "325\n"
     ]
    }
   ],
   "source": [
    "# write a programm to print sum of first n natural number using concept of recursion.\n",
    "\n",
    "# HOW RECURSIVE RELATION WORKS HERE SEEE ;   sum of first n numbers = n + sum of first (n-1) numbers and this recursive pattern keeps continues till  sum of first number 1 = 1 and how it works.\n",
    "\n",
    "def cal_sum(n):\n",
    "    if (n == 1):\n",
    "        return 1\n",
    "    else:\n",
    "        return cal_sum(n-1) + n\n",
    "print(cal_sum(5))   \n",
    "print(cal_sum(6)) \n",
    "Y = cal_sum(11)\n",
    "print(Y)\n",
    "print(cal_sum(20))\n",
    "X = cal_sum(25)\n",
    "print(X)\n",
    "# Hurrah!\n",
    "\n",
    "\n"
   ]
  },
  {
   "cell_type": "code",
   "execution_count": null,
   "metadata": {},
   "outputs": [
    {
     "name": "stdout",
     "output_type": "stream",
     "text": [
      "pankaj\n",
      "Rajan pandit\n",
      "mohit \n",
      "34\n",
      "@\n",
      "78.65\n",
      "arjun\n",
      "aditya\n",
      "raj\n",
      "78.9\n",
      "40\n"
     ]
    }
   ],
   "source": [
    "# writr an recursive function to print all element of list . Hint = use index and list as parameter of function.\n",
    "\n",
    "list1 = [\"pankaj\", \"Rajan pandit\",\"mohit \",34,\"@\",78.65]\n",
    "list2 = [\"arjun\",\"aditya\",\"raj\",78.90,40]\n",
    "\n",
    "\n",
    "def print_list(list,idx = 0):\n",
    "    if(idx == len(list)):\n",
    "        return \n",
    "    print(list[idx])\n",
    "    print_list(list,idx+1)\n",
    "\n",
    "print_list(list1)\n",
    "print_list(list2)\n",
    "\n",
    "\n"
   ]
  }
 ],
 "metadata": {
  "kernelspec": {
   "display_name": "Python 3",
   "language": "python",
   "name": "python3"
  },
  "language_info": {
   "codemirror_mode": {
    "name": "ipython",
    "version": 3
   },
   "file_extension": ".py",
   "mimetype": "text/x-python",
   "name": "python",
   "nbconvert_exporter": "python",
   "pygments_lexer": "ipython3",
   "version": "3.13.1"
  }
 },
 "nbformat": 4,
 "nbformat_minor": 2
}
