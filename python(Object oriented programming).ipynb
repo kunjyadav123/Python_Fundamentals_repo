{
 "cells": [
  {
   "cell_type": "markdown",
   "metadata": {},
   "source": [
    "# LECTURE 12 : "
   ]
  },
  {
   "cell_type": "code",
   "execution_count": null,
   "metadata": {},
   "outputs": [],
   "source": [
    "# OBJECT ORIENTED PROGRAMMING: PART 1"
   ]
  },
  {
   "cell_type": "code",
   "execution_count": null,
   "metadata": {},
   "outputs": [],
   "source": [
    "# To map with real world scenerio we started using real world problems in code and this is called OOPS.\n",
    "# level 1: procedural programming where we writes code sequentially.\n",
    "# level2 : where we introduced function which enhanced code readbbility and reusability and reduced code redundancy.\n",
    "# level top: OOPS which will deal with real world scenerio."
   ]
  },
  {
   "cell_type": "code",
   "execution_count": null,
   "metadata": {},
   "outputs": [],
   "source": [
    "# OBJECTS AND CLASSES IN OOPS:\n",
    "\n",
    "# Class is a blueprint for creating objects. i.e class is basic and initial overview about the object.\n",
    "# steps1 : first we creates classes \n",
    "# step2 : then we creates object associated with classes.\n",
    "# here object are also known as instance of class. v"
   ]
  },
  {
   "cell_type": "code",
   "execution_count": 4,
   "metadata": {},
   "outputs": [
    {
     "name": "stdout",
     "output_type": "stream",
     "text": [
      "<__main__.Student object at 0x000001B5DB213A10>\n",
      "Karan kumar\n",
      "Karan kumar\n"
     ]
    }
   ],
   "source": [
    "# Example1: syntax and basics overview about classes and object.\n",
    "\n",
    "# creating classes :\n",
    "class Student: # here class is keyword and Student is class here and class name is always starts with capital letter.\n",
    "    name = \"Karan kumar\" # this format leads thats each classes will have same name karan.\n",
    "\n",
    "# craeting object(instances):\n",
    "s1 = Student() # HERE s1 is object.\n",
    "print(s1) # this gives us idea about it is basically an object.\n",
    "print(s1.name)  # association of object works with classes.\n",
    "s2 = Student()\n",
    "print(s2.name) # same name as per used format , stay patient we will see such meth0d also which d=giveds diff-diff values.\n",
    "\n"
   ]
  },
  {
   "cell_type": "code",
   "execution_count": null,
   "metadata": {},
   "outputs": [
    {
     "name": "stdout",
     "output_type": "stream",
     "text": [
      "Blue\n",
      "mercedese\n",
      "<__main__.Cars object at 0x000001BEEED93770>\n",
      "Blue\n",
      "mercedese\n"
     ]
    }
   ],
   "source": [
    "# example 2:\n",
    "# creating classes\n",
    "class Cars:\n",
    "    colour = \"Blue\" # as per this format each class name will be Blue.\n",
    "    brand = \"mercedese\"# as per this format each class brand will be mercedese.\n",
    "# creating objects\n",
    "s1 = Cars()\n",
    "print(s1.colour)                          \n",
    "print(s1.brand)\n",
    "print(s1) # gives basic idea about s1 is an object.\n",
    "print(s1.colour)\n",
    "print(s1.brand)\n",
    "\n",
    "\n",
    "# advice : be comfortable with basic syntax of calsses and objecys as soon as possible."
   ]
  },
  {
   "cell_type": "code",
   "execution_count": null,
   "metadata": {},
   "outputs": [
    {
     "name": "stdout",
     "output_type": "stream",
     "text": [
      "pankaj\n",
      "A\n",
      "maths\n",
      "<__main__.Student object at 0x00000213CE589160>\n"
     ]
    }
   ],
   "source": [
    "# Example 3 :\n",
    "\n",
    "class Student:\n",
    "    name = \"pankaj\"\n",
    "    subject = \"maths\"\n",
    "    section = \"A\"\n",
    "\n",
    "stu1 = Student()\n",
    "print(stu1.name )\n",
    "print(stu1.section)\n",
    "print(stu1.subject) \n",
    "print(stu1) # This is basic crux of class and object."
   ]
  },
  {
   "cell_type": "code",
   "execution_count": null,
   "metadata": {},
   "outputs": [],
   "source": [
    "#  CONSTRUCTOR : __INIT__ FUNCTION IN PYTHON ;\n",
    "# NOW FROM HERE USE HARDCOPY NOTES AND HERE WE WILL DO ONLY PRACTICE AND PRACTICE ONLY. LETS go"
   ]
  },
  {
   "cell_type": "code",
   "execution_count": null,
   "metadata": {},
   "outputs": [
    {
     "name": "stdout",
     "output_type": "stream",
     "text": [
      "helllo pankaj !\n"
     ]
    }
   ],
   "source": [
    "# Basics \n",
    "\n",
    "class Student:\n",
    "    name = \"Pankaj\"\n",
    "    def __init__(self):\n",
    "        print(\"helllo pankaj !\")\n",
    "\n",
    "s1 = Student() # even though we did not called anything but this but constructor got called by it self and task within the init function got called by itself as init function got called by at ojject creation.\n"
   ]
  },
  {
   "cell_type": "code",
   "execution_count": null,
   "metadata": {},
   "outputs": [
    {
     "name": "stdout",
     "output_type": "stream",
     "text": [
      "<__main__.Student object at 0x00000213CE5892B0>\n",
      "helllo pankaj !\n",
      "<__main__.Student object at 0x00000213CE5892B0>\n"
     ]
    }
   ],
   "source": [
    "class Student:\n",
    "    name = \"Pankaj\"\n",
    "    def __init__(self):\n",
    "        print(self) # this address as object and print(s1) also address as object and threre path location is same  hence proved self gives reference about the object.\n",
    "        print(\"helllo pankaj !\")\n",
    "\n",
    "s1 = Student() # even though we did not called anything but this but constructor got called by it self.\n",
    "print(s1) # "
   ]
  },
  {
   "cell_type": "code",
   "execution_count": null,
   "metadata": {},
   "outputs": [],
   "source": [
    "# Specifying the self as parameter is mandatory and self is first prameter and uske baad multiple parameter pass kr skte ho as par need.\n",
    "# So self parameter is first parameter.and it is mandatory to implemetnt with init function.\n",
    "# The data stores in variable of class and object as parameter is known as attribuetes. like name , colour etc "
   ]
  },
  {
   "cell_type": "code",
   "execution_count": null,
   "metadata": {},
   "outputs": [
    {
     "name": "stdout",
     "output_type": "stream",
     "text": [
      "helllo pankaj !\n",
      "Rohit\n"
     ]
    }
   ],
   "source": [
    "# Passing  parameter in constructor other than self:\n",
    "# we may pass other parmeter apart from self , remember self is mandatory but other parameter is optional and put them as per need\n",
    "\n",
    "\n",
    "class Student:\n",
    "    roll_no = 12\n",
    "    def __init__(self,name):\n",
    "        self.name = name\n",
    "        print(\"helllo pankaj !\")\n",
    "\n",
    "s1 = Student(\"Rohit\") \n",
    "print(s1.name)\n",
    "\n"
   ]
  },
  {
   "cell_type": "code",
   "execution_count": null,
   "metadata": {},
   "outputs": [
    {
     "name": "stdout",
     "output_type": "stream",
     "text": [
      "helllo pankaj !\n",
      "Rohit\n",
      "Brown\n",
      "Brown Rohit\n"
     ]
    }
   ],
   "source": [
    "# Multiple parameter passing:\n",
    "\n",
    "class Student:\n",
    "    roll_no = 12\n",
    "    def __init__(self,name,colour):\n",
    "        self.name = name\n",
    "        self.colour = colour\n",
    "        print(\"helllo pankaj !\")\n",
    "\n",
    "s1 = Student(\"Rohit\",\"Brown\") \n",
    "print(s1.name)\n",
    "print(s1.colour)\n",
    "# or\n",
    "print(s1.colour,s1.name)\n",
    "\n",
    "\n"
   ]
  },
  {
   "cell_type": "code",
   "execution_count": null,
   "metadata": {},
   "outputs": [
    {
     "ename": "TypeError",
     "evalue": "Student.__init__() missing 1 required positional argument: 'section'",
     "output_type": "error",
     "traceback": [
      "\u001b[31m---------------------------------------------------------------------------\u001b[39m",
      "\u001b[31mTypeError\u001b[39m                                 Traceback (most recent call last)",
      "\u001b[36mCell\u001b[39m\u001b[36m \u001b[39m\u001b[32mIn[11]\u001b[39m\u001b[32m, line 9\u001b[39m\n\u001b[32m      6\u001b[39m         \u001b[38;5;28mself\u001b[39m.section = section\n\u001b[32m      7\u001b[39m         \u001b[38;5;28mprint\u001b[39m(\u001b[33m\"\u001b[39m\u001b[33mhelllo pankaj !\u001b[39m\u001b[33m\"\u001b[39m)\n\u001b[32m----> \u001b[39m\u001b[32m9\u001b[39m s1 = \u001b[43mStudent\u001b[49m\u001b[43m(\u001b[49m\u001b[33;43m\"\u001b[39;49m\u001b[33;43mRohit\u001b[39;49m\u001b[33;43m\"\u001b[39;49m\u001b[43m,\u001b[49m\u001b[33;43m\"\u001b[39;49m\u001b[33;43mBrown\u001b[39;49m\u001b[33;43m\"\u001b[39;49m\u001b[43m)\u001b[49m \n\u001b[32m     10\u001b[39m \u001b[38;5;28mprint\u001b[39m(s1.name)\n\u001b[32m     11\u001b[39m \u001b[38;5;28mprint\u001b[39m(s1.colour)\n",
      "\u001b[31mTypeError\u001b[39m: Student.__init__() missing 1 required positional argument: 'section'"
     ]
    }
   ],
   "source": [
    "class Student:\n",
    "    roll_no = 12\n",
    "    def __init__(self,name,colour,section):\n",
    "        self.name = name\n",
    "        self.colour = colour\n",
    "        self.section = section\n",
    "        print(\"helllo pankaj !\")\n",
    "\n",
    "s1 = Student(\"Rohit\",\"Brown\")  # error aya kyu ki posittional argument of object does not as per positional argument of init function.to ye dhyan rahe ki jitne parameter init function me passed (self ko chod ke vo to object ka refernce hai) hai utne hi object me bhi passed ho.Us parameter ko print karana optional hai vo tumhare need ke upar hai.\n",
    "print(s1.name)\n",
    "print(s1.colour)\n",
    "\n",
    "\n",
    "\n",
    "\n"
   ]
  },
  {
   "cell_type": "code",
   "execution_count": null,
   "metadata": {},
   "outputs": [
    {
     "name": "stdout",
     "output_type": "stream",
     "text": [
      "helllo pankaj !\n",
      "Rohit\n",
      "Brown\n"
     ]
    }
   ],
   "source": [
    "class Student:\n",
    "    roll_no = 12\n",
    "    def __init__(self,name,colour,section):\n",
    "        self.name = name\n",
    "        self.colour = colour\n",
    "        self.section = section\n",
    "        print(\"helllo pankaj !\")\n",
    "\n",
    "s1 = Student(\"Rohit\",\"Brown\",\"A\")  # error aya kyu ki posittional argument of object does not as per positional argument of init function.to ye dhyan rahe ki jitne parameter init function me passed (self ko chod ke vo to object ka refernce hai) hai utne hi object me bhi passed ho.Us parameter ko print karana optional hai vo tumhare need ke upar hai.\n",
    "print(s1.name)                     # Dekho is baar error nii aya! as printing argument is as per need. we did't print(s1.section) because need nii thi.\n",
    "print(s1.colour)\n",
    "\n"
   ]
  },
  {
   "cell_type": "code",
   "execution_count": null,
   "metadata": {},
   "outputs": [
    {
     "name": "stdout",
     "output_type": "stream",
     "text": [
      "helllo pankaj !\n",
      "Rohit\n",
      "Brown\n",
      "helllo pankaj !\n",
      "pankaj\n",
      "white B\n"
     ]
    }
   ],
   "source": [
    "# passing multiple parameter in multiple objects.\n",
    "\n",
    "class Student:\n",
    "    roll_no = 12\n",
    "    def __init__(self,name,colour,section):\n",
    "        self.name = name\n",
    "        self.colour = colour\n",
    "        self.section = section\n",
    "        print(\"helllo pankaj !\")\n",
    "\n",
    "s1 = Student(\"Rohit\",\"Brown\",\"A\")  \n",
    "print(s1.name)                     \n",
    "print(s1.colour)\n",
    "s2 = Student(\"pankaj\",\"white\",\"B\")  # multiple object creation with multiple poarameter.\n",
    "print(s2.name)\n",
    "print(s2.colour,s2.section)\n",
    "\n"
   ]
  },
  {
   "cell_type": "code",
   "execution_count": null,
   "metadata": {},
   "outputs": [
    {
     "name": "stdout",
     "output_type": "stream",
     "text": [
      "helllo pankaj !\n",
      "Rohit\n",
      "Brown\n"
     ]
    },
    {
     "ename": "TypeError",
     "evalue": "Student.__init__() missing 1 required positional argument: 'section'",
     "output_type": "error",
     "traceback": [
      "\u001b[31m---------------------------------------------------------------------------\u001b[39m",
      "\u001b[31mTypeError\u001b[39m                                 Traceback (most recent call last)",
      "\u001b[36mCell\u001b[39m\u001b[36m \u001b[39m\u001b[32mIn[19]\u001b[39m\u001b[32m, line 12\u001b[39m\n\u001b[32m     10\u001b[39m \u001b[38;5;28mprint\u001b[39m(s1.name)                     \n\u001b[32m     11\u001b[39m \u001b[38;5;28mprint\u001b[39m(s1.colour)\n\u001b[32m---> \u001b[39m\u001b[32m12\u001b[39m s2 = \u001b[43mStudent\u001b[49m\u001b[43m(\u001b[49m\u001b[33;43m\"\u001b[39;49m\u001b[33;43mpankaj\u001b[39;49m\u001b[33;43m\"\u001b[39;49m\u001b[43m,\u001b[49m\u001b[33;43m\"\u001b[39;49m\u001b[33;43mwhite\u001b[39;49m\u001b[33;43m\"\u001b[39;49m\u001b[43m,\u001b[49m\u001b[43m)\u001b[49m  \u001b[38;5;66;03m# smaj me aya kyu error aya kyu ki paarameter ka mismatch ho gya between of object and constructor . Got it\u001b[39;00m\n\u001b[32m     13\u001b[39m \u001b[38;5;28mprint\u001b[39m(s2.name)\n\u001b[32m     14\u001b[39m \u001b[38;5;28mprint\u001b[39m(s2.colour,s2.section)\n",
      "\u001b[31mTypeError\u001b[39m: Student.__init__() missing 1 required positional argument: 'section'"
     ]
    }
   ],
   "source": [
    "class Student:\n",
    "    roll_no = 12\n",
    "    def __init__(self,name,colour,section):\n",
    "        self.name = name\n",
    "        self.colour = colour\n",
    "        self.section = section\n",
    "        print(\"helllo pankaj !\")\n",
    "\n",
    "s1 = Student(\"Rohit\",\"Brown\",\"A\")  \n",
    "print(s1.name)                     \n",
    "print(s1.colour)\n",
    "s2 = Student(\"pankaj\",\"white\",)  # smaj me aya kyu error aya kyu ki paarameter ka mismatch ho gya between of object and constructor . Got it\n",
    "print(s2.name)\n",
    "print(s2.colour,s2.section)\n",
    "print(s1.roll_no) # roll_no is class attribute and it is same and available for all all objects.\n",
    "\n"
   ]
  },
  {
   "cell_type": "code",
   "execution_count": null,
   "metadata": {},
   "outputs": [],
   "source": [
    "# Read about type of constructor:\n",
    "# Default Constructor\n",
    "# parameterized constructor\n",
    "# Note: If we have more than one constructor in code then that constructor will execute which matches with  the parameter of objects."
   ]
  },
  {
   "cell_type": "code",
   "execution_count": null,
   "metadata": {},
   "outputs": [
    {
     "name": "stdout",
     "output_type": "stream",
     "text": [
      "helllo pankaj !\n",
      "Rohit\n",
      "Brown\n",
      "helllo pankaj !\n",
      "pankaj\n",
      "white B\n",
      "12\n",
      "12\n",
      "9\n"
     ]
    }
   ],
   "source": [
    "# Concepts of : CLASS ATTRIBUTE AND OBJECT ATTRIBUTE.\n",
    "\n",
    "# CLASS ATTRIBIUTE: Example as Roll_no = 12 which falls under the the class and this is example of class attribute remeember class attribute is specified in scope of class and na its syntax is simple i.e name = \"pankaj\", or Roll_no = 12  etc and class attributes remains same for each object and does't changes object to object unlike object/instance attributes.\n",
    "# OBJECT ATTRIBUTE: Those attributes which falls under __init__ function are basically object attributes and remember its value may vary with object to object and its syntax is it is specified with self example as , self.name = name, self.age  = age.\n",
    "# Read more about them from hardcopy notes.\n",
    "class Student:\n",
    "    roll_no = 12 # calss attriibute\n",
    "    cgpa = 9 # class attribute\n",
    "    def __init__(self,name,colour,section):\n",
    "        self.name = name # obj attribute.\n",
    "        self.colour = colour # obj attribute.\n",
    "        self.section = section # obj attribute.\n",
    "        print(\"helllo pankaj !\")\n",
    "\n",
    "s1 = Student(\"Rohit\",\"Brown\",\"A\")  \n",
    "print(s1.name)                     \n",
    "print(s1.colour)\n",
    "s2 = Student(\"pankaj\",\"white\",\"B\")  \n",
    "print(s2.name)\n",
    "print(s2.colour,s2.section)\n",
    "print(s1.roll_no) # roll_no is class attribute and it is same and available for all all objects.\n",
    "print(s2.roll_no)\n",
    "print(s1.cgpa)\n",
    "\n",
    "\n"
   ]
  },
  {
   "cell_type": "code",
   "execution_count": null,
   "metadata": {},
   "outputs": [
    {
     "name": "stdout",
     "output_type": "stream",
     "text": [
      "helllo pankaj !\n",
      "18\n"
     ]
    }
   ],
   "source": [
    "# Object attribute precedence is more than class . \n",
    "# Its Basically means if we have same name of class attribute and same name of object attribute so object attribuete parameter will print.see\n",
    "\n",
    "class Student:\n",
    "    roll_no = 12\n",
    "    def __init__(self,name,colour,roll_no):\n",
    "        self.name = name\n",
    "        self.colour = colour\n",
    "        self.roll_no = roll_no\n",
    "        print(\"helllo pankaj !\")\n",
    "\n",
    "s1 = Student(\"Rohit\",\"Brown\",18) \n",
    "print(s1.roll_no) # it wiill print 18 not 12 okay!"
   ]
  },
  {
   "cell_type": "code",
   "execution_count": null,
   "metadata": {},
   "outputs": [
    {
     "name": "stdout",
     "output_type": "stream",
     "text": [
      "Hii my name is  Rohit\n",
      "78\n"
     ]
    }
   ],
   "source": [
    "# METHODS IN OOPS: Read theoretical stuff of method from hardcopy notes. Here we will discuss about normal method that works at objects level.\n",
    "# Methods works at class level.\n",
    "# Let see here it basic synatx , format and working.\n",
    "# aur ek baat within method remember always put attribute name with self. i.e   istead of  name put self.name    also   instead of colour   self.colour    dont worry with time you will get it.\n",
    "\n",
    "\n",
    "# Creating class:\n",
    "\n",
    "class Student:\n",
    "    college_name = \"XYZ College\"\n",
    "# Specifying method\n",
    "\n",
    "    def __init__(self,name,marks,section) :\n",
    "        self.name = name\n",
    "        self.marks = marks\n",
    "        self.section = section\n",
    "\n",
    "    def welcome (self):    # It is method and here putting self is mandatory otherwise it will throw error. We may have multiple methods.\n",
    "        print(\"Hii my name is \", self.name ) # In such a way we can print object attributes inside the method as well.\n",
    "\n",
    "    def get_marks(self): # self is must and apart from self we may also passs other parameter it methods.\n",
    "        return self.marks # In such way we can use object attributes inside the methods and this is way to put its as , self.marks , self.name.\n",
    "    \n",
    "# creating object.    \n",
    "s1 = Student(\"Rohit\",\"78\",\"A\")    \n",
    "s1.welcome() # This is syntax to call the method,i.e s1.method_name  where s1 is name of object.\n",
    "print(s1.get_marks()) # When it is return statement of method call it by printing as print(s1.method_name), s1 is name of object.\n",
    "    \n"
   ]
  },
  {
   "cell_type": "code",
   "execution_count": null,
   "metadata": {},
   "outputs": [
    {
     "name": "stdout",
     "output_type": "stream",
     "text": [
      "A\n"
     ]
    }
   ],
   "source": [
    "# example 2 :\n",
    "\n",
    "class Student:\n",
    "    college_name = \"XYZ College\"\n",
    "# Specifying method\n",
    "\n",
    "    def __init__(self,name,marks,section) :\n",
    "        self.name = name\n",
    "        self.marks = marks\n",
    "        self.section = section\n",
    "    \n",
    "    def get_section(self): # self is mandatory and apart from self we may also pass other parameters in methods.\n",
    "        return self.section # Syntax to implement method. we may use objects attributes in given way . \n",
    "\n",
    "    \n",
    "# creating object.    \n",
    "s1 = Student(\"Rohit\",\"78\",\"A\")    \n",
    "print(s1.get_section())\n",
    "\n",
    "    "
   ]
  },
  {
   "cell_type": "code",
   "execution_count": null,
   "metadata": {},
   "outputs": [
    {
     "name": "stdout",
     "output_type": "stream",
     "text": [
      "Hii my name is  Pankaj Yadav my average score is 32.0\n",
      "Hii my name is  Pankaj Yadav my average score is 64.33333333333333\n",
      "Hii my name is  Pankaj Yadav my average score is 97.0\n"
     ]
    }
   ],
   "source": [
    "# Practice problem :\n",
    "# Q1:  Create student class that takes name and marks of 3 subjects as an argument in constructor.then create a method to print average of marks.\n",
    "\n",
    "class Student:\n",
    "    def __init__(self,name,marks):\n",
    "        self.name  = name \n",
    "        self.marks = marks\n",
    "    def get_avg(self):\n",
    "        sum = 0\n",
    "        for val in self.marks: # put self.marks not only ,marks.\n",
    "            sum += val\n",
    "            print(\"Hii my name is \",self.name, \"my average score is\",sum/3) # teeno loops cases print ho rahe hai because hwre pthis print statement me indentation issue hai isko tab space left me lo fir deklho ultimate result ayega. see next code section.\n",
    "\n",
    "s1 = Student(\"Pankaj Yadav\",[96,97,98])\n",
    "s1.get_avg()\n",
    "\n"
   ]
  },
  {
   "cell_type": "code",
   "execution_count": null,
   "metadata": {},
   "outputs": [
    {
     "name": "stdout",
     "output_type": "stream",
     "text": [
      "Hii My Name is  Pankaj Yadav my average score is 97.0\n"
     ]
    }
   ],
   "source": [
    "class Student:\n",
    "    def __init__(self,name,marks):\n",
    "        self.name  = name \n",
    "        self.marks = marks\n",
    "        \n",
    "    def get_avg(self):\n",
    "        sum = 0\n",
    "        for val in self.marks: # Put self.marks not only,marks.\n",
    "            sum += val\n",
    "        print(\"Hii My Name is \",self.name, \"my average score is\",sum/3) \n",
    "\n",
    "s1 = Student(\"Pankaj Yadav\",[96,97,98])\n",
    "s1.get_avg()"
   ]
  },
  {
   "cell_type": "code",
   "execution_count": null,
   "metadata": {},
   "outputs": [
    {
     "name": "stdout",
     "output_type": "stream",
     "text": [
      "Hii My Name is  Pankaj Yadav my average score is 97.0\n",
      "Hii My Name is  Kunj Yadav my average score is 97.0\n",
      "Hii My Name is  Kunj Yadav my average score is 55.0\n"
     ]
    }
   ],
   "source": [
    "# changing values of object attributes: lets see how\n",
    "\n",
    "class Student:\n",
    "    def __init__(self,name,marks):\n",
    "        self.name  = name \n",
    "        self.marks = marks\n",
    "        \n",
    "    def get_avg(self):\n",
    "        sum = 0\n",
    "        for val in self.marks: # put self.marks not only ,marks.\n",
    "            sum += val\n",
    "        print(\"Hii My Name is \",self.name, \"my average score is\",sum/3) # AS HERE PRINT STATEMENT IS INDENTED AT POSITION OUT OF LOOP SO  RECEIVES LAST VALUS OF SUM i.e 291 so ultoimate last result will print  , aree yrr ye sab loop wlae lecture me dekh chucke hai.\n",
    "\n",
    "s1 = Student(\"Pankaj Yadav\",[96,97,98])\n",
    "s1.get_avg()\n",
    "s1.name = \"Kunj Yadav\" # This is how changes done in object attributes\n",
    "s1.get_avg()\n",
    "s1.marks  = [54,55,56] # this is how changes done in objects.\n",
    "s1.get_avg()\n",
    "\n"
   ]
  },
  {
   "cell_type": "code",
   "execution_count": null,
   "metadata": {},
   "outputs": [
    {
     "ename": "TypeError",
     "evalue": "Student.get_section() takes 0 positional arguments but 1 was given",
     "output_type": "error",
     "traceback": [
      "\u001b[31m---------------------------------------------------------------------------\u001b[39m",
      "\u001b[31mTypeError\u001b[39m                                 Traceback (most recent call last)",
      "\u001b[36mCell\u001b[39m\u001b[36m \u001b[39m\u001b[32mIn[41]\u001b[39m\u001b[32m, line 18\u001b[39m\n\u001b[32m     16\u001b[39m \u001b[38;5;66;03m# creating object.    \u001b[39;00m\n\u001b[32m     17\u001b[39m s1 = Student(\u001b[33m\"\u001b[39m\u001b[33mRohit\u001b[39m\u001b[33m\"\u001b[39m,\u001b[33m\"\u001b[39m\u001b[33m78\u001b[39m\u001b[33m\"\u001b[39m,\u001b[33m\"\u001b[39m\u001b[33mA\u001b[39m\u001b[33m\"\u001b[39m)    \n\u001b[32m---> \u001b[39m\u001b[32m18\u001b[39m \u001b[38;5;28mprint\u001b[39m(\u001b[43ms1\u001b[49m\u001b[43m.\u001b[49m\u001b[43mget_section\u001b[49m\u001b[43m(\u001b[49m\u001b[43m)\u001b[49m)\n",
      "\u001b[31mTypeError\u001b[39m: Student.get_section() takes 0 positional arguments but 1 was given"
     ]
    }
   ],
   "source": [
    "# Static Method: Method that don't use self parameter (works at class level).\n",
    "#let see what happens when we don't use self in methods.\n",
    "\n",
    "class Student:\n",
    "    college_name = \"XYZ College\"\n",
    "\n",
    "    def __init__(self,name,marks,section) :\n",
    "        self.name = name\n",
    "        self.marks = marks\n",
    "        self.section = section\n",
    "    \n",
    "    def get_section(): # we don't  use self here  so we got error !\n",
    "        return self.section \n",
    "\n",
    "    \n",
    "# creating object.    \n",
    "s1 = Student(\"Rohit\",\"78\",\"A\")    \n",
    "print(s1.get_section())\n",
    "\n",
    "\n",
    "# But let we want that method works at class level and we uses methods without self bcoz self only references after object so to solve it problem we uses STATIC METHOD."
   ]
  },
  {
   "cell_type": "code",
   "execution_count": 51,
   "metadata": {},
   "outputs": [
    {
     "name": "stdout",
     "output_type": "stream",
     "text": [
      "Hello sir\n"
     ]
    }
   ],
   "source": [
    "# lets see working syntax of method: via example.\n",
    "\n",
    "class Student:\n",
    "    college_name = \"XYZ College\"\n",
    "\n",
    "    def __init__(self,name,marks,section) :\n",
    "        self.name = name\n",
    "        self.marks = marks\n",
    "        self.section = section\n",
    "    @staticmethod # use this decoerator called \"@staticmethod\" to convert normal method into \n",
    "    def Hello(): # we don't  use self here  also but as its fall under static method so it will doest show error.\n",
    "        print(\"Hello sir\")\n",
    "\n",
    "    \n",
    "# creating object.    \n",
    "s1 = Student(\"Rohit\",\"78\",\"A\")    \n",
    "s1.Hello()\n",
    "\n",
    "\n",
    "\n"
   ]
  },
  {
   "cell_type": "code",
   "execution_count": null,
   "metadata": {},
   "outputs": [],
   "source": [
    "# Now read about following topics from notes.\n",
    "# 1: Abstraction.\n",
    "# 2: Encapsulation.\n"
   ]
  },
  {
   "cell_type": "code",
   "execution_count": null,
   "metadata": {},
   "outputs": [],
   "source": [
    "# Question based on OOPs: \n",
    "\n",
    "# Create account class with 2 attributes - Balance and account number create method for debit , credit , and  printing the balance.\n",
    "\n",
    "\n"
   ]
  }
 ],
 "metadata": {
  "kernelspec": {
   "display_name": "Python 3",
   "language": "python",
   "name": "python3"
  },
  "language_info": {
   "codemirror_mode": {
    "name": "ipython",
    "version": 3
   },
   "file_extension": ".py",
   "mimetype": "text/x-python",
   "name": "python",
   "nbconvert_exporter": "python",
   "pygments_lexer": "ipython3",
   "version": "3.13.1"
  }
 },
 "nbformat": 4,
 "nbformat_minor": 2
}
