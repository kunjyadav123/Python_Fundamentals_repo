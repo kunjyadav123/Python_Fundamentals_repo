{
 "cells": [
  {
   "cell_type": "markdown",
   "id": "df9a488a",
   "metadata": {},
   "source": [
    "## String and String Operations : \n"
   ]
  },
  {
   "cell_type": "code",
   "execution_count": 1,
   "id": "c0d1aa64",
   "metadata": {},
   "outputs": [
    {
     "name": "stdout",
     "output_type": "stream",
     "text": [
      "Lemon chai\n"
     ]
    }
   ],
   "source": [
    "chai = \"Lemon chai\"\n",
    "chai   # returs 'lemon chai'\n",
    "print(chai)  # returns lemon chai "
   ]
  },
  {
   "cell_type": "code",
   "execution_count": null,
   "id": "e0b0f098",
   "metadata": {},
   "outputs": [
    {
     "name": "stdout",
     "output_type": "stream",
     "text": [
      "Masala Chai\n",
      "M\n",
      " \n",
      "C\n",
      "i\n",
      "h\n",
      "sal\n",
      "Masala Chai\n",
      "Masala Chai\n",
      "Masala Chai\n",
      "Masala Chai\n",
      "Masala\n",
      "Chai\n"
     ]
    }
   ],
   "source": [
    "chai = \"Masala Chai\"\n",
    "print(chai)\n",
    "\n",
    "# lets do some indexing .\n",
    "\n",
    "first_char = chai[0]\n",
    "sixth_char = chai[6]\n",
    "seventh_char = chai[7]\n",
    "negative_idx1 = chai[-1]\n",
    "negative_idx2 = chai[-3]\n",
    "\n",
    "print(first_char)\n",
    "print(sixth_char)  # this gives blank space coz at 6th index it blank space.\n",
    "print(seventh_char)\n",
    "print(negative_idx1)\n",
    "print(negative_idx2)\n",
    "\n",
    "\n",
    "# Lets do some slicing .  Ek baat sliced part is always gives copy value. And in slicing [ a :b ] remember that last element of inx_no b is non inclusive and elemnt prints form odf index no : a to b-1.\n",
    "slice_0 = chai[2:5]\n",
    "slice_1 = chai[:]  # this slices whole string  coz remember it gives notion of its indexing starts from 0 and goes to len(string).  remember front mai blank means 0 and end mai blank means len(string/array).\n",
    "slice_2 = chai[:len(chai)] # it is just same as above .\n",
    "slice_2a = chai[0 :len(chai)] # this is also same as above\n",
    "slice_2b = chai[0:]  # this is also same as above \n",
    "slice_3 = chai[:6]  # have same means as chai[0:6]\n",
    "slice_4 = chai[7: ]  # heve same with chai[7 : len(chai)]\n",
    "\n",
    "\n",
    "\n",
    "print(slice_0)\n",
    "print(slice_1)\n",
    "print(slice_2a)\n",
    "print(slice_2b)\n",
    "print(slice_2)\n",
    "print(slice_3)\n",
    "print(slice_4)\n",
    "\n",
    "# negative indexing starts from -1 from back and continues to decrrese by -1 in left direction .\n"
   ]
  },
  {
   "cell_type": "code",
   "execution_count": 10,
   "id": "f07ad072",
   "metadata": {},
   "outputs": [
    {
     "name": "stdout",
     "output_type": "stream",
     "text": [
      "\n",
      "ala Ch\n",
      "\n",
      "ala \n",
      "\n",
      "sala C\n",
      "\n"
     ]
    }
   ],
   "source": [
    "chai = \"Masala Chai\"\n",
    "\n",
    "\n",
    "# both slicing from positive to negative or negative to positive or negative to negative  is valid in strings provided slicing should be possible otherwise it will result null string(ie blank space ) as noting get slices .\n",
    "\n",
    "\n",
    "\n",
    "# negative to negative slicing ! \n",
    "\n",
    "print(chai[-2:-5])  # it return null string means blank space coz this is not sliced any thing but \n",
    "print(chai[-8:-2])  # this is good as it sliaced ! \n",
    "\n",
    "# negative to positive slicing ! \n",
    "\n",
    "print(chai[-4 : 3])  # this will return null string i.e blank space as nothing get slices coz slicing with given inputs are not possible .\n",
    "print(chai[-8 : 7])  # this will slice as slicing with given inputs are possible .\n",
    "\n",
    "# psotive to positive slicing ! \n",
    "\n",
    "print(chai[ 9:-8])  # this will return null string i.e blank space as nothing get slices coz slicing with given inputs are not possible . but \n",
    "print(chai[ 2:-3 ])      # this will slice as slicing with given inputs are possible .\n",
    "\n",
    "print(chai[-2:-2])  # this will also prints null string as  as noting get slice \n",
    "\n"
   ]
  },
  {
   "cell_type": "code",
   "execution_count": null,
   "id": "33bccc10",
   "metadata": {},
   "outputs": [
    {
     "name": "stdout",
     "output_type": "stream",
     "text": [
      "\n",
      "\n",
      "\n",
      "\n",
      "1357\n",
      "0123456789\n"
     ]
    }
   ],
   "source": [
    "# special cases : \n",
    "\n",
    "chai = \"Masala Chai\"\n",
    "\n",
    "negativeslice = chai[-2:4] # remember this return blank space when we prints slicing from negative to positive indx coz it is invalid as per convention.\n",
    "print(negativeslice)\n",
    "\n",
    "# also remember if we passs same number at beggining and ending in list slicing it will return nothing.\n",
    "\n",
    "print(chai[2:2])  # returns blank space .\n",
    "print(chai[3 : 3])  # return blank space.\n",
    "print(chai[4:4])  # returns blank space.\n",
    "\n",
    "\n",
    "# slicing with steps is also possible in string : but here use it as  [ a : b : c] here a , b , c is start , stop , step.\n",
    "\n",
    "num = \"0123456789\"\n",
    "\n",
    "step_slicing = num[1:8:2]  #here it is start(1) , stop(10 , where 10 in non inclusive) , step(jump by 2)\n",
    "print(step_slicing)\n",
    "\n",
    "slice = num[:]  #remember this syntax of slicing whole string as it ranges from 0 to len(string). And this is very famous syntax.\n",
    "print(slice)\n"
   ]
  },
  {
   "cell_type": "code",
   "execution_count": 33,
   "id": "c3843b61",
   "metadata": {},
   "outputs": [
    {
     "name": "stdout",
     "output_type": "stream",
     "text": [
      "masala chai\n",
      "MASALA CHAI\n",
      "Lemon chai\n",
      "Ooalang Tea\n"
     ]
    }
   ],
   "source": [
    "# String property :\n",
    "\n",
    "chai = \"Masala chai\"\n",
    "\n",
    "\n",
    "# chai.lower()  it makes all string character in lowercase.\n",
    "print(chai.lower())\n",
    "\n",
    "\n",
    "# chai.upper()  it makes all string character in uppercase.\n",
    "print(chai.upper())\n",
    "\n",
    "# chai.replace(old_val , new_desired_val)\n",
    "print(chai.replace(\"Masala\",\"Lemon\"))  #this returns copy of updated string and doest not make changes in original srting.\n",
    "\n",
    "\n",
    "chai_1 = \"   Ooalang Tea \"\n",
    "\n",
    "# chai.striping() this property eliminates all forward or backward spacing . Its doest not eliminates inbetween spaces of string name.\n",
    "print(chai_1.strip())\n",
    "\n",
    "# This strip property is very useful to remove unccessary spaces from user input in real world production. "
   ]
  },
  {
   "cell_type": "code",
   "execution_count": 34,
   "id": "90b12024",
   "metadata": {},
   "outputs": [
    {
     "name": "stdout",
     "output_type": "stream",
     "text": [
      "list from string :  ['Lemon', ',Ginger', ',Mint', ',Masala']\n",
      "list from string :  ['Lemon ', 'Ginger ', 'Mint ', 'Masala']\n"
     ]
    }
   ],
   "source": [
    "# shocking structure of string ! and some intresting operation.\n",
    "\n",
    "chai = \"Lemon ,Ginger ,Mint ,Masala\" # Yes this is also a valid structure of string and will be consider a string . As stuff is within the \" \".\n",
    "\n",
    "# Let see How to convert any string into an array : str_name.split()  method\n",
    "\n",
    "print(\"list from string : \", chai.split())  # this is by default split()  otherwise it happens with some rules see\n",
    "print(\"list from string : \", chai.split(\",\"))  # here passing (\",\") provides that disapper ,(comma ) of string in list thats why we see only one comma(ie of list ) here."
   ]
  },
  {
   "cell_type": "code",
   "execution_count": 35,
   "id": "080eb2bb",
   "metadata": {},
   "outputs": [
    {
     "name": "stdout",
     "output_type": "stream",
     "text": [
      "7\n",
      "-1\n",
      "4\n",
      "5\n"
     ]
    }
   ],
   "source": [
    "# some more methods on sting :\n",
    "chai = \"Masala Chai\"\n",
    "\n",
    "\n",
    "#  find() method :  working syntax is : str_name.find(\"element\")\n",
    "\n",
    "\n",
    "print(chai.find(\"Chai\"))  # this gives the index no of firts occurence of Chai(first letter of chai).\n",
    "# If it doest find that passed parameter it will result -1(which means invalids , ie it doest found).\n",
    "\n",
    "print(chai.find(\"tea\"))  # since tea is absent we got -1 as result.\n",
    "\n",
    "chai_special = \"Masala Chai Chai Chai Chai chai tea\" # this is string.\n",
    "\n",
    "# count method :str_name.count(\"element\")   its counts all occcurence of passed element from the string.\n",
    "\n",
    "print(chai_special.count(\"Chai\"))  # there is difference between Chai and chai in python.\n",
    "print(chai_special.count(\"i\"))  # i appeares to 5 times.\n"
   ]
  },
  {
   "cell_type": "code",
   "execution_count": 36,
   "id": "78268092",
   "metadata": {},
   "outputs": [
    {
     "name": "stdout",
     "output_type": "stream",
     "text": [
      " I ordered { } cups of { } chai \n"
     ]
    },
    {
     "ename": "KeyError",
     "evalue": "' '",
     "output_type": "error",
     "traceback": [
      "\u001b[31m---------------------------------------------------------------------------\u001b[39m",
      "\u001b[31mKeyError\u001b[39m                                  Traceback (most recent call last)",
      "\u001b[36mCell\u001b[39m\u001b[36m \u001b[39m\u001b[32mIn[36]\u001b[39m\u001b[32m, line 10\u001b[39m\n\u001b[32m      7\u001b[39m order_tea = \u001b[33m\"\u001b[39m\u001b[33m I ordered \u001b[39m\u001b[33m{\u001b[39m\u001b[33m } cups of \u001b[39m\u001b[33m{\u001b[39m\u001b[33m } chai \u001b[39m\u001b[33m\"\u001b[39m  \u001b[38;5;66;03m# here { } blanks braces are allowed you to give some inputs in it via format( ) method.\u001b[39;00m\n\u001b[32m      8\u001b[39m \u001b[38;5;28mprint\u001b[39m(order_tea)  \u001b[38;5;66;03m# its gives expected results but now we will see outstanding format() method.\u001b[39;00m\n\u001b[32m---> \u001b[39m\u001b[32m10\u001b[39m \u001b[38;5;28mprint\u001b[39m(\u001b[43morder_tea\u001b[49m\u001b[43m.\u001b[49m\u001b[43mformat\u001b[49m\u001b[43m(\u001b[49m\u001b[43mquantity\u001b[49m\u001b[43m \u001b[49m\u001b[43m,\u001b[49m\u001b[43m \u001b[49m\u001b[43mchai_type\u001b[49m\u001b[43m)\u001b[49m)  \u001b[38;5;66;03m# jis order me parametere pass karoge usi order me valuees insert hogi  so pass values wisely as per correct order , and we may insert multiple values as well as same .\u001b[39;00m\n",
      "\u001b[31mKeyError\u001b[39m: ' '"
     ]
    }
   ],
   "source": [
    "# format( )  method : firstly see to get it \n",
    "# working syntax: string_name.format(parameter_1,parameter_2)\n",
    "\n",
    "chai_type = \"Masala\"\n",
    "quantity = 2\n",
    "\n",
    "order_tea = \" I ordered { } cups of { } chai \"  # here { } blanks braces are allowed you to give some inputs in it via format( ) method.\n",
    "print(order_tea)  # its gives expected results but now we will see outstanding format() method.\n",
    "\n",
    "print(order_tea.format(quantity , chai_type))  # jis order me parametere pass karoge usi order me valuees insert hogi  so pass values wisely as per correct order , and we may insert multiple values as well as same .\n",
    "\n"
   ]
  },
  {
   "cell_type": "markdown",
   "id": "efa06282",
   "metadata": {},
   "source": [
    "#### List to String conversion :\n"
   ]
  },
  {
   "cell_type": "code",
   "execution_count": null,
   "id": "f793140b",
   "metadata": {},
   "outputs": [
    {
     "name": "stdout",
     "output_type": "stream",
     "text": [
      "LemonGingerOolong\n",
      "Lemon Ginger Oolong\n",
      "Lemon-Ginger-Oolong\n",
      "Lemon,Ginger,Oolong\n",
      "Lemon@Ginger@Oolong\n"
     ]
    }
   ],
   "source": [
    "# working syntax : \"\".join(Str_name)  and this will convert list into normal string.\n",
    "#                : \" \".joins(str_name) and this will give blank space between the elements .\n",
    "#                : \"-\".join(str_name) and this will add - between the elemnts of string .\n",
    "#                : \",\".join(str_name) and this will add  between the elemnts of string .\n",
    "\n",
    "# as on what you gives between \" \" spaces  will appers between the strings individual elements.\n",
    "\n",
    "\n",
    "chai_variety = [\"Lemon\",\"Ginger\",\"Oolong\"]\n",
    "print(\"\".join(chai_variety))   # Got it !\n",
    "\n",
    "print(\" \".join(chai_variety))  # this gives space.\n",
    "\n",
    "print(\"-\".join(chai_variety))  # this gives - between elements.\n",
    "\n",
    "print(\",\".join(chai_variety))  # this gives , in between elements.\n",
    "\n",
    "print(\"@\".join(chai_variety))  # this gives @ in between elements.  as on!\n",
    "\n"
   ]
  },
  {
   "cell_type": "code",
   "execution_count": null,
   "id": "cee2c52c",
   "metadata": {},
   "outputs": [
    {
     "name": "stdout",
     "output_type": "stream",
     "text": [
      "11\n"
     ]
    }
   ],
   "source": [
    "# other string methods :\n",
    "\n",
    "# len(str_name) : Is just gives count of total character of string along with special charcter and blank spaces.\n",
    "chai  = \"masala chai\"\n",
    "print(len(chai))   # it also counts spaces and special character."
   ]
  },
  {
   "cell_type": "code",
   "execution_count": 42,
   "id": "e979881a",
   "metadata": {},
   "outputs": [
    {
     "name": "stdout",
     "output_type": "stream",
     "text": [
      "M\n",
      "a\n",
      "s\n",
      "a\n",
      "l\n",
      "a\n",
      " \n",
      "C\n",
      "h\n",
      "a\n",
      "i\n",
      "\n",
      " MMM\n",
      "\n",
      " iii\n",
      "\n",
      " nnn\n",
      "\n",
      " ttt\n",
      "\n",
      "    \n",
      "\n",
      " ccc\n",
      "\n",
      " hhh\n",
      "\n",
      " aaa\n",
      "\n",
      " iii\n"
     ]
    }
   ],
   "source": [
    "# Printing individual element of string using the for loop ! \n",
    "\n",
    "chai = \"Masala Chai\"\n",
    "for elem in chai:\n",
    "    print(elem)\n",
    "\n",
    "\n",
    "chai_1 = \"Mint chai\"\n",
    "for val in chai_1:\n",
    "    print(\"\\n\",val*3)"
   ]
  },
  {
   "cell_type": "code",
   "execution_count": null,
   "id": "59d12be5",
   "metadata": {},
   "outputs": [
    {
     "name": "stdout",
     "output_type": "stream",
     "text": [
      "True\n",
      "True\n",
      "False\n"
     ]
    }
   ],
   "source": [
    "# Existence of element in string :  we use  in \n",
    "\n",
    "chai = \"Masala Chai\"\n",
    "\n",
    "print(\"Masala\" in chai)  # Yes Masala exist in chai so it says True\n",
    "print(\"Chai\" in chai)   # same\n",
    "print(\"Oolong\" in chai) # Yes here there is no such element in chai so it returns False.\n",
    "\n",
    "# This is usual working syntax : so remember it\n"
   ]
  },
  {
   "cell_type": "code",
   "execution_count": null,
   "id": "8fd84c8f",
   "metadata": {},
   "outputs": [
    {
     "ename": "SyntaxError",
     "evalue": "invalid syntax (992897642.py, line 3)",
     "output_type": "error",
     "traceback": [
      "  \u001b[36mCell\u001b[39m\u001b[36m \u001b[39m\u001b[32mIn[5]\u001b[39m\u001b[32m, line 3\u001b[39m\n\u001b[31m    \u001b[39m\u001b[31mchai = \" he said, \" Masala chai is awesome\" \"\u001b[39m\n                        ^\n\u001b[31mSyntaxError\u001b[39m\u001b[31m:\u001b[39m invalid syntax\n"
     ]
    }
   ],
   "source": [
    "# Exploring more about the string .\n",
    "\n",
    "chai = \" he said,\" Masala chai is awesome\" \"   # this is invalid in python.\n",
    "print(chai)   \n",
    "\n",
    "# Now see it carefully suppose if we wish to print any statement within the string under close \"\"  so how can we do it ! coz this method shows error see next block.\n"
   ]
  },
  {
   "cell_type": "code",
   "execution_count": null,
   "id": "c9ab3005",
   "metadata": {},
   "outputs": [
    {
     "name": "stdout",
     "output_type": "stream",
     "text": [
      " He said,\" Masala chai is awesome.\"\n"
     ]
    }
   ],
   "source": [
    "# To resolve previous problem we uses the \\ forwardslash.\n",
    "\n",
    "chai = \" He said,\\\" Masala chai is awesome.\\\"\"   # use this syntax okay \n",
    "chai\n",
    "\n",
    "print(chai) # Got it ! \n",
    "\n",
    "\n",
    "# Now lets explore about working of   : raw string  ( r ) !  see next  cell\n"
   ]
  },
  {
   "cell_type": "code",
   "execution_count": null,
   "id": "88d60bd0",
   "metadata": {},
   "outputs": [
    {
     "name": "stdout",
     "output_type": "stream",
     "text": [
      "Masala\n",
      "Chai\n",
      "Masala\\nChai\n"
     ]
    }
   ],
   "source": [
    "# raw string: r\n",
    "\n",
    "chai = \"Masala\\nChai\"\n",
    "chai  # this returns Masala\\nChai   usual hai coz normal string calling me \\n ka koi impact nii hai . but see\n",
    "print(chai)  # this returns Masala chai in next lines .\n",
    "\n",
    "# If we wish to print chai string in same line how can we do it ! \n",
    "# To do it we raw string aa    r\" content\"\n",
    "\n",
    "print(r\"Masala\\nChai\")  # returns Masala\\nChai.\n",
    "\n",
    "# since while giving adress of directory we faces multiple errors in windows due to use of \\ forwardslash  issues we uses raw string (r)  as to resolve and giving adress properly without any error \n",
    "# recall while importing data  of .csv and ,excel file we uses r\"directory_address\"   ok ay now seee some cases here.\n",
    "\n",
    "\n",
    "\n"
   ]
  },
  {
   "cell_type": "code",
   "execution_count": null,
   "id": "46262d36",
   "metadata": {},
   "outputs": [
    {
     "name": "stdout",
     "output_type": "stream",
     "text": [
      "c:\\user\\pwd\n"
     ]
    }
   ],
   "source": [
    "# application of raw string : r in directory path addressing in windows.\n",
    "\n",
    "#chai = \"c:\\user\\pwd\"    # bina raw string ke path of directory initiate kiya to error aya na ! so remember to use r\"address\"\n",
    "#print(chai)\n",
    "\n",
    "chai_1 = r\"c:\\user\\pwd\"\n",
    "print(chai_1)   # abs ab sroted hai sab ! thats why we use r so that system stays in ease.\n"
   ]
  }
 ],
 "metadata": {
  "kernelspec": {
   "display_name": ".venv",
   "language": "python",
   "name": "python3"
  },
  "language_info": {
   "codemirror_mode": {
    "name": "ipython",
    "version": 3
   },
   "file_extension": ".py",
   "mimetype": "text/x-python",
   "name": "python",
   "nbconvert_exporter": "python",
   "pygments_lexer": "ipython3",
   "version": "3.13.3"
  }
 },
 "nbformat": 4,
 "nbformat_minor": 5
}
