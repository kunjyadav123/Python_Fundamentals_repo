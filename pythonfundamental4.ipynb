{
 "cells": [
  {
   "cell_type": "markdown",
   "id": "19e079df",
   "metadata": {},
   "source": [
    "# Exploring practicals Memory Allocation and Notion of Mutable and Immutable Data Types In Python:\n"
   ]
  },
  {
   "cell_type": "markdown",
   "id": "992a822b",
   "metadata": {},
   "source": [
    "#### It adviced plese prefer hardnotes for undersatanding the actual Back working of Python , How Memory Allocation works and How referencing occurs and its aspects ,  what is true notion of mutable and immutable ,  objects and memory relation , how garbage collection works in Python , How and  why complier of python treates the String and integrs(not float) diffferently as compared to other datatypes in garbage collection ,  what is reference counting ! and much more and here we will just practice on stuff! "
   ]
  },
  {
   "cell_type": "markdown",
   "id": "307b0340",
   "metadata": {},
   "source": [
    "### Grab Notion of Reference it will provide you leverage onwards :\n"
   ]
  },
  {
   "cell_type": "code",
   "execution_count": null,
   "id": "b35a6579",
   "metadata": {},
   "outputs": [],
   "source": [
    "# Be very carefull while assigining the ! Firstly undersatand how actually assignment works and what is assignment really are.\n",
    "\n",
    "# when we say   a = b its means we are assigning  b(left side value)  value into a (right side value) and to do  it b(left side value)  must be priorly defined otherwse it will throw error.\n",
    "# Hence here is difference between  a = b and b = a   however a == b and b == a is same same .\n",
    "\n",
    "# while execution of code execution happens as per latest referencing and if any old refernces were exist it will gets garbage outs."
   ]
  },
  {
   "cell_type": "code",
   "execution_count": null,
   "id": "512dcae7",
   "metadata": {},
   "outputs": [
    {
     "name": "stdout",
     "output_type": "stream",
     "text": [
      "Pankaj\n"
     ]
    }
   ],
   "source": [
    "# See will it work ! ohh yes it worked ! \n",
    "# But This is not good practice first define the variable then prints it ! \n",
    "\n",
    "print(Name)\n",
    "Name = \"Pankaj\"  # an doubt cleard ! "
   ]
  },
  {
   "cell_type": "code",
   "execution_count": null,
   "id": "6623b257",
   "metadata": {},
   "outputs": [
    {
     "name": "stdout",
     "output_type": "stream",
     "text": [
      "20\n",
      "20\n"
     ]
    }
   ],
   "source": [
    "# Lets see for strings and numbers ! \n",
    "\n",
    "a = 20  # here a is predefined .\n",
    "b = a # reemebmer here a = b and b  = a are different things ! \n",
    "\n",
    "print(a)\n",
    "print(b)"
   ]
  },
  {
   "cell_type": "code",
   "execution_count": null,
   "id": "448d88ca",
   "metadata": {},
   "outputs": [
    {
     "name": "stdout",
     "output_type": "stream",
     "text": [
      "30\n",
      "30\n",
      "35\n",
      "30\n"
     ]
    }
   ],
   "source": [
    "# But we also know it as memory referencing ! as \n",
    "\n",
    "a = 30\n",
    "b = a\n",
    "\n",
    "print(a) # 30 \n",
    "print(b) # 30\n",
    "\n",
    "a = 35\n",
    "print(a) # 35\n",
    "print(b) # 30 yes 30 Not 35 we now how it happens !  and how here automatic garbage colllection works ( in this case it will be some delayed due to a is number or for string as well)"
   ]
  },
  {
   "cell_type": "code",
   "execution_count": null,
   "id": "7f4ff62a",
   "metadata": {},
   "outputs": [
    {
     "name": "stdout",
     "output_type": "stream",
     "text": [
      "[1, 2, 3]\n",
      "[1, 2, 3]\n",
      "[34, 2, 3]\n",
      "[34, 2, 3]\n"
     ]
    }
   ],
   "source": [
    "# Llets see for List(Immutabels)\n",
    "\n",
    "# when list get referenced the object or say value s ! we  have said same not equal or copy! clear this from hardnotes ! \n",
    "\n",
    "myList_one = [ 1,2,3]\n",
    "myList_two = myList_one  # we assigned one to two\n",
    "\n",
    "print(myList_one) # [1,2,3]\\\n",
    "print(myList_two)\n",
    "\n",
    "# now see carefully! \n",
    "myList_one[0] = 34\n",
    "print(myList_one) # [34,2,3] expected! \n",
    "print(myList_two)   # [34,2,3], here the myList_two also get mutated coz bothjust by mutating the myList_one we seen that both lists  myList_one and myList_Two  got mutated by mutating just only one list this is happpned coz both are get referenced by same list! \n",
    "\n",
    "\n",
    "# Lets see  the next cell ! we will see some exciting results."
   ]
  },
  {
   "cell_type": "code",
   "execution_count": null,
   "id": "7008753b",
   "metadata": {},
   "outputs": [
    {
     "name": "stdout",
     "output_type": "stream",
     "text": [
      "[2, 55, 4]\n",
      "[2, 3, 4]\n"
     ]
    }
   ],
   "source": [
    "# when both list get referenced equal or copy  list but they are not same refernced  as before! \n",
    "\n",
    "list_1 = [2,3,4]\n",
    "list_2 = list_1\n",
    "\n",
    "list_2 = [2,3,4]\n",
    "\n",
    "list_1[1] = 55\n",
    "print(list_1) # [1,55,4]  as expected !\n",
    "\n",
    "print(list_2) # guess karo !  yes [2,3,4] now since we referenced equal but not the same so this happens! \n",
    "\n",
    "# lets see once more! in next cell"
   ]
  },
  {
   "cell_type": "code",
   "execution_count": null,
   "id": "f2834ee4",
   "metadata": {},
   "outputs": [
    {
     "name": "stdout",
     "output_type": "stream",
     "text": [
      "[1, 2, 3, 4]\n",
      "[1, 999, 3, 4]\n",
      "[1, 2, 3, 4]\n"
     ]
    }
   ],
   "source": [
    "list_a = [1,2,3,4]\n",
    "list_b = list_a\n",
    "list_a = \"chai\"\n",
    "\n",
    "print(list_b)  # [1,2,3,4]\n",
    "\n",
    "list_a = [1,2,3,4]\n",
    "\n",
    "list_a[1] = 999\n",
    "print(list_a) # as expected!\n",
    "\n",
    "# But now we will what is list_b now! \n",
    "\n",
    "print(list_b)  # equal but not same ! "
   ]
  },
  {
   "cell_type": "code",
   "execution_count": 37,
   "id": "d8407a97",
   "metadata": {},
   "outputs": [
    {
     "name": "stdout",
     "output_type": "stream",
     "text": [
      "[1, 2, 3, 4]\n",
      "[1, 2, 3, 4]\n",
      "[1, 2, 99, 4]\n",
      "[1, 2, 3, 4]\n"
     ]
    }
   ],
   "source": [
    "l1 = [1,2,3,4]\n",
    "l2 = [1,2,3,4]  # both l1 and l2 list are equal but the refrences the same list so be attentive here! \n",
    "\n",
    "print(l1)\n",
    "print(l2)\n",
    "\n",
    "l1[2] = 99\n",
    "print(l1)\n",
    "# But \n",
    "print(l2)   # due to equal but now have same refernce as li has so this mutation is  not occured! "
   ]
  },
  {
   "cell_type": "code",
   "execution_count": null,
   "id": "a9a002f4",
   "metadata": {},
   "outputs": [
    {
     "name": "stdout",
     "output_type": "stream",
     "text": [
      "True\n",
      "True\n"
     ]
    }
   ],
   "source": [
    "# Exploring  more about list :\n",
    "\n",
    "l1 = [1,2,3]\n",
    "l2 = l1\n",
    "\n",
    "\n",
    "print(l1 == l2)\n",
    "print(l1 is l2)  \n",
    "# ok samaj aa gya we got result came True bcoz both list are equal and same ( ie l1 is l2) as wwll.\n",
    "# now see next cell."
   ]
  },
  {
   "cell_type": "code",
   "execution_count": 40,
   "id": "1a9a6e63",
   "metadata": {},
   "outputs": [
    {
     "name": "stdout",
     "output_type": "stream",
     "text": [
      "True\n",
      "False\n"
     ]
    }
   ],
   "source": [
    "l1 = [1,2,3,4]\n",
    "l2 = [1,2,3,4]\n",
    "\n",
    "print(l1 == l2)  # True iss good as both are equal \n",
    "# But \n",
    "print(l1 is l2)   # exciting yes l1 is equal to l2 but li is not l2. wow \n"
   ]
  },
  {
   "cell_type": "code",
   "execution_count": null,
   "id": "08258534",
   "metadata": {},
   "outputs": [
    {
     "name": "stdout",
     "output_type": "stream",
     "text": [
      "True\n",
      "False\n"
     ]
    }
   ],
   "source": [
    "l1 = [1,2,3,4]\n",
    "\n",
    "l2 = l1[:]  # slicing create copy which is quiet we say is equal but not same.\n",
    "\n",
    "print(l1 == l2)   # expected \n",
    "# But\n",
    "print(l1 is l2)  # False coz l2 is copy of l1 but not same.\n",
    "\n"
   ]
  }
 ],
 "metadata": {
  "kernelspec": {
   "display_name": ".venv",
   "language": "python",
   "name": "python3"
  },
  "language_info": {
   "codemirror_mode": {
    "name": "ipython",
    "version": 3
   },
   "file_extension": ".py",
   "mimetype": "text/x-python",
   "name": "python",
   "nbconvert_exporter": "python",
   "pygments_lexer": "ipython3",
   "version": "3.13.3"
  }
 },
 "nbformat": 4,
 "nbformat_minor": 5
}
