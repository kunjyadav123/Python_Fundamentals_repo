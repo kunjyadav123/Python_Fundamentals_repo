{
 "cells": [
  {
   "cell_type": "markdown",
   "metadata": {},
   "source": [
    "# Lecture 8:"
   ]
  },
  {
   "cell_type": "code",
   "execution_count": null,
   "metadata": {},
   "outputs": [],
   "source": [
    "# LOOPS IN PYTHON : Loops are used to repeat instruction under specific conditiona and till stopping condition.\n"
   ]
  },
  {
   "cell_type": "code",
   "execution_count": null,
   "metadata": {},
   "outputs": [
    {
     "name": "stdout",
     "output_type": "stream",
     "text": [
      "hello\n",
      "hello\n",
      "hello\n",
      "hello\n",
      "hello\n",
      "hello\n",
      "hello\n",
      "hello\n",
      "hello\n",
      "hello\n"
     ]
    }
   ],
   "source": [
    "# While loop:\n",
    "\n",
    "#Syntax of while loop:\n",
    "\n",
    "i = 0 # initilization of firts element of loop.means at this value loop will start and loop will run further till stopping not gets false.\n",
    "while i<= 9: # stopping condition. loop keeps running until condition got to false.\n",
    "    print(\"hello\") # work execution means kaam kya karna hai.\n",
    "    i += 1 # iterator i.e at what step/pace loop is running.\n",
    "\n",
    "# This is basics fundamental syntax of  while loop. lets practice\n",
    "# Don't create infinite loop it is very dangerous.and there is no practical usages of infinite loop.\n",
    "\n",
    "\n"
   ]
  },
  {
   "cell_type": "code",
   "execution_count": null,
   "metadata": {},
   "outputs": [],
   "source": [
    "# Infinite loop examples:\n",
    "\n",
    "while True:\n",
    "    print(\"hello\")\n",
    "\n",
    "# and \n",
    "\n",
    "i =7\n",
    "while i < 9:\n",
    "    print(\"hello\",i)\n",
    "    i-=1\n",
    "\n",
    "# are example of while loop.Dont create infinite loop ever.\n"
   ]
  },
  {
   "cell_type": "code",
   "execution_count": null,
   "metadata": {},
   "outputs": [
    {
     "name": "stdout",
     "output_type": "stream",
     "text": [
      "1\n",
      "2\n",
      "3\n",
      "4\n",
      "5\n",
      "6\n",
      "7\n",
      "8\n",
      "9\n",
      "10\n",
      "11\n",
      "12\n",
      "13\n",
      "14\n",
      "15\n",
      "16\n",
      "17\n",
      "18\n",
      "19\n",
      "20\n",
      "21\n",
      "22\n",
      "23\n",
      "24\n",
      "25\n",
      "26\n",
      "27\n",
      "28\n",
      "29\n",
      "30\n",
      "31\n",
      "32\n",
      "33\n",
      "34\n",
      "35\n",
      "36\n",
      "37\n",
      "38\n",
      "39\n",
      "40\n",
      "41\n",
      "42\n",
      "43\n",
      "44\n",
      "45\n",
      "46\n",
      "47\n",
      "48\n",
      "49\n",
      "50\n",
      "51\n",
      "52\n",
      "53\n",
      "54\n",
      "55\n",
      "56\n",
      "57\n",
      "58\n",
      "59\n",
      "60\n",
      "61\n",
      "62\n",
      "63\n",
      "64\n",
      "65\n",
      "66\n",
      "67\n",
      "68\n",
      "69\n",
      "70\n",
      "71\n",
      "72\n",
      "73\n",
      "74\n",
      "75\n",
      "76\n",
      "77\n",
      "78\n",
      "79\n",
      "80\n",
      "81\n",
      "82\n",
      "83\n",
      "84\n",
      "85\n",
      "86\n",
      "87\n",
      "88\n",
      "89\n",
      "90\n",
      "91\n",
      "92\n",
      "93\n",
      "94\n",
      "95\n",
      "96\n",
      "97\n",
      "98\n",
      "99\n",
      "100\n",
      "loop ended\n",
      "101\n"
     ]
    }
   ],
   "source": [
    "# Examples of loop:\n",
    "\n",
    "#Q1: PRINT NUMBER FROM 1 TO 100.\n",
    "\n",
    "i = 1\n",
    "while i<=100: # loop ends at 100\n",
    "    print(i)\n",
    "    i+=1\n",
    "print(\"loop ended\")\n",
    "print(i)# at here i=100 so at last i+=1 gives 101"
   ]
  },
  {
   "cell_type": "code",
   "execution_count": null,
   "metadata": {},
   "outputs": [
    {
     "name": "stdout",
     "output_type": "stream",
     "text": [
      "100\n",
      "99\n",
      "98\n",
      "97\n",
      "96\n",
      "95\n",
      "94\n",
      "93\n",
      "92\n",
      "91\n",
      "90\n",
      "89\n",
      "88\n",
      "87\n",
      "86\n",
      "85\n",
      "84\n",
      "83\n",
      "82\n",
      "81\n",
      "80\n",
      "79\n",
      "78\n",
      "77\n",
      "76\n",
      "75\n",
      "74\n",
      "73\n",
      "72\n",
      "71\n",
      "70\n",
      "69\n",
      "68\n",
      "67\n",
      "66\n",
      "65\n",
      "64\n",
      "63\n",
      "62\n",
      "61\n",
      "60\n",
      "59\n",
      "58\n",
      "57\n",
      "56\n",
      "55\n",
      "54\n",
      "53\n",
      "52\n",
      "51\n",
      "50\n",
      "49\n",
      "48\n",
      "47\n",
      "46\n",
      "45\n",
      "44\n",
      "43\n",
      "42\n",
      "41\n",
      "40\n",
      "39\n",
      "38\n",
      "37\n",
      "36\n",
      "35\n",
      "34\n",
      "33\n",
      "32\n",
      "31\n",
      "30\n",
      "29\n",
      "28\n",
      "27\n",
      "26\n",
      "25\n",
      "24\n",
      "23\n",
      "22\n",
      "21\n",
      "20\n",
      "19\n",
      "18\n",
      "17\n",
      "16\n",
      "15\n",
      "14\n",
      "13\n",
      "12\n",
      "11\n",
      "10\n",
      "9\n",
      "8\n",
      "7\n",
      "6\n",
      "loop ends\n",
      "5\n"
     ]
    }
   ],
   "source": [
    "#Q2: print number from 100 to 6\n",
    "i = 100\n",
    "while i>=6: # loop ends at 6\n",
    "    print(i)\n",
    "    i-=1\n",
    "print(\"loop ends\")\n",
    "print(i) # last value of i = 6 butat last i -= 1 will give 6-1=5 \n"
   ]
  },
  {
   "cell_type": "code",
   "execution_count": 10,
   "metadata": {},
   "outputs": [
    {
     "name": "stdout",
     "output_type": "stream",
     "text": [
      "5\n",
      "10\n",
      "15\n",
      "20\n",
      "25\n",
      "30\n",
      "35\n",
      "40\n",
      "45\n",
      "50\n",
      "loop ends\n"
     ]
    }
   ],
   "source": [
    "# Q3: Print the multiplication of number n:\n",
    "n=5\n",
    "i = 1\n",
    "while i<=10:\n",
    "    print(n*i)\n",
    "    i += 1\n",
    "print(\"loop ends\")\n"
   ]
  },
  {
   "cell_type": "code",
   "execution_count": null,
   "metadata": {},
   "outputs": [
    {
     "name": "stdout",
     "output_type": "stream",
     "text": [
      "0\n",
      "2\n",
      "4\n",
      "6\n",
      "8\n",
      "10\n",
      "12\n",
      "14\n",
      "16\n",
      "18\n",
      "20\n",
      "22\n",
      "24\n",
      "26\n",
      "28\n",
      "30\n",
      "32\n",
      "34\n",
      "36\n",
      "38\n",
      "40\n",
      "42\n",
      "44\n",
      "46\n",
      "48\n",
      "50\n",
      "52\n",
      "54\n",
      "56\n",
      "58\n",
      "60\n",
      "62\n",
      "64\n",
      "66\n",
      "68\n",
      "70\n",
      "72\n",
      "74\n",
      "76\n",
      "78\n",
      "80\n"
     ]
    }
   ],
   "source": [
    "#  print all even vaues between 10 to 80 both are inclusive:\n",
    "i = 0\n",
    "while i<=80:\n",
    "    print(i)\n",
    "    i +=2\n",
    "    # got it it working norms\n",
    "    "
   ]
  },
  {
   "cell_type": "code",
   "execution_count": null,
   "metadata": {},
   "outputs": [
    {
     "name": "stdout",
     "output_type": "stream",
     "text": [
      "1\n",
      "4\n",
      "9\n",
      "16\n",
      "25\n",
      "36\n",
      "49\n",
      "64\n",
      "81\n",
      "100\n"
     ]
    }
   ],
   "source": [
    "# Print the element of following loop using while loop:\n",
    "list1 = [1,4,9,16,25,36,,64,81,100]\n",
    "idx = 0\n",
    "while idx < len(list1): # we can also specify here while idx <= len(list)-1:\n",
    "    print(list1[idx])\n",
    "    idx+=1\n",
    "\n"
   ]
  },
  {
   "cell_type": "code",
   "execution_count": 5,
   "metadata": {},
   "outputs": [
    {
     "name": "stdout",
     "output_type": "stream",
     "text": [
      "finding...\n",
      "finding...\n",
      "finding...\n",
      "finding...\n",
      "finding...\n",
      "finding...\n",
      "number X found at idx: 6\n",
      "finding...\n",
      "finding...\n",
      "number X found at idx: 9\n",
      "finding...\n",
      "helooo sadhu\n"
     ]
    }
   ],
   "source": [
    "# find the element X from following tuple.\n",
    "tuple1 = (1,4,9,16,25,36,49,64,81,49,100)\n",
    "X = 49\n",
    "idx = 0\n",
    "while idx < len(tuple1): # again we can also specify it as, while idx <= len(tuple)-1 : ,as :\n",
    "    if(tuple1[idx] == X):\n",
    "        print(\"number X found at idx:\",idx)\n",
    "    else:\n",
    "        print(\"finding...\")\n",
    "    idx+=1\n",
    "print(\"helooo sadhu\")"
   ]
  },
  {
   "cell_type": "code",
   "execution_count": null,
   "metadata": {},
   "outputs": [
    {
     "name": "stdout",
     "output_type": "stream",
     "text": [
      "hello 0\n",
      "hello 1\n",
      "hello 2\n",
      "hello 3\n",
      "hello 4\n",
      "loop ends\n"
     ]
    }
   ],
   "source": [
    "# Breaks and Continues in while loops;\n",
    "\n",
    "# 1 : Breaks used to terminate / stop the loop when it inititated.\n",
    "i = 0\n",
    "while i < 10 :                                                                  # while , break , for , continues and range  are keywords here.\n",
    "    print(\"hello\",i)\n",
    "    if(i == 4): # however loop will run at i=4 but after that it will stop.\n",
    "        break  \n",
    "    i += 1\n",
    "print(\"loop ends\")\n",
    "# sos this is ussages of break in loop. letsee one more example."
   ]
  },
  {
   "cell_type": "code",
   "execution_count": 3,
   "metadata": {},
   "outputs": [
    {
     "name": "stdout",
     "output_type": "stream",
     "text": [
      "finding...\n",
      "finding...\n",
      "finding...\n",
      "finding...\n",
      "finding...\n",
      "finding...\n",
      "number X found at idx: 6\n",
      "loop ends\n"
     ]
    }
   ],
   "source": [
    "# understanding breaks via example:\n",
    "tuple1 = (1,4,9,16,25,36,49,64,81,49,100)\n",
    "X = 49\n",
    "idx = 0\n",
    "while idx < len(tuple1): # again we can also specify it as, while idx <= len(tuple)-1 : ,as :\n",
    "    if(tuple1[idx] == X):\n",
    "        print(\"number X found at idx:\",idx)\n",
    "        break # how ever first time apperence of X value will print and aftyer that loop will stop. lets see\n",
    "    else:\n",
    "        print(\"finding...\")\n",
    "    idx+=1\n",
    "print(\"loop ends\")    # this is out of loop and will print surely you know .\n",
    "# got it\n"
   ]
  },
  {
   "cell_type": "code",
   "execution_count": null,
   "metadata": {},
   "outputs": [
    {
     "name": "stdout",
     "output_type": "stream",
     "text": [
      "hello 0\n",
      "hello 1\n",
      "hello 2\n",
      "hello 4\n",
      "hello 5\n",
      "hello 6\n",
      "hello 7\n",
      "hello 8\n",
      "hello 9\n",
      "loop ended.\n"
     ]
    }
   ],
   "source": [
    "# continues \n",
    "# continues just terminate in  current iteration and continues executions of the loop with next iteration.\n",
    "\n",
    "i = 0\n",
    "while i < 10 : \n",
    "    if (i == 3):\n",
    "        i += 1 # when i will be 3 it fill face intanatly 3+1= become 4 and for i= 4 will print and i= 3 value will not print.\n",
    "        continue # continues all legitimate execution of loop cases.\n",
    "    print(\"hello\",i)\n",
    "    i += 1\n",
    "print(\"loop ended.\")    # loop dse matlab nii\n"
   ]
  },
  {
   "cell_type": "code",
   "execution_count": 9,
   "metadata": {},
   "outputs": [
    {
     "name": "stdout",
     "output_type": "stream",
     "text": [
      "1\n",
      "3\n",
      "5\n",
      "7\n",
      "9\n",
      "11\n",
      "13\n",
      "15\n",
      "17\n",
      "19\n",
      "hatt peechhheeee\n"
     ]
    }
   ],
   "source": [
    "# continue best examples\n",
    "# print all odd no between 0 to 20 .\n",
    "i = 0\n",
    "while i < 20:\n",
    "    if (i%2==0):\n",
    "        i += 1\n",
    "        continue\n",
    "    print(i)    \n",
    "    i += 1\n",
    "print(\"hatt peechhheeee\")    "
   ]
  },
  {
   "cell_type": "code",
   "execution_count": null,
   "metadata": {},
   "outputs": [
    {
     "name": "stdout",
     "output_type": "stream",
     "text": [
      "0\n",
      "2\n",
      "4\n",
      "6\n",
      "8\n",
      "10\n",
      "12\n",
      "14\n",
      "16\n",
      "18\n",
      "20\n",
      "khhhattttak\n"
     ]
    }
   ],
   "source": [
    "# print all even number between 0 t0 20: both are inclusive\n",
    "i = 0\n",
    "while i <= 20 : \n",
    "    if (i%2 != 0):\n",
    "        i += 1\n",
    "        continue\n",
    "    print(i)\n",
    "    i += 1\n",
    "print(\"khhhattttak\")"
   ]
  },
  {
   "cell_type": "code",
   "execution_count": null,
   "metadata": {},
   "outputs": [
    {
     "name": "stdout",
     "output_type": "stream",
     "text": [
      "1\n",
      "4\n",
      "9\n",
      "16\n",
      "25\n",
      "36\n",
      "49\n",
      "64\n",
      "81\n",
      "49\n",
      "100\n",
      "end of loop\n"
     ]
    }
   ],
   "source": [
    "# FOR LOOP:\n",
    "\n",
    "# for loop is used for sequential traversal i.e traversing on list , tuple, string.\n",
    "#  syntax is              for val in name  :\n",
    "#                             # some work                 here (for , in ) are key words and name refers to list/tuples/string and  val refers to it elements :\n",
    "\n",
    "tuple1 = (1,4,9,16,25,36,49,64,81,49,100)\n",
    "for val in tuple1:\n",
    "    print(val)\n",
    "print('end of loop')\n"
   ]
  },
  {
   "cell_type": "code",
   "execution_count": null,
   "metadata": {},
   "outputs": [
    {
     "name": "stdout",
     "output_type": "stream",
     "text": [
      "1\n",
      "4\n",
      "9\n",
      "16\n",
      "25\n",
      "36\n",
      "64\n",
      "81\n",
      "100\n",
      "apun\n",
      "don banega jon\n",
      "hello friends\n"
     ]
    }
   ],
   "source": [
    "list1 = [1,4,9,16,25,36,64,81,100,\"apun\", \"don banega jon\", \"hello friends\"]\n",
    "for elem in list1:\n",
    "    print(elem)\n",
    "\n"
   ]
  },
  {
   "cell_type": "code",
   "execution_count": 18,
   "metadata": {},
   "outputs": [
    {
     "name": "stdout",
     "output_type": "stream",
     "text": [
      "Ladyfinger\n",
      "Carrot\n",
      "Cucumber\n"
     ]
    }
   ],
   "source": [
    "veggies = [\"Ladyfinger\",\"Carrot\", \"Cucumber\"]\n",
    "for sabji in veggies:\n",
    "    print(sabji)"
   ]
  },
  {
   "cell_type": "code",
   "execution_count": null,
   "metadata": {},
   "outputs": [
    {
     "name": "stdout",
     "output_type": "stream",
     "text": [
      "1\n",
      "4\n",
      "9\n",
      "16\n",
      "25\n",
      "36\n",
      "64\n",
      "81\n",
      "100\n",
      "apun\n",
      "don banega jon\n",
      "hello friends\n",
      "loop ended\n"
     ]
    }
   ],
   "source": [
    "# optional use of else in loop\n",
    "# use it only when loop runs without break it does't work with break :\n",
    "\n",
    "list1 = [1,4,9,16,25,36,64,81,100,\"apun\", \"don banega jon\", \"hello friends\"]\n",
    "for val in list1:\n",
    "    print(val)\n",
    "else:\n",
    "    print(\"loop ended\")    \n"
   ]
  },
  {
   "cell_type": "code",
   "execution_count": 25,
   "metadata": {},
   "outputs": [
    {
     "name": "stdout",
     "output_type": "stream",
     "text": [
      "val\n",
      "val\n",
      "val\n",
      "val\n",
      "val\n",
      "val\n",
      "val\n",
      "val\n",
      "mission complete\n"
     ]
    }
   ],
   "source": [
    "#  else does't work with break see\n",
    "list1 = [1,4,9,16,25,36,64,81,100,\"apun\", \"don banega jon\", \"hello friends\"]\n",
    "for val in list1:\n",
    "    print(\"val\")\n",
    "    if (val == 81):\n",
    "        print(\"mission complete\")\n",
    "        break\n",
    "else:\n",
    "    print(\"loop ended\")    \n"
   ]
  },
  {
   "cell_type": "code",
   "execution_count": null,
   "metadata": {},
   "outputs": [
    {
     "name": "stdout",
     "output_type": "stream",
     "text": [
      "val\n",
      "val\n",
      "val\n",
      "val\n",
      "val\n",
      "val\n",
      "val\n",
      "val\n",
      "mission complete\n",
      "loop ended\n"
     ]
    }
   ],
   "source": [
    "# so if you have break  use direct method that priint after loop complition:\n",
    "list1 = [1,4,9,16,25,36,64,81,100,\"apun\", \"don banega jon\", \"hello friends\"]\n",
    "for val in list1:\n",
    "    print(\"val\")\n",
    "    if (val == 81):\n",
    "        print(\"mission complete\")\n",
    "        break\n",
    "else:\n",
    "    print(\"loop ended\")    \n",
    "print(\"loop ended\") # is tarah okay."
   ]
  },
  {
   "cell_type": "code",
   "execution_count": 28,
   "metadata": {},
   "outputs": [
    {
     "name": "stdout",
     "output_type": "stream",
     "text": [
      "1\n",
      "4\n",
      "9\n",
      "16\n",
      "25\n",
      "36\n",
      "64\n",
      "81\n",
      "100\n",
      "apun\n",
      "don banega jon\n",
      "hello friends\n"
     ]
    }
   ],
   "source": [
    "# practice time :\n",
    "# Q1: print element of following list using for loop:\n",
    "list1 = [1,4,9,16,25,36,64,81,100,\"apun\", \"don banega jon\", \"hello friends\"]\n",
    "for  val in list1:\n",
    "    print(val)"
   ]
  },
  {
   "cell_type": "code",
   "execution_count": null,
   "metadata": {},
   "outputs": [
    {
     "name": "stdout",
     "output_type": "stream",
     "text": [
      "not found\n",
      "not found\n",
      "not found\n",
      "not found\n",
      "not found\n",
      "not found\n",
      "not found\n",
      "X found at: 7\n",
      "not found\n",
      "not found\n",
      "X found at: 9\n",
      "not found\n",
      "X found at: 10\n",
      "loop ended\n"
     ]
    }
   ],
   "source": [
    "# Q2: search for following numberi x in tuple :\n",
    "tuple1 = (1,4,9,16,25,36,49,64,81,49,64,100,64)\n",
    "X = 64\n",
    "idx = 0\n",
    "for val in tuple1:\n",
    "    if(val == X):\n",
    "        print(\"X found at:\", idx)\n",
    "    else: \n",
    "        print(\"not found\")\n",
    "        idx +=1\n",
    "print(\"loop ended\")        \n",
    "# this concept of searching is ca;lled liear search."
   ]
  },
  {
   "cell_type": "code",
   "execution_count": null,
   "metadata": {},
   "outputs": [],
   "source": [
    "# Range in loops:\n",
    "# Range function returns the sequence of numbers , starting form 0(by default),increment by 1 (by default) and stops at specified point.\n",
    "# range(start?,stop,step?):start and step is optional but stop point should be must specified.\n",
    "# start will be specifide if not it will be start from 0 by default.\n",
    "#stop will be specified as obligatory.\n",
    "# step will be specifed if not it will start gap of giving 1.\n",
    "\n",
    "# some cases:   \n",
    "range(5):   # here 5 will be stopping point where 5 will not get included, starting by default 0 and steps size by default 1\n",
    "range(2,8):  # here  2 is starting point and 8 is stoping point where 8 is exclusive and by defult step size is 1.\n",
    "range(3,11,2): # here 3 is starting point, 11 is stoping point and 2 is step size.\n",
    "# step size can be negative and it is use for decresing series.\n",
    "# stopping point value and starting value may be +ve or -ve.\n"
   ]
  },
  {
   "cell_type": "code",
   "execution_count": 35,
   "metadata": {},
   "outputs": [
    {
     "name": "stdout",
     "output_type": "stream",
     "text": [
      "0\n",
      "1\n",
      "2\n",
      "3\n",
      "4\n",
      "5\n",
      "6\n",
      "7\n"
     ]
    }
   ],
   "source": [
    "# Q1: \n",
    "for val in range(8):\n",
    "    print(val)"
   ]
  },
  {
   "cell_type": "code",
   "execution_count": 36,
   "metadata": {},
   "outputs": [
    {
     "name": "stdout",
     "output_type": "stream",
     "text": [
      "2\n",
      "3\n",
      "4\n",
      "5\n",
      "6\n",
      "7\n",
      "8\n",
      "9\n",
      "10\n",
      "11\n",
      "12\n",
      "13\n",
      "14\n",
      "15\n",
      "16\n",
      "17\n",
      "18\n",
      "19\n",
      "20\n",
      "21\n",
      "22\n",
      "23\n",
      "24\n"
     ]
    }
   ],
   "source": [
    "# Q2: \n",
    "for val in range (2,25):\n",
    "    print(val)"
   ]
  },
  {
   "cell_type": "code",
   "execution_count": 38,
   "metadata": {},
   "outputs": [
    {
     "name": "stdout",
     "output_type": "stream",
     "text": [
      "5\n",
      "7\n",
      "9\n",
      "11\n",
      "13\n",
      "15\n",
      "17\n",
      "19\n",
      "21\n",
      "23\n",
      "25\n",
      "27\n",
      "29\n",
      "31\n",
      "33\n"
     ]
    }
   ],
   "source": [
    "# Q3:\n",
    "for elem in range(5,35,2):\n",
    "    print(elem)"
   ]
  },
  {
   "cell_type": "code",
   "execution_count": 39,
   "metadata": {},
   "outputs": [
    {
     "name": "stdout",
     "output_type": "stream",
     "text": [
      "110\n",
      "108\n",
      "106\n",
      "104\n",
      "102\n",
      "100\n",
      "98\n",
      "96\n",
      "94\n",
      "92\n",
      "90\n",
      "88\n",
      "86\n",
      "84\n",
      "82\n",
      "80\n",
      "78\n",
      "76\n",
      "74\n",
      "72\n",
      "70\n",
      "68\n",
      "66\n",
      "64\n",
      "62\n",
      "60\n",
      "58\n",
      "56\n",
      "54\n",
      "52\n"
     ]
    }
   ],
   "source": [
    "#Q4:\n",
    "for val in range(110, 50,-2):\n",
    "    print(val)"
   ]
  },
  {
   "cell_type": "code",
   "execution_count": 40,
   "metadata": {},
   "outputs": [
    {
     "name": "stdout",
     "output_type": "stream",
     "text": [
      "1\n",
      "2\n",
      "3\n",
      "4\n",
      "5\n",
      "6\n",
      "7\n",
      "8\n",
      "9\n",
      "10\n",
      "11\n",
      "12\n",
      "13\n",
      "14\n",
      "15\n",
      "16\n",
      "17\n",
      "18\n",
      "19\n",
      "20\n",
      "21\n",
      "22\n",
      "23\n",
      "24\n",
      "25\n",
      "26\n",
      "27\n",
      "28\n",
      "29\n",
      "30\n",
      "31\n",
      "32\n",
      "33\n",
      "34\n",
      "35\n",
      "36\n",
      "37\n",
      "38\n",
      "39\n",
      "40\n",
      "41\n",
      "42\n",
      "43\n",
      "44\n",
      "45\n",
      "46\n",
      "47\n",
      "48\n",
      "49\n",
      "50\n",
      "51\n",
      "52\n",
      "53\n",
      "54\n",
      "55\n",
      "56\n",
      "57\n",
      "58\n",
      "59\n",
      "60\n",
      "61\n",
      "62\n",
      "63\n",
      "64\n",
      "65\n",
      "66\n",
      "67\n",
      "68\n",
      "69\n",
      "70\n",
      "71\n",
      "72\n",
      "73\n",
      "74\n",
      "75\n",
      "76\n",
      "77\n",
      "78\n",
      "79\n",
      "80\n",
      "81\n",
      "82\n",
      "83\n",
      "84\n",
      "85\n",
      "86\n",
      "87\n",
      "88\n",
      "89\n",
      "90\n",
      "91\n",
      "92\n",
      "93\n",
      "94\n",
      "95\n",
      "96\n",
      "97\n",
      "98\n",
      "99\n",
      "100\n"
     ]
    }
   ],
   "source": [
    "# Q1: print number fro 1 to 100:\n",
    "for val in range (1,101,1):\n",
    "    print(val)"
   ]
  },
  {
   "cell_type": "code",
   "execution_count": 41,
   "metadata": {},
   "outputs": [
    {
     "name": "stdout",
     "output_type": "stream",
     "text": [
      "200\n",
      "199\n",
      "198\n",
      "197\n",
      "196\n",
      "195\n",
      "194\n",
      "193\n",
      "192\n",
      "191\n",
      "190\n",
      "189\n",
      "188\n",
      "187\n",
      "186\n",
      "185\n",
      "184\n",
      "183\n",
      "182\n",
      "181\n",
      "180\n",
      "179\n",
      "178\n",
      "177\n",
      "176\n",
      "175\n",
      "174\n",
      "173\n",
      "172\n",
      "171\n",
      "170\n",
      "169\n",
      "168\n",
      "167\n",
      "166\n",
      "165\n",
      "164\n",
      "163\n",
      "162\n",
      "161\n",
      "160\n",
      "159\n",
      "158\n",
      "157\n",
      "156\n",
      "155\n",
      "154\n",
      "153\n",
      "152\n",
      "151\n",
      "150\n",
      "149\n",
      "148\n",
      "147\n",
      "146\n",
      "145\n",
      "144\n",
      "143\n",
      "142\n",
      "141\n",
      "140\n",
      "139\n",
      "138\n",
      "137\n",
      "136\n",
      "135\n",
      "134\n",
      "133\n",
      "132\n",
      "131\n",
      "130\n",
      "129\n",
      "128\n",
      "127\n",
      "126\n",
      "125\n",
      "124\n",
      "123\n",
      "122\n",
      "121\n",
      "120\n",
      "119\n",
      "118\n",
      "117\n",
      "116\n",
      "115\n",
      "114\n",
      "113\n",
      "112\n",
      "111\n",
      "110\n",
      "109\n",
      "108\n",
      "107\n",
      "106\n",
      "105\n",
      "104\n",
      "103\n",
      "102\n",
      "101\n",
      "100\n",
      "99\n",
      "98\n",
      "97\n",
      "96\n",
      "95\n",
      "94\n",
      "93\n",
      "92\n",
      "91\n",
      "90\n",
      "89\n",
      "88\n",
      "87\n",
      "86\n",
      "85\n",
      "84\n",
      "83\n",
      "82\n",
      "81\n",
      "80\n",
      "79\n",
      "78\n",
      "77\n",
      "76\n",
      "75\n",
      "74\n",
      "73\n",
      "72\n",
      "71\n",
      "70\n",
      "69\n",
      "68\n",
      "67\n",
      "66\n",
      "65\n",
      "64\n",
      "63\n",
      "62\n",
      "61\n",
      "60\n",
      "59\n",
      "58\n",
      "57\n",
      "56\n",
      "55\n",
      "54\n",
      "53\n",
      "52\n",
      "51\n",
      "50\n",
      "49\n",
      "48\n",
      "47\n",
      "46\n",
      "45\n",
      "44\n",
      "43\n",
      "42\n",
      "41\n",
      "40\n",
      "39\n",
      "38\n",
      "37\n",
      "36\n",
      "35\n",
      "34\n",
      "33\n",
      "32\n",
      "31\n",
      "30\n",
      "29\n",
      "28\n",
      "27\n",
      "26\n",
      "25\n",
      "24\n",
      "23\n",
      "22\n",
      "21\n",
      "20\n",
      "19\n",
      "18\n",
      "17\n",
      "16\n",
      "15\n",
      "14\n",
      "13\n",
      "12\n",
      "11\n",
      "10\n",
      "9\n",
      "8\n",
      "7\n",
      "6\n",
      "5\n",
      "4\n",
      "3\n",
      "2\n",
      "1\n",
      "0\n",
      "-1\n",
      "-2\n",
      "-3\n",
      "-4\n",
      "-5\n",
      "-6\n",
      "-7\n",
      "-8\n",
      "-9\n",
      "-10\n"
     ]
    }
   ],
   "source": [
    "# Q2: print no 200 to -10\n",
    "for elem in range(200,-11,-1):\n",
    "    print(elem)"
   ]
  },
  {
   "cell_type": "code",
   "execution_count": null,
   "metadata": {},
   "outputs": [
    {
     "name": "stdout",
     "output_type": "stream",
     "text": [
      "14\n",
      "28\n",
      "42\n",
      "56\n",
      "70\n",
      "84\n",
      "98\n",
      "112\n",
      "126\n",
      "140\n"
     ]
    }
   ],
   "source": [
    "# print the multiplication table of n:\n",
    "n = 14 # you can urtge form user input as well.\n",
    "for el in range(1,11,1): \n",
    "    print(n*el) "
   ]
  },
  {
   "cell_type": "code",
   "execution_count": null,
   "metadata": {},
   "outputs": [
    {
     "name": "stdout",
     "output_type": "stream",
     "text": [
      "21\n",
      "23\n",
      "25\n",
      "27\n",
      "29\n",
      "31\n",
      "33\n",
      "35\n",
      "37\n",
      "39\n",
      "41\n",
      "43\n",
      "45\n",
      "47\n",
      "49\n"
     ]
    }
   ],
   "source": [
    "#Q: Print the odd value between 20 to 50:\n",
    "for val in range (21,50,2):\n",
    "    print(val)"
   ]
  },
  {
   "cell_type": "code",
   "execution_count": null,
   "metadata": {},
   "outputs": [
    {
     "name": "stdout",
     "output_type": "stream",
     "text": [
      "16\n",
      "18\n",
      "20\n",
      "22\n",
      "24\n",
      "26\n",
      "28\n",
      "30\n",
      "32\n",
      "34\n",
      "36\n",
      "38\n",
      "40\n",
      "42\n",
      "44\n",
      "46\n",
      "48\n",
      "50\n",
      "52\n",
      "54\n",
      "56\n",
      "58\n",
      "60\n",
      "62\n",
      "64\n",
      "66\n",
      "68\n",
      "70\n",
      "72\n",
      "74\n",
      "76\n",
      "78\n"
     ]
    }
   ],
   "source": [
    "# Q:print the even value between 15 to 80; 80 is inclusive.\n",
    "for val in range (16,80,2):\n",
    "    print(val)  # PANKAJ YADAV ,ERA MAA, "
   ]
  },
  {
   "cell_type": "code",
   "execution_count": null,
   "metadata": {},
   "outputs": [],
   "source": [
    "# PASS STATEMENT:\n",
    "# pass statement is null spaces that does nothing .Just uses as placeholder for future code.\n"
   ]
  },
  {
   "cell_type": "code",
   "execution_count": null,
   "metadata": {},
   "outputs": [
    {
     "ename": "_IncompleteInputError",
     "evalue": "incomplete input (2204795490.py, line 2)",
     "output_type": "error",
     "traceback": [
      "  \u001b[36mCell\u001b[39m\u001b[36m \u001b[39m\u001b[32mIn[45]\u001b[39m\u001b[32m, line 2\u001b[39m\n\u001b[31m    \u001b[39m\n    ^\n\u001b[31m_IncompleteInputError\u001b[39m\u001b[31m:\u001b[39m incomplete input\n"
     ]
    }
   ],
   "source": [
    "for val in range (15): # if you left loop witout any work and tries to run it will throw an error.to solve it we uses pass see\n"
   ]
  },
  {
   "cell_type": "code",
   "execution_count": null,
   "metadata": {},
   "outputs": [
    {
     "name": "stdout",
     "output_type": "stream",
     "text": [
      "we put pass here for your future refernce\n"
     ]
    }
   ],
   "source": [
    "# USING PASS\n",
    "for val in range (3,14,2):\n",
    "    pass \n",
    "print(\"we put pass here for your future refernce\") # ab koi issue nii hai."
   ]
  },
  {
   "cell_type": "code",
   "execution_count": 52,
   "metadata": {},
   "outputs": [
    {
     "name": "stdout",
     "output_type": "stream",
     "text": [
      "sum of first 12 number is: 78\n"
     ]
    }
   ],
   "source": [
    "# WAP to find the sum of first n natiural numner(using for and while loop):\n",
    "# using while loop:\n",
    "i=0\n",
    "n=12\n",
    "sum= 0\n",
    "while i<=n:\n",
    "    sum += i\n",
    "    i += 1\n",
    "print(\"sum of first 12 number is:\",sum)    "
   ]
  },
  {
   "cell_type": "code",
   "execution_count": 69,
   "metadata": {},
   "outputs": [
    {
     "name": "stdout",
     "output_type": "stream",
     "text": [
      "sum of first 12 number is : 78\n"
     ]
    }
   ],
   "source": [
    "# using for loop:\n",
    "sum = 0\n",
    "n = 12\n",
    "for val in range (0,n+1):\n",
    "    sum += val\n",
    "    \n",
    "print(\"sum of first 12 number is :\",sum)"
   ]
  },
  {
   "cell_type": "code",
   "execution_count": null,
   "metadata": {},
   "outputs": [
    {
     "name": "stdout",
     "output_type": "stream",
     "text": [
      "factorial of number 5 is: 120\n"
     ]
    }
   ],
   "source": [
    "# Write a program to find factorial of number n:(using for  loop and while also)\n",
    "#  Using while loop:\n",
    "i = 1 # dont put 0 othetrwisee all factorial value will be 0\n",
    "fact = 1\n",
    "n = 5\n",
    "while i < n:\n",
    "    i += 1\n",
    "    fact *= i\n",
    "print(\"Factorial of number 5 is:\",fact)"
   ]
  },
  {
   "cell_type": "code",
   "execution_count": 1,
   "metadata": {},
   "outputs": [
    {
     "name": "stdout",
     "output_type": "stream",
     "text": [
      "Factorial of 7 will be:  5040\n"
     ]
    }
   ],
   "source": [
    "# using for loop:\n",
    "\n",
    "fact = 1\n",
    "n = 7\n",
    "for val in range(1,n+1):\n",
    "    fact*=val\n",
    "print(\"Factorial of 7 will be: \",fact)"
   ]
  },
  {
   "cell_type": "code",
   "execution_count": null,
   "metadata": {},
   "outputs": [],
   "source": [
    "# Diffrence in usages of while loop and for loop:"
   ]
  }
 ],
 "metadata": {
  "kernelspec": {
   "display_name": "Python 3",
   "language": "python",
   "name": "python3"
  },
  "language_info": {
   "codemirror_mode": {
    "name": "ipython",
    "version": 3
   },
   "file_extension": ".py",
   "mimetype": "text/x-python",
   "name": "python",
   "nbconvert_exporter": "python",
   "pygments_lexer": "ipython3",
   "version": "3.13.1"
  }
 },
 "nbformat": 4,
 "nbformat_minor": 2
}
