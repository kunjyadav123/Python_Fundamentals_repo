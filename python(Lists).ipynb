{
 "cells": [
  {
   "cell_type": "markdown",
   "metadata": {},
   "source": [
    "# Lecutre 4"
   ]
  },
  {
   "cell_type": "code",
   "execution_count": null,
   "metadata": {},
   "outputs": [],
   "source": [
    "# LIST In Python.\n",
    "# A bilit in data type that stores value.\n",
    "# It can store element of different data types together.Also can save element of same data type.\n",
    "# lets go\n",
    "list_1 = [] # this also a list of zero element known as empty list."
   ]
  },
  {
   "cell_type": "code",
   "execution_count": 39,
   "metadata": {},
   "outputs": [
    {
     "name": "stdout",
     "output_type": "stream",
     "text": [
      "[12, 'Rahul', 36.35, '@', 'Aman']\n",
      "<class 'list'>\n",
      "[12, 14, 16]\n",
      "<class 'list'>\n"
     ]
    }
   ],
   "source": [
    "marks =  [12 , \"Rahul\", 36.35 ,\"@\", \"Aman\"]\n",
    "print(marks)\n",
    "print(type(marks)) # Basics of list in Python.\n",
    "rollno  = [12,14,16]\n",
    "print(rollno)\n",
    "print(type(rollno))"
   ]
  },
  {
   "cell_type": "code",
   "execution_count": 40,
   "metadata": {},
   "outputs": [
    {
     "name": "stdout",
     "output_type": "stream",
     "text": [
      "12 Aman\n",
      "5\n"
     ]
    },
    {
     "ename": "IndexError",
     "evalue": "list index out of range",
     "output_type": "error",
     "traceback": [
      "\u001b[31m---------------------------------------------------------------------------\u001b[39m",
      "\u001b[31mIndexError\u001b[39m                                Traceback (most recent call last)",
      "\u001b[36mCell\u001b[39m\u001b[36m \u001b[39m\u001b[32mIn[40]\u001b[39m\u001b[32m, line 12\u001b[39m\n\u001b[32m      9\u001b[39m \u001b[38;5;28mprint\u001b[39m(\u001b[38;5;28mlen\u001b[39m(marks))\n\u001b[32m     11\u001b[39m \u001b[38;5;66;03m# Accessing element our of index range will throw error just like in case of string.\u001b[39;00m\n\u001b[32m---> \u001b[39m\u001b[32m12\u001b[39m num = \u001b[43mmarks\u001b[49m\u001b[43m[\u001b[49m\u001b[32;43m6\u001b[39;49m\u001b[43m]\u001b[49m\n\u001b[32m     13\u001b[39m \u001b[38;5;28mprint\u001b[39m(num)\n\u001b[32m     14\u001b[39m \u001b[38;5;66;03m# i.e an error.\u001b[39;00m\n",
      "\u001b[31mIndexError\u001b[39m: list index out of range"
     ]
    }
   ],
   "source": [
    "# List also follow inedxing norms just like string:\n",
    "marks =  [12 , \"Rahul\", 36.35 ,\"@\", \"Aman\"]\n",
    "num0 = marks[0]\n",
    "num4 = marks[4]\n",
    "print(num0,num4) # got it\n",
    "\n",
    "\n",
    "# Also gives length of list:Just like length of string\n",
    "print(len(marks))\n",
    "\n",
    "# Accessing element our of index range will throw error just like in case of string.\n",
    "num = marks[6]\n",
    "print(num)\n",
    "# i.e an error.\n"
   ]
  },
  {
   "cell_type": "code",
   "execution_count": null,
   "metadata": {},
   "outputs": [
    {
     "name": "stdout",
     "output_type": "stream",
     "text": [
      "36.35\n",
      "[12, 'Rahul', 'kavita', '@', 'Aman']\n"
     ]
    }
   ],
   "source": [
    "# string is immutable but LIST is completely mutable unlike in string.\n",
    "# You can access and manipulate/change the element of list as well.\n",
    "marks =  [12 , \"Rahul\", 36.35 ,\"@\", \"Aman\"]\n",
    "elem1 = marks[2]\n",
    "print(elem1)\n",
    "marks[2] = \"kavita\" # makees changes in original list amd mutation happened.\n",
    "print(marks)\n",
    "\n"
   ]
  },
  {
   "cell_type": "code",
   "execution_count": null,
   "metadata": {},
   "outputs": [
    {
     "name": "stdout",
     "output_type": "stream",
     "text": [
      "['Rahul', 36.35, '@']\n",
      "[36.35, '@', 'Aman']\n",
      "['@', 'Aman']\n"
     ]
    }
   ],
   "source": [
    "# Slicing in List: Just like slicing of string.\n",
    "marks =  [12 , \"Rahul\", 36.35 ,\"@\", \"Aman\"]\n",
    "#sliced_part = list_name [start_idx:end_idx] where ending index element does not included.As a rsult it will throw list.\n",
    "slice1 = marks[1:4]\n",
    "print(slice1)\n",
    "slice2 = marks[2:5]# here range out of last inedx is posiible in list slicing like string slicing\n",
    "slice3 = marks[3:8]\n",
    "print(slice2)\n",
    "print(slice3)\n"
   ]
  },
  {
   "cell_type": "code",
   "execution_count": null,
   "metadata": {},
   "outputs": [
    {
     "name": "stdout",
     "output_type": "stream",
     "text": [
      "[12, 'Rahul', 36.35, '@']\n",
      "[12, 'Rahul', 36.35, '@']\n"
     ]
    }
   ],
   "source": [
    "# Some Rules in list slicing just like string slicing\n",
    "# Rule no 1: list_name[0 : 5] is same as list_name[ : 5]\n",
    "# Rule no 2: list_name[3: ] is same as list_name[ 3 : len(list_name)]\n",
    "\n",
    "\n",
    "marks =  [12 , \"Rahul\", 36.35 ,\"@\", \"Aman\"]\n",
    "list1 = marks[0: 4]\n",
    "list2 = marks[ : 4]\n",
    "print(list1)\n",
    "print(list2) # both are same.\n"
   ]
  },
  {
   "cell_type": "code",
   "execution_count": null,
   "metadata": {},
   "outputs": [
    {
     "name": "stdout",
     "output_type": "stream",
     "text": [
      "[36.35, '@', 'Aman']\n",
      "[36.35, '@', 'Aman']\n"
     ]
    }
   ],
   "source": [
    "# Rule no 2: list_name[3: ] is same as list_name[ 3 : len(list_name)\n",
    "marks =  [12 , \"Rahul\", 36.35 ,\"@\", \"Aman\"]\n",
    "list1 = marks[2 : ]\n",
    "list2 = marks[2: len(marks)]\n",
    "print(list1)\n",
    "print(list2) # both are same. \n"
   ]
  },
  {
   "cell_type": "code",
   "execution_count": null,
   "metadata": {},
   "outputs": [
    {
     "name": "stdout",
     "output_type": "stream",
     "text": [
      "[36.35, '@']\n",
      "[12, 'Rahul']\n",
      "[12, 'Rahul', 36.35]\n"
     ]
    }
   ],
   "source": [
    "# Negative indexing in list and its corespond negative slicing.\n",
    "# Its is completely same as negative indexing and slicing in string.\n",
    "marks =  [12 , \"Rahul\", 36.35 ,\"@\", \"Aman\"]\n",
    "list1 = marks[-3:-1]\n",
    "list2 = marks[-5:-3] # last element crooespond tom end idx no does not prints.\n",
    "list3 = marks[-6: -2]\n",
    "print(list1)\n",
    "print(list2)\n",
    "print(list3)"
   ]
  },
  {
   "cell_type": "code",
   "execution_count": null,
   "metadata": {},
   "outputs": [],
   "source": [
    "# LIST METHODS/OPERATION:\n"
   ]
  },
  {
   "cell_type": "code",
   "execution_count": null,
   "metadata": {},
   "outputs": [
    {
     "name": "stdout",
     "output_type": "stream",
     "text": [
      "[12, 'Rahul', 36.35, '@', 'Aman', 13]\n",
      "None\n",
      "[12, 'Rahul', 36.35, '@', 'Aman', 13, 17]\n"
     ]
    }
   ],
   "source": [
    "# String methods returnes updated strings\n",
    "# but List methods just makes changes in original string but doest returen anything yes after that we may print our updated list. lets see\n",
    "marks =  [12 , \"Rahul\", 36.35 ,\"@\", \"Aman\"] \n",
    "\n",
    "\n",
    "# METHOD1: list_name.append(5) it just add given element at end i.e 5.\n",
    "marks.append(13)\n",
    "print(marks)\n",
    "# fine but above method just make changes doest return anything.\n",
    "print(marks.append(17)) # its just gives none and doest return anything.\n",
    "print(marks) # now here we can print updated list \n",
    "# same rules is with other list methods as well"
   ]
  },
  {
   "cell_type": "code",
   "execution_count": null,
   "metadata": {},
   "outputs": [
    {
     "name": "stdout",
     "output_type": "stream",
     "text": [
      "None\n",
      "[5, 12, 36, 64, 121]\n"
     ]
    }
   ],
   "source": [
    "# METHOD2: list_name.sort() it just arranges the list in ascending order.\n",
    "marks =  [12 , 121, 36, 64, 5]\n",
    "marks.sort()# its just makes changes.\n",
    "print(marks.sort()) # it just make changes but doest return anything.\n",
    "print(marks)# from here we can access updated list.\n"
   ]
  },
  {
   "cell_type": "code",
   "execution_count": null,
   "metadata": {},
   "outputs": [
    {
     "name": "stdout",
     "output_type": "stream",
     "text": [
      "['aman', 'dalda', 'gheedudh', 'ram']\n",
      "None\n"
     ]
    }
   ],
   "source": [
    "# sroting can be also done in string as well.\n",
    "student = [\"ram\", \"aman\",\"ghee\" \"dudh\",\"dalda\"]\n",
    "student.sort()\n",
    "print(student)\n",
    "print(student.sort())"
   ]
  },
  {
   "cell_type": "code",
   "execution_count": 41,
   "metadata": {},
   "outputs": [
    {
     "name": "stdout",
     "output_type": "stream",
     "text": [
      "[121, 64, 36, 12, 5]\n",
      "['ram', 'ghee', 'dudh', 'dalda', 'aman']\n",
      "None\n",
      "None\n"
     ]
    }
   ],
   "source": [
    "# METHOD3: list_name.sort(reverse = True) its just arranges the list in descending order.\n",
    "marks =  [12 , 121, 36, 64, 5]\n",
    "student = [\"ram\", \"aman\",\"ghee\" ,\"dudh\",\"dalda\"]\n",
    "marks.sort(reverse = True)\n",
    "print(marks)\n",
    "student.sort(reverse = True)\n",
    "print(student) \n",
    "# but \n",
    "print(marks.sort(reverse = True))\n",
    "print(student.sort(reverse = True)) # they both retyurn none i.e nothing return."
   ]
  },
  {
   "cell_type": "code",
   "execution_count": null,
   "metadata": {},
   "outputs": [
    {
     "name": "stdout",
     "output_type": "stream",
     "text": [
      "None\n",
      "[5, 64, 36, 121, 12]\n"
     ]
    }
   ],
   "source": [
    "#   METHOD 4:   list_name.reverse()its just reverse the provided list.\n",
    "marks =  [12 , 121, 36, 64, 5]\n",
    "print(marks.reverse()) # its just make changes and return nothing\n",
    "print(marks) # returnes updated list"
   ]
  },
  {
   "cell_type": "code",
   "execution_count": null,
   "metadata": {},
   "outputs": [
    {
     "name": "stdout",
     "output_type": "stream",
     "text": [
      "['ram', 'aman', 'kamina', 'ghee', 'dudh', 'dalda']\n"
     ]
    }
   ],
   "source": [
    "# METHOD 5: list_name.insert(idx_no,elem) it just insert element at specified indx no and rest elemt of list moves forward.see\n",
    "student = [\"ram\", \"aman\",\"ghee\", \"dudh\",\"dalda\"]\n",
    "student.insert(2,\"kamina\")\n",
    "print(student)"
   ]
  },
  {
   "cell_type": "code",
   "execution_count": 43,
   "metadata": {},
   "outputs": [
    {
     "name": "stdout",
     "output_type": "stream",
     "text": [
      "['ram', 'aman', 'dudh', 'dalda', 'ghee']\n"
     ]
    }
   ],
   "source": [
    "# METHOD 6: list_name.remove(elem) it just remove first occurence of elemnet\n",
    "student = [\"ram\", \"aman\",\"ghee\" ,\"dudh\",\"dalda\",\"ghee\"]\n",
    "student.remove(\"ghee\")\n",
    "print(student)\n"
   ]
  },
  {
   "cell_type": "code",
   "execution_count": 2,
   "metadata": {},
   "outputs": [
    {
     "name": "stdout",
     "output_type": "stream",
     "text": [
      "['ram', 'aman', 'ghee', 'dalda']\n"
     ]
    }
   ],
   "source": [
    "# METHOD 7 :list_name.pop(idx_no) it just remove elemt of provided idx no.\n",
    "student = [\"ram\", \"aman\",\"ghee\" ,\"dudh\",\"dalda\"]\n",
    "student.pop(3)\n",
    "print(student)\n",
    "\n"
   ]
  },
  {
   "cell_type": "code",
   "execution_count": null,
   "metadata": {},
   "outputs": [],
   "source": [
    "# PRACTICE TIME  NOW GO TO MISCELLEIONIOUS 6\n",
    "\n"
   ]
  }
 ],
 "metadata": {
  "kernelspec": {
   "display_name": "Python 3",
   "language": "python",
   "name": "python3"
  },
  "language_info": {
   "codemirror_mode": {
    "name": "ipython",
    "version": 3
   },
   "file_extension": ".py",
   "mimetype": "text/x-python",
   "name": "python",
   "nbconvert_exporter": "python",
   "pygments_lexer": "ipython3",
   "version": "3.13.1"
  }
 },
 "nbformat": 4,
 "nbformat_minor": 2
}
