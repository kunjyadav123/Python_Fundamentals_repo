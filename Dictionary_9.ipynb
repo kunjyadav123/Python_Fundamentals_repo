{
 "cells": [
  {
   "cell_type": "markdown",
   "id": "75c4a294",
   "metadata": {},
   "source": [
    "## Dictionary in Python :"
   ]
  },
  {
   "cell_type": "code",
   "execution_count": null,
   "id": "d097e4a3",
   "metadata": {},
   "outputs": [],
   "source": [
    "# Lets Go! \n",
    "\n",
    "# So Dictionary is very intresting object in python  : Its   just resemple to .json  and  it is widely used to inetract with database (backend web servers) with dealing with NonRelational data.\n",
    "\n",
    "# We seen order(resemble to keys in dictionary) matters in list , tuples and string and thats why we have index numbers in that and we deals with elemnts using the element's index numbers and elements stays in sequential order .\n",
    "\n",
    "# But in Dictionary ( just like in .json file )  we have (key , values) pairs and remember unlike in case of list , tuple , string there is no such index numbers and there is no such order in dictionary and .json and and we usually acccess values using the keys name .\n",
    "\n",
    "# In list , tuple , string only value is defined by us (ie element) and key( i.e index_no) is already  predefine , but in dictionary both key and value is defined by us .\n",
    "\n",
    "# Dictionary are also mutable . But remember one thing keys of dictionary must be immutable so we cant use mutalbe keys like list and dictionary which are mutable .\n",
    "                               # How ever values of dictionary can  be  mutable or immutable  . so it can be list or string as well \n",
    "\n",
    "# working syntax :  dict__syntax = {key_1 : val_1,key_2 : val_2 , key_3 : key_3 , key_4 : key_4  ........}\n",
    "\n",
    "# order may be anything of (key,value) unlike in case of list , tuple and string.and we may put any mutable data type in key and values.\n"
   ]
  },
  {
   "cell_type": "code",
   "execution_count": null,
   "id": "499d9c8c",
   "metadata": {},
   "outputs": [
    {
     "name": "stdout",
     "output_type": "stream",
     "text": [
      "<class 'dict'>\n"
     ]
    }
   ],
   "source": [
    "personal_detail = {\"name\" : \"pankaj yadav\",\"age\": 22,\"class\":\"BscCS\",\"Hobbby\" : [\"running\",\"cricket\"]}\n",
    "\n",
    "print(type(personal_detail))"
   ]
  },
  {
   "cell_type": "code",
   "execution_count": 2,
   "id": "bc858aab",
   "metadata": {},
   "outputs": [
    {
     "name": "stdout",
     "output_type": "stream",
     "text": [
      "Our first dictionary :\n",
      " {'name': 'pankaj yadav', 'age': 22, 'class': 'BscCS', 'Hobbby': ['running', 'cricket']}\n"
     ]
    }
   ],
   "source": [
    "personal_detail = {\"name\" : \"pankaj yadav\",\"age\": 22,\"class\":\"BscCS\",\"Hobbby\" : [\"running\",\"cricket\"]}\n",
    "\n",
    "print(\"Our first dictionary :\\n\",personal_detail)"
   ]
  },
  {
   "cell_type": "code",
   "execution_count": 3,
   "id": "c87bc73d",
   "metadata": {},
   "outputs": [
    {
     "name": "stdout",
     "output_type": "stream",
     "text": [
      "<class 'dict'>\n"
     ]
    }
   ],
   "source": [
    "# null dictionary syntax : null_dict = {}\n",
    "null_dict = {}\n",
    "\n",
    "print(type(null_dict))"
   ]
  },
  {
   "cell_type": "code",
   "execution_count": null,
   "id": "4e65eef2",
   "metadata": {},
   "outputs": [
    {
     "name": "stdout",
     "output_type": "stream",
     "text": [
      "pankaj yadav\n"
     ]
    },
    {
     "ename": "KeyError",
     "evalue": "'section'",
     "output_type": "error",
     "traceback": [
      "\u001b[31m---------------------------------------------------------------------------\u001b[39m",
      "\u001b[31mKeyError\u001b[39m                                  Traceback (most recent call last)",
      "\u001b[36mCell\u001b[39m\u001b[36m \u001b[39m\u001b[32mIn[5]\u001b[39m\u001b[32m, line 15\u001b[39m\n\u001b[32m     13\u001b[39m \u001b[38;5;28mprint\u001b[39m(personal_detail[\u001b[33m\"\u001b[39m\u001b[33mname\u001b[39m\u001b[33m\"\u001b[39m])  \u001b[38;5;66;03m# theek hai \u001b[39;00m\n\u001b[32m     14\u001b[39m \u001b[38;5;66;03m# but \u001b[39;00m\n\u001b[32m---> \u001b[39m\u001b[32m15\u001b[39m \u001b[38;5;28mprint\u001b[39m(\u001b[43mpersonal_detail\u001b[49m\u001b[43m[\u001b[49m\u001b[33;43m\"\u001b[39;49m\u001b[33;43msection\u001b[39;49m\u001b[33;43m\"\u001b[39;49m\u001b[43m]\u001b[49m)\n",
      "\u001b[31mKeyError\u001b[39m: 'section'"
     ]
    }
   ],
   "source": [
    "# Two ways to access values of dictionary : \n",
    "\n",
    "# way 1 : dict_name[key_name]  \n",
    "# way 2 : dict_name.get(key_name)\n",
    "\n",
    "# Why we need two ways for same task . lets see it is very crucial \n",
    "\n",
    "# if we follows way 1 : It will surely gives value of present key in dictionary but agar key absent hai dictinary se  and we try acces thats key's values  then  ye error dikha dega and this error may hinder our file codes in betweeen and further code will not execute by that hindernace of error.\n",
    "# but if we uses way 2 : It will also surely gives value if key is  present in dictionary , but even though key is not present in dictionary and we try to access corrsponding value using get() method it  will show none  instead of erropr and this is actual leverage of using the get() method over normal dict[] one at leat error na hone ki whj se furtherb code ke ececution me hindrenece ni hogi .\n",
    "\n",
    "personal_detail = {\"name\" : \"pankaj yadav\",\"age\": 22,\"class\":\"BscCS\",\"Hobbby\" : [\"running\",\"cricket\"]}\n",
    "\n",
    "print(personal_detail[\"name\"])  # theek hai \n",
    "# but \n",
    "print(personal_detail[\"section\"])   # error aya coz there is no such key \"section\" so so this error may hinder further codes of file , and this is main disadvantge of direct accessing of keys value."
   ]
  },
  {
   "cell_type": "code",
   "execution_count": 9,
   "id": "f81ccda4",
   "metadata": {},
   "outputs": [
    {
     "name": "stdout",
     "output_type": "stream",
     "text": [
      "['running', 'cricket']\n",
      "None\n",
      "BscCS\n"
     ]
    }
   ],
   "source": [
    "personal_detail = {\"name\" : \"pankaj yadav\",\"age\": 22,\"class\":\"BscCS\",\"Hobby\" : [\"running\",\"cricket\"]}\n",
    "\n",
    "print(personal_detail.get(\"Hobby\"))  # theek hai \n",
    "\n",
    "print(personal_detail.get(\"section\"))  # this even there is no such section key in dictionary it doest prints error and this gives none  us leverage at leat further code ke execution ke printing me hinderence noi hogi.\n",
    "\n",
    "print(personal_detail.get(\"class\"))  # koi issue nii hua further code execute hone mai.\n",
    "\n",
    "\n",
    "# Always remember python is interpreted language and its executes the code line by line and but if any error ocurs in between codes the code before error will surely execute but code after error will not thahts why such get( ) methods are very useful."
   ]
  },
  {
   "cell_type": "code",
   "execution_count": 2,
   "id": "df7d4cdf",
   "metadata": {},
   "outputs": [
    {
     "name": "stdout",
     "output_type": "stream",
     "text": [
      "dict_values(['pankaj yadav', 22, 'BscCS', ['running', 'cricket']])\n"
     ]
    }
   ],
   "source": [
    "# Accesing the vlaue of dictionary ! using List_name.value()  \n",
    "\n",
    "personal_detail = {\"name\" : \"pankaj yadav\",\"age\": 22,\"class\":\"BscCS\",\"Hobby\" : [\"running\",\"cricket\"]}\n",
    "\n",
    "\n",
    "print(personal_detail.values())"
   ]
  },
  {
   "cell_type": "code",
   "execution_count": null,
   "id": "6fb5119b",
   "metadata": {},
   "outputs": [
    {
     "name": "stdout",
     "output_type": "stream",
     "text": [
      "{'name': 'pankaj yadav', 'age': 20, 'class': 'BscCS', 'Hobby': ['running', 'cricket']}\n"
     ]
    }
   ],
   "source": [
    "# Dictionary is mutable : see \n",
    "\n",
    "personal_detail = {\"name\" : \"pankaj yadav\",\"age\": 22,\"class\":\"BscCS\",\"Hobby\" : [\"running\",\"cricket\"]}\n",
    "\n",
    "personal_detail[\"age\"] = 20   # this makes changes actual dict (infact in memrory)  and futher we may print it.\n",
    "\n",
    "print(personal_detail)  # changes happens ! so dictionary is mutable.\n",
    "\n",
    "\n"
   ]
  },
  {
   "cell_type": "code",
   "execution_count": 14,
   "id": "2a8a026c",
   "metadata": {},
   "outputs": [
    {
     "name": "stdout",
     "output_type": "stream",
     "text": [
      "name\n",
      "age\n",
      "class\n",
      "Hobby\n"
     ]
    }
   ],
   "source": [
    "# for loop in dict : remember in dict for loop when we print elements it returs   keys of dict niot values , by the way we may also prints values of dict with some modification within prints statements.\n",
    "\n",
    "personal_detail = {\"name\" : \"pankaj yadav\",\"age\": 22,\"class\":\"BscCS\",\"Hobby\" : [\"running\",\"cricket\"]}\n",
    "\n",
    "for val in personal_detail :\n",
    "    print(val)  # it will returen keys  not values \n",
    "\n",
    "\n",
    "\n"
   ]
  },
  {
   "cell_type": "code",
   "execution_count": null,
   "id": "887b5918",
   "metadata": {},
   "outputs": [
    {
     "name": "stdout",
     "output_type": "stream",
     "text": [
      "pankaj yadav\n",
      "22\n",
      "BscCS\n",
      "['running', 'cricket']\n",
      "\n",
      "\n",
      "\n",
      "name pankaj yadav\n",
      "age 22\n",
      "class BscCS\n",
      "Hobby ['running', 'cricket']\n"
     ]
    }
   ],
   "source": [
    "\n",
    "# Other way to get values ! \n",
    "\n",
    "personal_detail = {\"name\" : \"pankaj yadav\",\"age\": 22,\"class\":\"BscCS\",\"Hobby\" : [\"running\",\"cricket\"]}\n",
    "\n",
    "\n",
    "for val in personal_detail :\n",
    "    print(personal_detail[val])  # we got \n",
    "\n",
    "print(\"\\n\\n\")  # ye bas isliye diya taki 2 code ke ouutput ke beech me gapping  rahe.\n",
    "\n",
    "# lets acces both \n",
    "\n",
    "for elem in personal_detail:\n",
    "    print(elem, personal_detail[elem])\n",
    "\n",
    "\n",
    "    # alright ! be aware about what is scope of loop and which code is and  is not in that scope. "
   ]
  },
  {
   "cell_type": "code",
   "execution_count": 25,
   "id": "2ab8f90e",
   "metadata": {},
   "outputs": [
    {
     "name": "stdout",
     "output_type": "stream",
     "text": [
      "Ohh! Not Found\n",
      "\n",
      "\n",
      "Found\n"
     ]
    }
   ],
   "source": [
    "# if-else in dictionary: \n",
    "\n",
    "personal_detail = {\"name\" : \"pankaj yadav\",\"age\": 22,\"class\":\"BscCS\",\"Hobby\" : [\"running\",\"cricket\"]}\n",
    "\n",
    "\n",
    "if \"BscCS\" in personal_detail:  # Remember one thing this if else checks over the keys not on values. since here is no such key BscCS so it prints else case.\n",
    "    print(\"Yes! Found\")\n",
    "else:\n",
    "    print(\"Ohh! Not Found\")   \n",
    "\n",
    "\n",
    "print(\"\\n\")\n",
    "\n",
    "if \"Hobby\" in personal_detail :\n",
    "    print(\"Found\")\n",
    "else : \n",
    "    print(\"Not found \")\n",
    "\n"
   ]
  },
  {
   "cell_type": "code",
   "execution_count": null,
   "id": "d804411f",
   "metadata": {},
   "outputs": [
    {
     "name": "stdout",
     "output_type": "stream",
     "text": [
      "4\n",
      "\n",
      " {'name': 'pankaj yadav', 'age': 22, 'class': 'BscCS', 'Hobby': ['running', 'cricket'], 'Height': 5.1}\n"
     ]
    }
   ],
   "source": [
    "personal_detail = {\"name\" : \"pankaj yadav\",\"age\": 22,\"class\":\"BscCS\",\"Hobby\" : [\"running\",\"cricket\"]}\n",
    " \n",
    "\n",
    "# len(dict_name)  this method is used to get total pairs of key and values .\n",
    "\n",
    "print(len(personal_detail))\n",
    "\n",
    "\n",
    "# we may also add any desired key,value pair in dictionary : syntax is   dict_name[new_key_name] = new_val_name this possible coz dictionary is mutable so we may make changes in existing dictionary. \n",
    "\n",
    "personal_detail[\"Height\"] = 5.10   # This makes changes in original dict.\n",
    "\n",
    "print(\"\\n\",personal_detail)\n"
   ]
  },
  {
   "cell_type": "code",
   "execution_count": null,
   "id": "b447fcbb",
   "metadata": {},
   "outputs": [
    {
     "name": "stdout",
     "output_type": "stream",
     "text": [
      "{'name': 'pankaj yadav', 'class': 'BscCS', 'Hobby': ['running', 'cricket']}\n",
      "{'name': 'pankaj yadav', 'class': 'BscCS', 'Hobby': ['running', 'cricket'], 'colour': 'skinny'}\n",
      "{'name': 'pankaj yadav', 'class': 'BscCS', 'Hobby': ['running', 'cricket']}\n"
     ]
    },
    {
     "ename": "TypeError",
     "evalue": "pop expected at least 1 argument, got 0",
     "output_type": "error",
     "traceback": [
      "\u001b[31m---------------------------------------------------------------------------\u001b[39m",
      "\u001b[31mTypeError\u001b[39m                                 Traceback (most recent call last)",
      "\u001b[36mCell\u001b[39m\u001b[36m \u001b[39m\u001b[32mIn[2]\u001b[39m\u001b[32m, line 29\u001b[39m\n\u001b[32m     24\u001b[39m \u001b[38;5;28mprint\u001b[39m(personal_detail)   \u001b[38;5;66;03m# ok did it ! \u001b[39;00m\n\u001b[32m     27\u001b[39m \u001b[38;5;66;03m# if we just don't give parameter in pop  ,  it will show error if we dont passs any parameter in pop()\u001b[39;00m\n\u001b[32m---> \u001b[39m\u001b[32m29\u001b[39m \u001b[43mpersonal_detail\u001b[49m\u001b[43m.\u001b[49m\u001b[43mpop\u001b[49m\u001b[43m(\u001b[49m\u001b[43m)\u001b[49m\n\u001b[32m     30\u001b[39m \u001b[38;5;28mprint\u001b[39m(personal_detail)\n",
      "\u001b[31mTypeError\u001b[39m: pop expected at least 1 argument, got 0"
     ]
    }
   ],
   "source": [
    "#  Methods in dict \n",
    "\n",
    "# 1 : dict_name.pop('key_name)  here in pop method () we need a parameter coz in list we dont need parameter and it removes last indx_no value dircetly but as in dict koi idx_no exist ni karta hai to we need to specify the key we want to eliminate.\n",
    "\n",
    "# 2 : but if we use dict_name.popitem()  method , here we don't need any parameter coz this method delets the most recent added key,value pair.\n",
    "\n",
    "# 3 : but suppose we just don't pass any parameter in pop as dict_name.pop() , then it will show error in code .\n",
    "\n",
    "\n",
    "\n",
    "personal_detail = {\"name\" : \"pankaj yadav\",\"age\": 22,\"class\":\"BscCS\",\"Hobby\" : [\"running\",\"cricket\"]}\n",
    "\n",
    "personal_detail.pop(\"age\")  # this makes changes in original one .\n",
    "\n",
    "print(personal_detail)  # have you seen it delets the age,22    okay but here in pop we need the parameter as key name.\n",
    "\n",
    "personal_detail[\"colour\"] = \"skinny\"  # this makes changes in orginal dictionary. \n",
    "\n",
    "print(personal_detail)  # done \n",
    "\n",
    "# now see as colour, skinny are most recent added key value pair so see what dict_name.popitem()  dos\n",
    "\n",
    "personal_detail.popitem()   #this makes changes in org dict \n",
    "print(personal_detail)   # ok did it ! \n",
    "\n",
    "\n",
    "# if we just don't give parameter in pop  ,  it will show error if we dont passs any parameter in pop()\n",
    "\n",
    "personal_detail.pop()  # show error as no parameter is passes in pop()\n",
    "print(personal_detail)"
   ]
  },
  {
   "cell_type": "code",
   "execution_count": null,
   "id": "c5f14a32",
   "metadata": {},
   "outputs": [
    {
     "name": "stdout",
     "output_type": "stream",
     "text": [
      "True\n",
      "True\n",
      "True\n",
      "False\n",
      "\n",
      "\n",
      "{'name': 'pankaj yadav', 'class': 'BscCS', 'Hobby': ['running', 'cricket']}\n",
      "{'name': 'pankaj yadav', 'class': 'BscCS', 'Hobby': ['running', 'cricket']}\n",
      "{'name': 'pankaj yadav', 'age': 22, 'class': 'BscCS', 'Hobby': ['running', 'cricket']}\n",
      "False\n",
      "True\n"
     ]
    }
   ],
   "source": [
    "# Memory allocation/refrencing , memmory management in dict ! \n",
    "# Memory management of dict works as same as we seen in case of list . letssee \n",
    "\n",
    "personal_detail = {\"name\" : \"pankaj yadav\",\"age\": 22,\"class\":\"BscCS\",\"Hobby\" : [\"running\",\"cricket\"]}\n",
    "\n",
    "My_detail = personal_detail  # here both have same refernce equal bhi aur same bhi and making changes in one also occurs in other also.\n",
    "\n",
    "personal_detail_copy = personal_detail.copy()   # but yaha to equal hai but diffrent referenciing ki whj se same nii hai and making cjjanges in one doest affects other \n",
    "\n",
    "\n",
    "print(personal_detail == My_detail)  # yes true , same refrence in memory.\n",
    "print(personal_detail is My_detail)  # yes true , same refernce in memory.\n",
    "\n",
    "# but \n",
    "\n",
    "print(personal_detail == personal_detail_copy)  #yes true equal to hai but same nii see\n",
    "print(personal_detail is  personal_detail_copy)   # everything is game of referencing .\n",
    "\n",
    "# lets make changes in list\n",
    "\n",
    "print(\"\\n\")\n",
    "personal_detail.pop(\"age\")  #we make changes in personal_detail  ! lets see how it affcts other 2 dicts.\n",
    "\n",
    "print(personal_detail)  # fine \n",
    "\n",
    "print(My_detail)  # it gets affects as refrencing is same as of personal_detail.\n",
    "\n",
    "print(personal_detail_copy)  #  but this doest not get affected coz it is copy not same refernce.as\n",
    "\n",
    "print(personal_detail == personal_detail_copy)  # expected  ! \n",
    "\n",
    "# but \n",
    "print(personal_detail ==  My_detail)  #expected \n",
    "\n",
    "\n"
   ]
  },
  {
   "cell_type": "code",
   "execution_count": null,
   "id": "56a45729",
   "metadata": {},
   "outputs": [
    {
     "name": "stdout",
     "output_type": "stream",
     "text": [
      "{'Masala': 'hard', 'Ginger': 'soft', 'Oolong': 'Descent'}\n",
      "Descent\n",
      "kadak\n",
      "soft\n",
      "Mild\n"
     ]
    }
   ],
   "source": [
    "# dict in dict and acccesing the value of key in that keys of primary values . see\n",
    "\n",
    "#  Remember that this concept is known as nested dictionary when we initiate dictionary within the dictionary .\n",
    "\n",
    "my_dict = {\n",
    "    \"Chai\" : {\"Masala\":\"hard\",\"Ginger\":\"soft\",\"Oolong\":\"Descent\"},\n",
    "    \"Tea\" : {\"Lemon\" : \"Mild\",\"Mint\" : \"kadak\"}\n",
    "}\n",
    "\n",
    "# now let see ! \n",
    "\n",
    "print(my_dict[\"Chai\"])  # okay this is usual we got the primary values from corrsponding primary key ! \n",
    "# lets access the secondary values from secondary keys.see\n",
    "\n",
    "print(my_dict[\"Chai\"][\"Oolong\"])  # This is simple working syntax \n",
    "\n",
    "print(my_dict[\"Tea\"][\"Mint\"])  # This is simple working syntax \n",
    "\n",
    "print(my_dict[\"Chai\"][\"Ginger\"])  # This is simple working syntax \n",
    "\n",
    "print(my_dict[\"Tea\"][\"Lemon\"])  # This is simple working syntax \n"
   ]
  },
  {
   "cell_type": "code",
   "execution_count": 3,
   "id": "04800f7a",
   "metadata": {},
   "outputs": [
    {
     "name": "stdout",
     "output_type": "stream",
     "text": [
      "{2: 4, 3: 9, 4: 16, 5: 25, 6: 36, 7: 49, 8: 64, 9: 81, 10: 100, 11: 121}\n",
      "\n",
      "\n",
      "{0: 0, 1: 1, 2: 8, 3: 27, 4: 64, 5: 125, 6: 216, 7: 343, 8: 512, 9: 729}\n"
     ]
    }
   ],
   "source": [
    "# Playing with mathematical operation ! i dict .\n",
    "\n",
    "dict_square = {x : x**2 for x in range(2,12)}\n",
    "print(dict_square)\n",
    "\n",
    "print(\"\\n\")\n",
    "\n",
    "dict_cube = {y : y**3 for y in [0,1,2,3,4,5,6,7,8,9]}\n",
    "print(dict_cube)\n",
    "\n",
    "\n",
    "\n"
   ]
  },
  {
   "cell_type": "code",
   "execution_count": null,
   "id": "9ba3d091",
   "metadata": {},
   "outputs": [
    {
     "name": "stdout",
     "output_type": "stream",
     "text": [
      "{}\n"
     ]
    }
   ],
   "source": [
    "# Making dictionary null , by clear().\n",
    "\n",
    "\n",
    "\n",
    "our_dict =  {\"Masala\":\"hard\",\"Ginger\":\"soft\",\"Oolong\":\"Descent\"}\n",
    "\n",
    "our_dict.clear()  # this makes changes in real one and deleted the all items \n",
    "\n",
    "print(our_dict)  # ie null dict   {}   \n",
    "\n"
   ]
  },
  {
   "cell_type": "code",
   "execution_count": null,
   "id": "18c70b4a",
   "metadata": {},
   "outputs": [
    {
     "name": "stdout",
     "output_type": "stream",
     "text": [
      "{'Masala': 'Fanatastic', 'Lemon': 'Fanatastic', 'Ginger': 'Fanatastic', 'Oolong ': 'Fanatastic'}\n",
      "\n",
      "\n",
      "{'Masala': ['Masala', 'Lemon', 'Ginger', 'Oolong '], 'Lemon': ['Masala', 'Lemon', 'Ginger', 'Oolong '], 'Ginger': ['Masala', 'Lemon', 'Ginger', 'Oolong '], 'Oolong ': ['Masala', 'Lemon', 'Ginger', 'Oolong ']}\n"
     ]
    }
   ],
   "source": [
    "# Another way to create dictionary : \n",
    "\n",
    "key_default = [\"Masala\",\"Lemon\",\"Ginger\",\"Oolong \"]  # this is normallist ! \n",
    "\n",
    "val_default = \"Fantastic\"\n",
    "\n",
    "new_dict_creation = dict.fromkeys(key_default,val_default)  # woring syntax is dict.fromkeys(nwe_keys_aslist , value_name)\n",
    "\n",
    "print(new_dict_creation)  # here ! \n",
    "\n",
    "print(\"\\n\")\n",
    "\n",
    "# also we can do it as \n",
    "\n",
    "new_dict_creation1 = dict.fromkeys(key_default,key_default)\n",
    "print(new_dict_creation1)  # done it ! "
   ]
  },
  {
   "cell_type": "code",
   "execution_count": null,
   "id": "50112bf7",
   "metadata": {},
   "outputs": [],
   "source": [
    "# we can add( update new eky value pairs) in dictionary using the update({}) method as see \n",
    "\n",
    "our_dict =  {\"Masala\":\"hard\",\"Ginger\":\"soft\",\"Oolong\":\"Descent\"}\n",
    "\n",
    "our_dict.update({\"name\" : \"Pnakaj\", \"Roll No\": 21})"
   ]
  }
 ],
 "metadata": {
  "kernelspec": {
   "display_name": ".venv",
   "language": "python",
   "name": "python3"
  },
  "language_info": {
   "codemirror_mode": {
    "name": "ipython",
    "version": 3
   },
   "file_extension": ".py",
   "mimetype": "text/x-python",
   "name": "python",
   "nbconvert_exporter": "python",
   "pygments_lexer": "ipython3",
   "version": "3.13.3"
  }
 },
 "nbformat": 4,
 "nbformat_minor": 5
}
