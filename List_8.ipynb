{
 "cells": [
  {
   "cell_type": "markdown",
   "id": "d7fb7405",
   "metadata": {},
   "source": [
    "## Lists and its Operations :\n"
   ]
  },
  {
   "cell_type": "code",
   "execution_count": null,
   "id": "5c18dff8",
   "metadata": {},
   "outputs": [
    {
     "name": "stdout",
     "output_type": "stream",
     "text": [
      "Mint\n",
      "Mint\n",
      "Oalong\n",
      "['Black', 'Lemon', 'Mint']\n",
      "['Mint', 'Oalong', 'Herbal']\n",
      "[]\n",
      "['Mint', 'Oalong', 'Herbal']\n",
      "['Black', 'Lemon', 'Mint', 'Oalong', 'Herbal']\n",
      "['Black', 'Lemon', 'Mint', 'Oalong', 'Herbal']\n",
      "['Black', 'Lemon', 'Mint', 'Oalong', 'Herbal']\n",
      "['Black', 'Lemon', 'Mint', 'Oalong', 'Herbal']\n",
      "['Lemon', 'Mint']\n",
      "[]\n",
      "['Black', 'Lemon', 'Mint', 'Oalong']\n",
      "[]\n",
      "[]\n",
      "['Black', 'Lemon', 'Mint']\n",
      "[]\n"
     ]
    }
   ],
   "source": [
    "tea_variant = [\"Black\",\"Lemon\",\"Mint\",\"Oalong\",\"Herbal\"]\n",
    "\n",
    "# In list we may pass the different element of diffrenet data types as per requirement.\n",
    "# slicing and inndexing in string , list and tuples is dittio same .\n",
    "# Indexing and slicing in list is same as in case of string.\n",
    "# here remember one thing if your slicing idx no goes beyond the len(list) it doest show error in list slicing.\n",
    "\n",
    "print(tea_variant[2])\n",
    "print(tea_variant[-3])\n",
    "print(tea_variant[-2])\n",
    "\n",
    "# general slicing is [a:b]  if a is blank it means 0 but if b is blank it value is len(list).\n",
    "# slicing is also same as in string : \n",
    "print(tea_variant[ :3])   # usual\n",
    "print(tea_variant[2:]) # usual\n",
    "\n",
    "print(tea_variant[2:2]) # this returns null list [ ].\n",
    "print(tea_variant[2:]) # usual slicing .\n",
    "print(tea_variant[ : ])  # this \n",
    "print(tea_variant[:len(tea_variant)]) # this \n",
    "print(tea_variant[0:len(tea_variant)])  #  this \n",
    "print(tea_variant[0:])  # and this is same .\n",
    "\n",
    "# slicing from positive to negative index or negative to positive index  or even negative to negative index is possible provided slicing should be legitimate other wise it will return null list [] since nothing get sliced.\n",
    "print(tea_variant[1: -2])    # this is get sliced\n",
    "print(tea_variant[4 :-3])  # but this doest not coz here as per inputs slicing is imposssible . so it returns null list as nothong get sliced \n",
    "print(tea_variant[-5 : 4 ])    # this get sliced but \n",
    "print(tea_variant[-1 : 2 ]) # but this doest sliced  coz here as per inputs slicing is imposssible . so it returns null list as nothong get sliced \n",
    "\n",
    "# negative to negative slicing \n",
    "\n",
    "\n",
    "print(tea_variant[-2 :-5]) # this returns nothing coz as per slicing inputs slicing is not possible null list get prints.\n",
    "print(tea_variant[-5 : -2]) # this will surely return sliced part as slicing is possible here! \n",
    "\n",
    "\n",
    "print(tea_variant[-2 : -2]) # this returns nothing coz as per slicing inputs slicing is not possible null list get prints.\n",
    "\n",
    "\n"
   ]
  },
  {
   "cell_type": "code",
   "execution_count": 17,
   "id": "61b63bfa",
   "metadata": {},
   "outputs": [
    {
     "name": "stdout",
     "output_type": "stream",
     "text": [
      "['Black', 'Lemon', 'Mint', 'Chinese tea', 'Herbal']\n",
      "['Black', 'Clove', 'Mint', 'Chinese tea', 'Herbal']\n",
      "\n",
      " ['indian', 'Japanese', 'UAE', 'UK', 'BANGLADESH', 'pakistani']\n"
     ]
    }
   ],
   "source": [
    "tea_variant = [\"Black\",\"Lemon\",\"Mint\",\"Oalong\",\"Herbal\"]\n",
    "\n",
    "# list is mutable \n",
    "\n",
    "tea_variant[3] = \"Chinese tea\"   # this makes changes in actual list. ans replace sthe Oolong with Chinese tea.\n",
    "print(tea_variant)\n",
    "\n",
    "# we can also mutate the list using slicing : but if you uses the slicing approach to mutate make sure you pass values as in list .\n",
    "\n",
    "tea_variant[1:2] = [\"Clove\"]  # its positio will be at index 1 as 2 is non inclusive.\n",
    "print(tea_variant)\n",
    "\n",
    "\n",
    "# using slicing appproach we may mulate multiple elements \n",
    "tea = [\"indian\",\"Japanese\",\"Chinese\",\"russian\",\"american\",\"pakistani\"]\n",
    "tea[2:5] = [\"UAE\",\"UK\",\"BANGLADESH\"]  # its will replace value with order as 2 ,3,4 and 5 is non inclusive .\n",
    "print(\"\\n\",tea)\n",
    "\n",
    "# alright ! "
   ]
  },
  {
   "cell_type": "code",
   "execution_count": null,
   "id": "c26ab0b3",
   "metadata": {},
   "outputs": [
    {
     "name": "stdout",
     "output_type": "stream",
     "text": [
      "Black\n",
      "Lemon\n",
      "Mint\n",
      "Oalong\n",
      "Herbal\n",
      "indian-Japanese-Chinese-russian-american-pakistani-"
     ]
    }
   ],
   "source": [
    "# for loop in list :\n",
    "\n",
    "tea_variant = [\"Black\",\"Lemon\",\"Mint\",\"Oalong\",\"Herbal\"]\n",
    "tea = [\"indian\",\"Japanese\",\"Chinese\",\"russian\",\"american\",\"pakistani\"]\n",
    "\n",
    "\n",
    "for val in tea_variant:\n",
    "    print(val)\n",
    "\n",
    "\n",
    "\n",
    "# Intreseting fact : in for loop have you ever thought why all values prints in difffrenet - 2 line ! Its because by default we have end = \"\\n\" in print statememt within for loop. but if we change it  to other it will follow other orientation.\n",
    "\n",
    "for elem in tea :\n",
    "    print(elem,end = \"-\")\n",
    "\n",
    "\n",
    "# if - else in list : \n",
    "\n",
    "if \"russian\" in tea :\n",
    "    print(\"found \")\n",
    "else: \n",
    "    print(\"Not found\")   "
   ]
  },
  {
   "cell_type": "code",
   "execution_count": null,
   "id": "f168f572",
   "metadata": {},
   "outputs": [
    {
     "name": "stdout",
     "output_type": "stream",
     "text": [
      "found \n"
     ]
    }
   ],
   "source": [
    "\n",
    "tea = [\"indian\",\"Japanese\",\"Chinese\",\"russian\",\"american\",\"pakistani\"]\n",
    "\n",
    "# if - else in list : \n",
    "\n",
    "if \"russian\" in tea :   # this verifies the existence of elemt in list.\n",
    "    print(\"found \")\n",
    "else: \n",
    "    print(\"Not found\")     # done it "
   ]
  },
  {
   "cell_type": "code",
   "execution_count": null,
   "id": "eebc8dc9",
   "metadata": {},
   "outputs": [
    {
     "name": "stdout",
     "output_type": "stream",
     "text": [
      "['Black', 'Lemon', 'Mint', 'Oalong']\n",
      "['Lemon', 'Mint', 'Oalong']\n",
      "['Lemon', 'Mint', 'Nepali_tea', 'Oalong']\n",
      "['Lemon', 'Mint', 'Nepali_tea', 'Oalong', 'Up_chai']\n"
     ]
    }
   ],
   "source": [
    "# Some properties and method in python :\n",
    "\n",
    "\n",
    "tea_variant = [\"Black\",\"Lemon\",\"Mint\",\"Oalong\",\"Herbal\"]\n",
    "\n",
    "# pop()  it just removes the last element form list ans makes changes in actual list. as List are mutables.see\n",
    "\n",
    "tea_variant.pop()  #  Its returns \"Herbal\",got it it deleted last value of actual list.and makes changes in actual list.\n",
    "\n",
    "print(tea_variant)\n",
    "\n",
    "\n",
    "\n",
    "# removing specific elemnt from list using remove(\"elem_name\") method.\n",
    "tea_variant.remove(\"Black\")  # Its deleted and now when we print the list  it will be updated and this method makes changes in actual list.\n",
    "\n",
    "print(tea_variant)\n",
    "\n",
    "\n",
    "\n",
    "# adding speccific elemnt at specific idx_no \n",
    "# for it we uses insert(idx_no , value) and previous element will get pushed by idx of 1 and remember this method also makes changes in  actual list.\n",
    "\n",
    "tea_variant.insert(2,\"Nepali_tea\")  # it makes changes in actual list \n",
    "\n",
    "print(tea_variant)\n",
    "\n",
    "\n",
    "# append(\"val\")  this method use to add a elemt at last of list .  and this also makes changes in actual real list\n",
    "\n",
    "tea_variant.append(\"Up_chai\")  #this makes changes in actual list.\n",
    "print(tea_variant)  # sorted hai sab . "
   ]
  },
  {
   "cell_type": "code",
   "execution_count": 47,
   "id": "230f8d58",
   "metadata": {},
   "outputs": [
    {
     "name": "stdout",
     "output_type": "stream",
     "text": [
      "['Black', 'Lemon', 'Mint', 'Oalong', 'Herbal']\n",
      "True\n",
      "False\n",
      "['Black', 'Lemon', 'Mint', 'Oalong', 'Herbal', 'desi_chai']\n",
      "['Black', 'Lemon', 'Mint', 'Oalong', 'Herbal']\n",
      "True\n",
      "True\n",
      "[1, 2, 3]\n",
      "[1, 2, 3]\n"
     ]
    }
   ],
   "source": [
    "# Making copy of list : remember that list and its ditto copy has different refrences in the memory so be aware ! \n",
    "\n",
    "tea_variant = [\"Black\",\"Lemon\",\"Mint\",\"Oalong\",\"Herbal\"]\n",
    "\n",
    "tea_variant_copy = tea_variant.copy()\n",
    "\n",
    "print(tea_variant_copy)  # it is just equal to the tea_variant list but they are not same  coz of diffrent refernces okay !\n",
    "\n",
    "print(tea_variant == tea_variant_copy)    # yes Both are Equal but \n",
    "\n",
    "print(tea_variant is tea_variant_copy)   #   But  both are not same just because of diffrent refrencing ! so remember it Thats why the notion of referncing and memory allocation is very important in python or in any programming language.\n",
    "\n",
    "\n",
    "# Lets see some more things.\n",
    "\n",
    "tea_variant_copy.append(\"desi_chai\")\n",
    "print(tea_variant_copy)\n",
    "\n",
    "print(tea_variant)\n",
    "\n",
    "# Ek baaat notice kari since value of tea_variant and tea_variant_copy is equal but refernced is diffrent so making changes in one doest affects other .\n",
    "\n",
    "# chal ab ek aur cas dekhte hai \n",
    "\n",
    "list_1 = [1,2,3,4]\n",
    "list_2 = list_1   #now both list are equal and have same refernced value .\n",
    "print(list_1 == list_2)   # got it. \n",
    "print(list_1 is list_2)  # got it .\n",
    "\n",
    "list_1.pop()\n",
    "print(list_1)\n",
    "print(list_2)  # since refrences is same in both list so making changes in one makes changes in other.\n"
   ]
  },
  {
   "cell_type": "code",
   "execution_count": 2,
   "id": "d324ba26",
   "metadata": {},
   "outputs": [
    {
     "name": "stdout",
     "output_type": "stream",
     "text": [
      "[0, 1, 4, 9, 16, 25, 36, 49, 64, 81]\n",
      "[0, 1, 8, 27, 64, 125, 216, 343, 512, 729]\n",
      "[2, 4, 6, 8, 10, 12, 14, 16, 18, 20]\n"
     ]
    }
   ],
   "source": [
    "# operations in list: \n",
    "\n",
    "square_num = [x**2 for x in range(10)]\n",
    "cube_num = [alpha**3 for alpha in range(10)]\n",
    "double_num = [y*2  for y in range(1,11)]\n",
    "\n",
    "\n",
    "print(square_num)\n",
    "print(cube_num)\n",
    "print(double_num)\n",
    "\n"
   ]
  }
 ],
 "metadata": {
  "kernelspec": {
   "display_name": ".venv",
   "language": "python",
   "name": "python3"
  },
  "language_info": {
   "codemirror_mode": {
    "name": "ipython",
    "version": 3
   },
   "file_extension": ".py",
   "mimetype": "text/x-python",
   "name": "python",
   "nbconvert_exporter": "python",
   "pygments_lexer": "ipython3",
   "version": "3.13.3"
  }
 },
 "nbformat": 4,
 "nbformat_minor": 5
}
