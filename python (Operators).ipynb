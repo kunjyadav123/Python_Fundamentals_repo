{
 "cells": [
  {
   "cell_type": "markdown",
   "metadata": {},
   "source": [
    "# Lecture 2"
   ]
  },
  {
   "cell_type": "code",
   "execution_count": 5,
   "metadata": {},
   "outputs": [
    {
     "name": "stdout",
     "output_type": "stream",
     "text": [
      "8\n",
      "2\n",
      "15\n",
      "1.6666666666666667\n",
      "2\n",
      "125\n"
     ]
    }
   ],
   "source": [
    "# learn working of operator.\n",
    "# arithmetic operator\n",
    "a=5\n",
    "b=3\n",
    "print(a+b)\n",
    "print(a-b)\n",
    "print(a*b)\n",
    "print(a/b)\n",
    "print(a%b)# modulo operator ie remaineder\n",
    "print(a**b)# power operator; A**b means b raised to power a.\n",
    "\n"
   ]
  },
  {
   "cell_type": "code",
   "execution_count": 6,
   "metadata": {},
   "outputs": [
    {
     "name": "stdout",
     "output_type": "stream",
     "text": [
      "False\n",
      "True\n",
      "False\n",
      "True\n",
      "False\n",
      "True\n",
      "False\n"
     ]
    }
   ],
   "source": [
    "# relational operator: == , !=,>=,>,<= and <\n",
    "# their result is always of Bollean data type.\n",
    "a=50\n",
    "b=20\n",
    "print(a==b)\n",
    "X= 45\n",
    "Y=45\n",
    "print(X==Y)# == means equals to in python\n",
    "print(X!=Y)# != means not equal to in python\n",
    "print(a!=b)\n",
    "print(X<Y)\n",
    "print(X>=Y)     # easy ones\n",
    "print(a<b)"
   ]
  },
  {
   "cell_type": "code",
   "execution_count": 7,
   "metadata": {},
   "outputs": [
    {
     "name": "stdout",
     "output_type": "stream",
     "text": [
      "num: 25\n"
     ]
    }
   ],
   "source": [
    "# assignment operator:+=\n",
    "num = 10\n",
    "num += 15 # here num+=15 is same as num = num +15\n",
    "print(\"num:\",num)"
   ]
  },
  {
   "cell_type": "code",
   "execution_count": 8,
   "metadata": {},
   "outputs": [
    {
     "name": "stdout",
     "output_type": "stream",
     "text": [
      "num : 18\n"
     ]
    }
   ],
   "source": [
    "#assignment operator:-=\n",
    "num = 50\n",
    "num -= 32 # here num-=32 is same as num = num -32\n",
    "print(\"num :\",num)"
   ]
  },
  {
   "cell_type": "code",
   "execution_count": 9,
   "metadata": {},
   "outputs": [
    {
     "name": "stdout",
     "output_type": "stream",
     "text": [
      "num: 300\n"
     ]
    }
   ],
   "source": [
    "# assignment opertor: *=\n",
    "num= 60\n",
    "num*=5 # here num*= 5 is same as num=num*5\n",
    "print(\"num:\",num)"
   ]
  },
  {
   "cell_type": "code",
   "execution_count": 10,
   "metadata": {},
   "outputs": [
    {
     "name": "stdout",
     "output_type": "stream",
     "text": [
      "num is : 2.0\n"
     ]
    }
   ],
   "source": [
    "# assignment opeartor: /=\n",
    "num = 10\n",
    "num/= 5\n",
    "print(\"num is :\", num)\n"
   ]
  },
  {
   "cell_type": "code",
   "execution_count": 11,
   "metadata": {},
   "outputs": [
    {
     "name": "stdout",
     "output_type": "stream",
     "text": [
      "num is : 3\n"
     ]
    }
   ],
   "source": [
    "# assignment opeartor:%=\n",
    "num = 13\n",
    "num %= 5\n",
    "print(\"num is :\", num)"
   ]
  },
  {
   "cell_type": "code",
   "execution_count": 12,
   "metadata": {},
   "outputs": [
    {
     "name": "stdout",
     "output_type": "stream",
     "text": [
      "my num is : 32\n"
     ]
    }
   ],
   "source": [
    "# assignment opeartor:**=\n",
    "num = 2\n",
    "num**= 5\n",
    "print(\"my num is :\",num)"
   ]
  },
  {
   "cell_type": "code",
   "execution_count": 13,
   "metadata": {},
   "outputs": [
    {
     "name": "stdout",
     "output_type": "stream",
     "text": [
      "True\n",
      "False\n",
      "False\n",
      "True\n"
     ]
    }
   ],
   "source": [
    "# logical operator( not, and , or):\n",
    "# not : its simply opposes the boolean data type\n",
    "a = 50\n",
    "b = 45\n",
    "print(not False)\n",
    "print(not True)\n",
    "print(not(a>b)) # becoz print(a>b)is True so its negatation will be false.\n",
    "print(not(a<b)) # bcoz print(a<b) is False so its negatation will be True.\n"
   ]
  },
  {
   "cell_type": "code",
   "execution_count": null,
   "metadata": {},
   "outputs": [
    {
     "name": "stdout",
     "output_type": "stream",
     "text": [
      "AND Operator: False\n",
      "OR Operator: True\n",
      "x > 5 and y < 10: True\n",
      "x > 15 or y < 10: True\n",
      "x > 15 or y > 10: False\n"
     ]
    }
   ],
   "source": [
    "# study AND and OR operator.\n",
    "# AND Operator: Returns True if both conditions are True, otherwise False\n",
    "a = True\n",
    "b = False   \n",
    "\n",
    "result_and = a and b  # False because both conditions are not True\n",
    "print(\"AND Operator:\", result_and)\n",
    "\n",
    "# OR Operator: Returns True if at least one condition is True\n",
    "result_or = a or b  # True because at least one condition is True\n",
    "print(\"OR Operator:\", result_or)\n",
    "\n",
    "# Example with numbers\n",
    "x = 10\n",
    "y = 5\n",
    "\n",
    "print(\"x > 5 and y < 10:\", x > 5 and y < 10)  # True (both conditions are True)\n",
    "print(\"x > 15 or y < 10:\", x > 15 or y < 10)  # True (one condition is True)\n",
    "print(\"x > 15 or y > 10:\", x > 15 or y > 10)  # False (both conditions are False)\n"
   ]
  },
  {
   "cell_type": "code",
   "execution_count": null,
   "metadata": {},
   "outputs": [
    {
     "name": "stdout",
     "output_type": "stream",
     "text": [
      "3.5\n"
     ]
    }
   ],
   "source": [
    "# Type conversion : it is an automatics conversion so it done by python interpereter by it self\n",
    "# example1:\n",
    "a , b = 2, 1.5\n",
    "c= a + b\n",
    "print(c) # since float is superior than int so conversion done in float automatically by python interpreter i.e implicit conversion\n",
    "\n",
    "\n"
   ]
  },
  {
   "cell_type": "code",
   "execution_count": null,
   "metadata": {},
   "outputs": [
    {
     "ename": "TypeError",
     "evalue": "can only concatenate str (not \"float\") to str",
     "output_type": "error",
     "traceback": [
      "\u001b[31m---------------------------------------------------------------------------\u001b[39m",
      "\u001b[31mTypeError\u001b[39m                                 Traceback (most recent call last)",
      "\u001b[36mCell\u001b[39m\u001b[36m \u001b[39m\u001b[32mIn[2]\u001b[39m\u001b[32m, line 4\u001b[39m\n\u001b[32m      2\u001b[39m a = \u001b[33m\"\u001b[39m\u001b[33m3\u001b[39m\u001b[33m\"\u001b[39m \u001b[38;5;66;03m# here a is string not int.\u001b[39;00m\n\u001b[32m      3\u001b[39m b = \u001b[32m3.4\u001b[39m\n\u001b[32m----> \u001b[39m\u001b[32m4\u001b[39m \u001b[38;5;28msum\u001b[39m = \u001b[43ma\u001b[49m\u001b[43m+\u001b[49m\u001b[43mb\u001b[49m\n\u001b[32m      5\u001b[39m \u001b[38;5;28mprint\u001b[39m(\u001b[38;5;28msum\u001b[39m)\n",
      "\u001b[31mTypeError\u001b[39m: can only concatenate str (not \"float\") to str"
     ]
    }
   ],
   "source": [
    "# but let see it\n",
    "a = \"3\" # here a is string not int. you may checkk it as print(type (a)) it will be string\n",
    "b = 3.4\n",
    "sum = a+b\n",
    "print(sum)"
   ]
  },
  {
   "cell_type": "code",
   "execution_count": null,
   "metadata": {},
   "outputs": [
    {
     "name": "stdout",
     "output_type": "stream",
     "text": [
      "6.5\n"
     ]
    }
   ],
   "source": [
    "# in above case we see error just because here we can apply type conversion.\n",
    "# now let see : type casting i.e forced type conversion , explicit conversion\n",
    "a = \"3\"\n",
    "b = 3.5\n",
    "c = int(a) # this is how typr casting happenns\n",
    "sum = b+c\n",
    "print(sum) #this time no error\n"
   ]
  },
  {
   "cell_type": "code",
   "execution_count": null,
   "metadata": {},
   "outputs": [
    {
     "ename": "ValueError",
     "evalue": "could not convert string to float: 'Ram'",
     "output_type": "error",
     "traceback": [
      "\u001b[31m---------------------------------------------------------------------------\u001b[39m",
      "\u001b[31mValueError\u001b[39m                                Traceback (most recent call last)",
      "\u001b[36mCell\u001b[39m\u001b[36m \u001b[39m\u001b[32mIn[7]\u001b[39m\u001b[32m, line 8\u001b[39m\n\u001b[32m      6\u001b[39m a = \u001b[33m\"\u001b[39m\u001b[33mRam\u001b[39m\u001b[33m\"\u001b[39m\n\u001b[32m      7\u001b[39m b = \u001b[32m3\u001b[39m\n\u001b[32m----> \u001b[39m\u001b[32m8\u001b[39m c = \u001b[38;5;28;43mfloat\u001b[39;49m\u001b[43m(\u001b[49m\u001b[43ma\u001b[49m\u001b[43m)\u001b[49m\n\u001b[32m      9\u001b[39m \u001b[38;5;28msum\u001b[39m = c+b\n\u001b[32m     10\u001b[39m \u001b[38;5;28mprint\u001b[39m(\u001b[38;5;28msum\u001b[39m)\n",
      "\u001b[31mValueError\u001b[39m: could not convert string to float: 'Ram'"
     ]
    }
   ],
   "source": [
    "# how type casting happens in different data types. it is bassically done by using some function.\n",
    "# for float use float(a).\n",
    "# for integer use int(a). \n",
    "\n",
    "# but here is some trick\n",
    "a = \"Ram\"\n",
    "b = 3\n",
    "c = float(a)\n",
    "sum = c+b\n",
    "print(sum)\n",
    "# means type casting can work in some scnerio only you can make an for example you cant convert an string data type value into float.\n"
   ]
  }
 ],
 "metadata": {
  "kernelspec": {
   "display_name": "Python 3",
   "language": "python",
   "name": "python3"
  },
  "language_info": {
   "codemirror_mode": {
    "name": "ipython",
    "version": 3
   },
   "file_extension": ".py",
   "mimetype": "text/x-python",
   "name": "python",
   "nbconvert_exporter": "python",
   "pygments_lexer": "ipython3",
   "version": "3.13.1"
  }
 },
 "nbformat": 4,
 "nbformat_minor": 2
}
