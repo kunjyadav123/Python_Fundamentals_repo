{
 "cells": [
  {
   "cell_type": "markdown",
   "metadata": {},
   "source": [
    "# Lecture 3"
   ]
  },
  {
   "cell_type": "code",
   "execution_count": null,
   "metadata": {},
   "outputs": [],
   "source": [
    "# String operation."
   ]
  },
  {
   "cell_type": "code",
   "execution_count": null,
   "metadata": {},
   "outputs": [],
   "source": [
    "# string  data types stores thre sequence of character."
   ]
  },
  {
   "cell_type": "code",
   "execution_count": 8,
   "metadata": {},
   "outputs": [
    {
     "name": "stdout",
     "output_type": "stream",
     "text": [
      "Heyy my name is Pankaj.\n",
      "And I am a great batsman.\n",
      "I always scores 200 runs in knockouts.\n"
     ]
    }
   ],
   "source": [
    "# ESCAPE SEQUENCE CHARACTER.They are those character which are use especially for formatting codes.\n",
    "# 1: \\n = this is ues for emerging next line.let see\n",
    "str1 = \"Heyy my name is Pankaj.\\nAnd I am a great batsman.\\nI always scores 200 runs in knockouts.\"\n",
    "print(str1)\n",
    "# got it.\n"
   ]
  },
  {
   "cell_type": "code",
   "execution_count": null,
   "metadata": {},
   "outputs": [
    {
     "name": "stdout",
     "output_type": "stream",
     "text": [
      " Heyy myself Pankaj Yadav.\t I am the best bowler in this universe.\n"
     ]
    }
   ],
   "source": [
    "# 2: \\t = this is use for giving a tab space in between.\n",
    "str2 = \" Heyy myself Pankaj Yadav.\\t I am the best bowler in this universe.\"\n",
    "print(str2)"
   ]
  },
  {
   "cell_type": "code",
   "execution_count": 87,
   "metadata": {},
   "outputs": [
    {
     "name": "stdout",
     "output_type": "stream",
     "text": [
      "Hello man. Myself cheetah\n"
     ]
    }
   ],
   "source": [
    "# concatenation in string.\n",
    "# Using + Operator will make string concatenated.Lets see\n",
    "str1 = \"Hello man.\"\n",
    "str2 = \" Myself cheetah\"\n",
    "final_str = str1+str2\n",
    "print(final_str)\n"
   ]
  },
  {
   "cell_type": "code",
   "execution_count": null,
   "metadata": {},
   "outputs": [
    {
     "name": "stdout",
     "output_type": "stream",
     "text": [
      "10\n",
      "22\n",
      "25\n"
     ]
    }
   ],
   "source": [
    "# finding length of an string.\n",
    "# It will be done by using : len() function.Remember it will also count blankspaces and special character.Lets see\n",
    "str1 = \"Hello Man.\"\n",
    "print(len(str1))\n",
    "str2 = \"Pankaj Yadav\"\n",
    "print(len(str1+str2)) \n",
    "print(len(str1+\"   \"+ str2))  # Got it."
   ]
  },
  {
   "cell_type": "code",
   "execution_count": null,
   "metadata": {},
   "outputs": [],
   "source": [
    "# INDEX AND INDEXING IN STRING.\n",
    "# ITS ABOUT POSITION NO OF CHARACTER AND ITS STARTS FROM 0(FROM FIRST CHARACTER) AND IT'S COUNT SPACES AND SPECAL CHARACTER AS WELL.\n",
    "# ITS HELP US TO ACCEES CHARACTER."
   ]
  },
  {
   "cell_type": "code",
   "execution_count": null,
   "metadata": {},
   "outputs": [
    {
     "name": "stdout",
     "output_type": "stream",
     "text": [
      "P A J   A\n"
     ]
    },
    {
     "ename": "IndexError",
     "evalue": "string index out of range",
     "output_type": "error",
     "traceback": [
      "\u001b[31m---------------------------------------------------------------------------\u001b[39m",
      "\u001b[31mIndexError\u001b[39m                                Traceback (most recent call last)",
      "\u001b[36mCell\u001b[39m\u001b[36m \u001b[39m\u001b[32mIn[78]\u001b[39m\u001b[32m, line 9\u001b[39m\n\u001b[32m      7\u001b[39m idx10 = \u001b[38;5;28mstr\u001b[39m[\u001b[32m10\u001b[39m]\n\u001b[32m      8\u001b[39m \u001b[38;5;28mprint\u001b[39m(idx0,idx1,idx5,idx6,idx10) \u001b[38;5;66;03m# spaces also counts.\u001b[39;00m\n\u001b[32m----> \u001b[39m\u001b[32m9\u001b[39m \u001b[38;5;28mprint\u001b[39m(\u001b[38;5;28;43mstr\u001b[39;49m\u001b[43m[\u001b[49m\u001b[32;43m16\u001b[39;49m\u001b[43m]\u001b[49m)\n",
      "\u001b[31mIndexError\u001b[39m: string index out of range"
     ]
    }
   ],
   "source": [
    "# EXAMPLE : Index : String_name[index_number]\n",
    "str = \"PANKAJ YADAV\"\n",
    "idx0 = str[0]\n",
    "idx1 = str[1]\n",
    "idx5 = str[5]\n",
    "idx6 = str[6]\n",
    "idx10 = str[10]\n",
    "print(idx0,idx1,idx5,idx6,idx10) # spaces also counts.\n",
    "print(str[16]) # you can't print out of range index number.It wil throw an error.\n"
   ]
  },
  {
   "cell_type": "code",
   "execution_count": 91,
   "metadata": {},
   "outputs": [
    {
     "ename": "TypeError",
     "evalue": "'str' object does not support item assignment",
     "output_type": "error",
     "traceback": [
      "\u001b[31m---------------------------------------------------------------------------\u001b[39m",
      "\u001b[31mTypeError\u001b[39m                                 Traceback (most recent call last)",
      "\u001b[36mCell\u001b[39m\u001b[36m \u001b[39m\u001b[32mIn[91]\u001b[39m\u001b[32m, line 4\u001b[39m\n\u001b[32m      1\u001b[39m \u001b[38;5;66;03m# WE CAN ACCESS CHARACTER FROM STRING VIA INDEXING FOR SURE.\u001b[39;00m\n\u001b[32m      2\u001b[39m \u001b[38;5;66;03m# BUT WE CANT CHANGE , MAIPULATE OR MODIFY EXISTING STRING VIA INDEXING. LETS SEE\u001b[39;00m\n\u001b[32m      3\u001b[39m \u001b[38;5;28mstr\u001b[39m = \u001b[33m\"\u001b[39m\u001b[33mPANKAJ YADAV\u001b[39m\u001b[33m\"\u001b[39m\n\u001b[32m----> \u001b[39m\u001b[32m4\u001b[39m \u001b[38;5;28;43mstr\u001b[39;49m\u001b[43m[\u001b[49m\u001b[32;43m2\u001b[39;49m\u001b[43m]\u001b[49m = \u001b[33m\"\u001b[39m\u001b[33mX\u001b[39m\u001b[33m\"\u001b[39m\n\u001b[32m      6\u001b[39m \u001b[38;5;66;03m# HENCE STRINGS ARE IMMUTABLE IN NATURE UNLIKE LISTS.\u001b[39;00m\n",
      "\u001b[31mTypeError\u001b[39m: 'str' object does not support item assignment"
     ]
    }
   ],
   "source": [
    "# WE CAN ACCESS CHARACTER FROM STRING VIA INDEXING FOR SURE.\n",
    "# BUT WE CANT CHANGE , MAIPULATE OR MODIFY EXISTING STRING VIA INDEXING. LETS SEE\n",
    "str = \"PANKAJ YADAV\"\n",
    "str[2] = \"X\"\n",
    "\n",
    "# HENCE STRINGS ARE IMMUTABLE IN NATURE UNLIKE LISTS.\n"
   ]
  },
  {
   "cell_type": "code",
   "execution_count": null,
   "metadata": {},
   "outputs": [],
   "source": [
    "# SLICING IN STRING : ITS MEANS ACCESSING SECTION OF ."
   ]
  },
  {
   "cell_type": "code",
   "execution_count": null,
   "metadata": {},
   "outputs": [
    {
     "name": "stdout",
     "output_type": "stream",
     "text": [
      "ANK\n",
      "PANKAJ YA\n",
      "KAJ Y\n",
      "PANKAJ YADAV\n"
     ]
    }
   ],
   "source": [
    "# Slicing Syntax\n",
    "# i.e string[start_idx: end_idx] where ending index will not included.\n",
    "str = \"PANKAJ YADAV\"\n",
    "slice1 = str[1:4]\n",
    "print(slice)\n",
    "slice2 = str[0:9]\n",
    "print(slice2)\n",
    "slice3 = str[3:8]\n",
    "print(slice3)\n",
    "print(str[0:18])# kuch notice kiya last index no of slicing may exceed the actual last index no of string . OK"
   ]
  },
  {
   "cell_type": "code",
   "execution_count": 35,
   "metadata": {},
   "outputs": [
    {
     "name": "stdout",
     "output_type": "stream",
     "text": [
      "PANKA\n",
      "PANKAJ Y\n"
     ]
    }
   ],
   "source": [
    "# some rules in string slicing.\n",
    "# rule 1: str[0:4] is same as str[ :4]\n",
    "str = \"PANKAJ YADAV\"\n",
    "slice1 = str[ : 5]\n",
    "print(slice1)\n",
    "slice2 = str[ : 8]\n",
    "print(slice2)"
   ]
  },
  {
   "cell_type": "code",
   "execution_count": 61,
   "metadata": {},
   "outputs": [
    {
     "name": "stdout",
     "output_type": "stream",
     "text": [
      "AJ YADAV\n",
      "AJ YADAV\n",
      "NKAJ YADAV\n",
      "NKAJ YADAV\n"
     ]
    }
   ],
   "source": [
    "# rule 2: str[1: ] is same as str[1:len(str)] and its covers last elementa as well.\n",
    "str = \"PANKAJ YADAV\"\n",
    "\n",
    "slice3 = str[4: ]\n",
    "slice4 = str[4: len(str)]\n",
    "\n",
    "print(slice3)\n",
    "print(slice4)\n",
    "\n",
    "slice1 = str[2: ]\n",
    "slice2 = str[2: len(str)]\n",
    "print(slice1)\n",
    "print(slice2)\n",
    "# got same result and last character printed as well.\n",
    "# bcoz len(str) = index no of last character + 1\n"
   ]
  },
  {
   "cell_type": "code",
   "execution_count": 63,
   "metadata": {},
   "outputs": [
    {
     "name": "stdout",
     "output_type": "stream",
     "text": [
      "YADA\n",
      "AJ YAD\n"
     ]
    }
   ],
   "source": [
    "# CONCEPT OF NEGATIVE INDEXING AND ITS CORRESPOND SLICING.\n",
    "# In Negative indexing indexing starts from last character(-1) to first.\n",
    "# str[start_idx:last_idx] where last_idx character number doest print here as well.\n",
    "# rule 2: str[1: ] is same as str[1:len(str)] and its covers last elementa as well.\n",
    "str = \"PANKAJ YADAV\"\n",
    "neg_slice1 = str[-5:-1]\n",
    "print(neg_slice1)\n",
    "neg_slice2 = str[ -8:-2]\n",
    "print(neg_slice2)\n"
   ]
  },
  {
   "cell_type": "code",
   "execution_count": null,
   "metadata": {},
   "outputs": [
    {
     "name": "stdout",
     "output_type": "stream",
     "text": [
      "True\n",
      "True\n",
      "False\n"
     ]
    }
   ],
   "source": [
    "# STRING OPERATION.\n",
    "str_name = \"PANKAJ YADAV\"\n",
    "# lets see  now all string  operation.\n",
    "\n",
    "\n",
    "\n",
    "# 1: str_name.endswith(\"AV.\") ; return True if string ends with substr.\n",
    "print(str_name.endswith(\"DAV\"))\n",
    "print(str_name.endswith(\"YADAV\"))\n",
    "print(str_name.endswith(\"ABC\"))\n",
    "\n"
   ]
  },
  {
   "cell_type": "code",
   "execution_count": 76,
   "metadata": {},
   "outputs": [
    {
     "name": "stdout",
     "output_type": "stream",
     "text": [
      "Pankaj yadav\n",
      "pankaj yadav\n",
      "Pankaj yadav\n"
     ]
    }
   ],
   "source": [
    "# 2: str_name.capitalize() ; capitalize first character of string.\n",
    "str_name = \"pankaj yadav\"\n",
    "print(str_name.capitalize())\n",
    "# got it but here is trick see\n",
    "print(str_name) # what! here first letter is small. Yes bcoz above string operation only make change in only printed time not to original string if you want to make changes in origainal string follow given step.\n",
    "str = str_name.capitalize()# now it will make change original string\n",
    "print(str) \n",
    "\n",
    "\n"
   ]
  },
  {
   "cell_type": "code",
   "execution_count": null,
   "metadata": {},
   "outputs": [
    {
     "name": "stdout",
     "output_type": "stream",
     "text": [
      "Bankaj Yadav\n",
      "Pankaj Yadav\n",
      "Bankaj Yadav\n"
     ]
    }
   ],
   "source": [
    "# 3: str_name.replace(\"old\"\",\"new\"); you may replace an character or even an substring.\n",
    "str_name = \"Pankaj Yadav\"\n",
    "print(str_name.replace(\"Pa\",\"Ba\"))# it only make changes in printed string not in orginal one to make changes in original one follow given one.\n",
    "print(str_name)\n",
    "str = str_name.replace(\"Pa\",\"Ba\")\n",
    "print(str)# now change is dine in original string via this way.\n",
    "\n"
   ]
  },
  {
   "cell_type": "code",
   "execution_count": 85,
   "metadata": {},
   "outputs": [
    {
     "name": "stdout",
     "output_type": "stream",
     "text": [
      "1\n",
      "4\n",
      "8\n",
      "-1\n"
     ]
    }
   ],
   "source": [
    "#4: str_name.find(\"substr\"); substring may be an character or any substring itself.It find index number correspon to its first occurence.\n",
    "str_name = \"Pankaj Yadav\"\n",
    "print(str_name.find(\"a\"))\n",
    "print(str_name.find(\"aj\"))\n",
    "print(str_name.find(\"ada\"))\n",
    "print(str_name.find(\"ax\")) # -1 index no means invalid okay bcoz there is no such word \"ax\"  in original string\n",
    "# negative indexes exists for slicing only after that no nagative indexes exist.\n",
    "\n",
    "\n",
    "\n",
    "\n"
   ]
  },
  {
   "cell_type": "code",
   "execution_count": 86,
   "metadata": {},
   "outputs": [
    {
     "name": "stdout",
     "output_type": "stream",
     "text": [
      "4\n",
      "1\n",
      "0\n"
     ]
    }
   ],
   "source": [
    "# 4: str_name.count(\"substr\"); count occurences of given substring.It may count character or substring.\n",
    "str_name = \"Pankaj Yadav\"\n",
    "print(str_name.count(\"a\"))\n",
    "print(str_name.count(\"aj\"))\n",
    "print(str_name.count(\"ram\"))\n",
    "\n"
   ]
  },
  {
   "cell_type": "code",
   "execution_count": null,
   "metadata": {},
   "outputs": [],
   "source": [
    "# PRACTICE TIME:\n",
    "# Q1: GO TO MISCELLENIOUS 5 FOR IT."
   ]
  }
 ],
 "metadata": {
  "kernelspec": {
   "display_name": "Python 3",
   "language": "python",
   "name": "python3"
  },
  "language_info": {
   "codemirror_mode": {
    "name": "ipython",
    "version": 3
   },
   "file_extension": ".py",
   "mimetype": "text/x-python",
   "name": "python",
   "nbconvert_exporter": "python",
   "pygments_lexer": "ipython3",
   "version": "3.13.1"
  }
 },
 "nbformat": 4,
 "nbformat_minor": 2
}
