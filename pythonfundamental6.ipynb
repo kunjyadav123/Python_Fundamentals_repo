{
 "cells": [
  {
   "cell_type": "markdown",
   "id": "489d877b",
   "metadata": {},
   "source": [
    "### Speciality of String and Integer(Not float) in Python :"
   ]
  },
  {
   "cell_type": "code",
   "execution_count": null,
   "id": "4e8ea60b",
   "metadata": {},
   "outputs": [
    {
     "name": "stdout",
     "output_type": "stream",
     "text": [
      "False\n"
     ]
    }
   ],
   "source": [
    "# we know it is \n",
    "\n",
    "a = [1,2,3,4,5]\n",
    "b = [1,2,3,4,5]\n",
    "\n",
    "print(a is b) # thhek hai memory allocation mer diffrenet refernces hai to False banta hao , now see! "
   ]
  },
  {
   "cell_type": "code",
   "execution_count": null,
   "id": "a3a063a5",
   "metadata": {},
   "outputs": [
    {
     "name": "stdout",
     "output_type": "stream",
     "text": [
      "False\n"
     ]
    }
   ],
   "source": [
    "\n",
    "x = {1,2,3,4,5,6}\n",
    "y = {1,2,3,4,5,6}\n",
    "               \n",
    "print( x is y) # thhek hai memory allocation mer diffrenet refernces hai to False banta hao , now see!                             \n",
    "\n"
   ]
  },
  {
   "cell_type": "code",
   "execution_count": 3,
   "id": "dfd22a0b",
   "metadata": {},
   "outputs": [
    {
     "name": "stdout",
     "output_type": "stream",
     "text": [
      "False\n"
     ]
    }
   ],
   "source": [
    "p = (\"a\",\"b\",\"c\",\"d\",\"e\")\n",
    "q = (\"a\",\"b\",\"c\",\"d\",\"e\")\n",
    "\n",
    "print( p is q)  # thhek hai memory allocation mer diffrenet refernces hai to False banta hao , now see\n",
    "\n",
    "\n"
   ]
  },
  {
   "cell_type": "code",
   "execution_count": null,
   "id": "38d84297",
   "metadata": {},
   "outputs": [
    {
     "name": "stdout",
     "output_type": "stream",
     "text": [
      "False\n"
     ]
    }
   ],
   "source": [
    "x = 5.5\n",
    "y = 5.5\n",
    "\n",
    "print( x is y )  # Got it ! "
   ]
  },
  {
   "cell_type": "markdown",
   "id": "0bfe82f5",
   "metadata": {},
   "source": [
    "## But wait for strings and Integres(but not float) :"
   ]
  },
  {
   "cell_type": "code",
   "execution_count": null,
   "id": "a5aa877c",
   "metadata": {},
   "outputs": [
    {
     "name": "stdout",
     "output_type": "stream",
     "text": [
      "True\n",
      "False\n"
     ]
    }
   ],
   "source": [
    "a = 4\n",
    "b = 4 \n",
    "print( a is b)  # even though in memory allocation as refernces are diffrent it Gives True but why \n",
    "\n"
   ]
  },
  {
   "cell_type": "code",
   "execution_count": null,
   "id": "f785051b",
   "metadata": {},
   "outputs": [
    {
     "name": "stdout",
     "output_type": "stream",
     "text": [
      "True\n"
     ]
    }
   ],
   "source": [
    "str_1 = \"abc\"\n",
    "str_2 = \"abc\"\n",
    "print(str_1 is str_2)  # even though in memory allocation as refernces are diffrent it Gives True but why ?\n"
   ]
  },
  {
   "cell_type": "markdown",
   "id": "c0ede45a",
   "metadata": {},
   "source": [
    "### Reason for diffrent results: "
   ]
  },
  {
   "cell_type": "code",
   "execution_count": null,
   "id": "6c7a4291",
   "metadata": {},
   "outputs": [],
   "source": [
    "# Remember checks identity not equality so ! \n",
    "\n",
    "\n",
    "# In python strings and Integers are treated as intended and and for string and numbers it resuse same memory allocation , objects of string and numbers for efficency so thats why they pointed same same  in above cases! \n",
    "# but above pattern is not get folllowed in other datatypes so ! rest you get it\n",
    "# we saw same specility of string and float in automatic garbage collection as for them it happens with delay but for other datatype it happens quickly."
   ]
  },
  {
   "cell_type": "markdown",
   "id": "492a8caf",
   "metadata": {},
   "source": [
    "#### Remember one thing being same and being equal is two different thing and all sames refernces are equal but all equal referneces need not to be same(identical)."
   ]
  }
 ],
 "metadata": {
  "kernelspec": {
   "display_name": ".venv",
   "language": "python",
   "name": "python3"
  },
  "language_info": {
   "codemirror_mode": {
    "name": "ipython",
    "version": 3
   },
   "file_extension": ".py",
   "mimetype": "text/x-python",
   "name": "python",
   "nbconvert_exporter": "python",
   "pygments_lexer": "ipython3",
   "version": "3.13.3"
  }
 },
 "nbformat": 4,
 "nbformat_minor": 5
}
