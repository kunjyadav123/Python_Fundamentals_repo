{
 "cells": [
  {
   "cell_type": "markdown",
   "metadata": {},
   "source": [
    "# Lecture 13:\n"
   ]
  },
  {
   "cell_type": "code",
   "execution_count": null,
   "metadata": {},
   "outputs": [],
   "source": [
    "# OBJECT ORIENTED PROGTRAMMMING : OOPS PART 2 (prefer Hardcopy notes as well it is extremely helpful)."
   ]
  },
  {
   "cell_type": "code",
   "execution_count": 1,
   "metadata": {},
   "outputs": [],
   "source": [
    "# Deleting objects atttribute and object itself.\n",
    "# del s1.colour  where s1 is object name and colour is attribute of object and using this syntax we may delete attribute of object.\n",
    "# del.s1  using this syntax we may delete the object itself."
   ]
  },
  {
   "cell_type": "code",
   "execution_count": 2,
   "metadata": {},
   "outputs": [
    {
     "name": "stdout",
     "output_type": "stream",
     "text": [
      "Brown\n"
     ]
    },
    {
     "ename": "AttributeError",
     "evalue": "'Student' object has no attribute 'colour'",
     "output_type": "error",
     "traceback": [
      "\u001b[31m---------------------------------------------------------------------------\u001b[39m",
      "\u001b[31mAttributeError\u001b[39m                            Traceback (most recent call last)",
      "\u001b[36mCell\u001b[39m\u001b[36m \u001b[39m\u001b[32mIn[2]\u001b[39m\u001b[32m, line 11\u001b[39m\n\u001b[32m      9\u001b[39m \u001b[38;5;28mprint\u001b[39m(s1.colour)\n\u001b[32m     10\u001b[39m \u001b[38;5;28;01mdel\u001b[39;00m s1.colour\n\u001b[32m---> \u001b[39m\u001b[32m11\u001b[39m \u001b[38;5;28mprint\u001b[39m(\u001b[43ms1\u001b[49m\u001b[43m.\u001b[49m\u001b[43mcolour\u001b[49m) \u001b[38;5;66;03m# as you deleted colour attribute so it will be absent theere so if you try to access that attribute of object it will throw error.\u001b[39;00m\n",
      "\u001b[31mAttributeError\u001b[39m: 'Student' object has no attribute 'colour'"
     ]
    }
   ],
   "source": [
    "# lets seee. deleting object attribute\n",
    "\n",
    "class Student: \n",
    "    name = \"Karan kumar\" \n",
    "    def __init__(self,colour):\n",
    "        self.colour = colour\n",
    "\n",
    "s1 = Student(\"Brown\")\n",
    "print(s1.colour)\n",
    "del s1.colour\n",
    "print(s1.colour) # as you deleted colour attribute so it will be absent theere so if you try to access that attribute of object it will throw error.\n",
    "\n"
   ]
  },
  {
   "cell_type": "code",
   "execution_count": null,
   "metadata": {},
   "outputs": [
    {
     "name": "stdout",
     "output_type": "stream",
     "text": [
      "<__main__.Student object at 0x000001FB4322CEC0>\n"
     ]
    },
    {
     "ename": "NameError",
     "evalue": "name 's1' is not defined",
     "output_type": "error",
     "traceback": [
      "\u001b[31m---------------------------------------------------------------------------\u001b[39m",
      "\u001b[31mNameError\u001b[39m                                 Traceback (most recent call last)",
      "\u001b[36mCell\u001b[39m\u001b[36m \u001b[39m\u001b[32mIn[7]\u001b[39m\u001b[32m, line 11\u001b[39m\n\u001b[32m      9\u001b[39m \u001b[38;5;28mprint\u001b[39m(s1) \u001b[38;5;66;03m# this gives idea that s1 is bassicaly a object.\u001b[39;00m\n\u001b[32m     10\u001b[39m \u001b[38;5;28;01mdel\u001b[39;00m s1\n\u001b[32m---> \u001b[39m\u001b[32m11\u001b[39m \u001b[38;5;28mprint\u001b[39m(\u001b[43ms1\u001b[49m) \u001b[38;5;66;03m# now object will not print because here s1 deleted and no object of name s1 exist also you can acces it attributes.\u001b[39;00m\n\u001b[32m     12\u001b[39m \u001b[38;5;28mprint\u001b[39m(s1.colour)\n",
      "\u001b[31mNameError\u001b[39m: name 's1' is not defined"
     ]
    }
   ],
   "source": [
    "# Lets see how to delete the  object itself.\n",
    "\n",
    "class Student: \n",
    "    name = \"Karan kumar\" \n",
    "    def __init__(self,colour):\n",
    "        self.colour = colour\n",
    "\n",
    "s1 = Student(\"Brown\")\n",
    "print(s1) # this gives idea that s1 is bassicaly a object.\n",
    "del s1\n",
    "print(s1) # now object will not print because here s1 deleted and no object of name s1 exist also you can acces it attributes.\n",
    "print(s1.colour) # due to absence of s1 object itself.\n",
    "\n",
    "\n"
   ]
  },
  {
   "cell_type": "code",
   "execution_count": null,
   "metadata": {},
   "outputs": [],
   "source": [
    "# PRIVATE(like) attribute and METHOD in OOPs(PYTHON):\n",
    "# Private attrubutes and method are meant to be used in class and not accesible outside to class.\n",
    "# Whereas public attribute  and methods says that we may access the attribute outside the scope of class."
   ]
  },
  {
   "cell_type": "code",
   "execution_count": null,
   "metadata": {},
   "outputs": [
    {
     "name": "stdout",
     "output_type": "stream",
     "text": [
      "12345\n",
      "abcdef\n",
      "hello darling\n"
     ]
    }
   ],
   "source": [
    "class Account():\n",
    "    def __init__(self,acc_no,acc_pass):\n",
    "        self.acc_no = acc_no\n",
    "        self.acc_pass = acc_pass\n",
    "\n",
    "    def Hello(self):\n",
    "        print(\"hello darling\")\n",
    "    \n",
    "\n",
    "acc1 = Account(12345,\"abcdef\")\n",
    "print(acc1.acc_no)\n",
    "print(acc1.acc_pass) # example of public accessing.\n",
    "acc1.Hello() # accessing the method publically .\n",
    "\n",
    "# But here is everything normal!\n",
    "# But see here account password is something should not be publically available and it may breach security.\n",
    "# So whenever we see any attribute or any method is somewhat sensitive to disclose  it openly we make it private (in private it is not completely private but like private).\n",
    "# leet see "
   ]
  },
  {
   "cell_type": "code",
   "execution_count": null,
   "metadata": {},
   "outputs": [
    {
     "name": "stdout",
     "output_type": "stream",
     "text": [
      "12345\n"
     ]
    },
    {
     "ename": "AttributeError",
     "evalue": "'Account' object has no attribute '__acc_pass'",
     "output_type": "error",
     "traceback": [
      "\u001b[31m---------------------------------------------------------------------------\u001b[39m",
      "\u001b[31mAttributeError\u001b[39m                            Traceback (most recent call last)",
      "\u001b[36mCell\u001b[39m\u001b[36m \u001b[39m\u001b[32mIn[12]\u001b[39m\u001b[32m, line 13\u001b[39m\n\u001b[32m     11\u001b[39m acc1 = Account(\u001b[32m12345\u001b[39m,\u001b[33m\"\u001b[39m\u001b[33mabcdef\u001b[39m\u001b[33m\"\u001b[39m)\n\u001b[32m     12\u001b[39m \u001b[38;5;28mprint\u001b[39m(acc1.acc_no)\n\u001b[32m---> \u001b[39m\u001b[32m13\u001b[39m \u001b[38;5;28mprint\u001b[39m(\u001b[43macc1\u001b[49m\u001b[43m.\u001b[49m\u001b[43m__acc_pass\u001b[49m) \u001b[38;5;66;03m# can not get accessed just because of we made it  private by putting  __(double underscore).\u001b[39;00m\n\u001b[32m     14\u001b[39m s1.__Hello() \u001b[38;5;66;03m#we can not access that method becaues it becomes private out side the class directly .see how can we do it!\u001b[39;00m\n",
      "\u001b[31mAttributeError\u001b[39m: 'Account' object has no attribute '__acc_pass'"
     ]
    }
   ],
   "source": [
    "# To make any attribute private or method   we just simpply put doble underscore before attribute name  or method name (__attrb_name, __method name ) name it becomes private. and we can\"t acces it out of class i.e we may not access it publicaly (may access but with some condition we will see it later.) \n",
    "\n",
    "class Account():\n",
    "    def __init__(self,acc_no,acc_pass):\n",
    "        self.acc_no = acc_no\n",
    "        self.__acc_pass = acc_pass # Attribute name ke aage __ makes attribute private(like).\n",
    "\n",
    "    def __Hello(self):\n",
    "        print(\"Hii Pankaj\")\n",
    "        \n",
    "acc1 = Account(12345,\"abcdef\")\n",
    "print(acc1.acc_no)\n",
    "print(acc1.__acc_pass) # can not get accessed just because of we made it  private by putting  __(double underscore).\n",
    "s1.__Hello() #we can not access that method becaues it becomes private out side the class directly .see how can we do it!\n"
   ]
  },
  {
   "cell_type": "code",
   "execution_count": null,
   "metadata": {},
   "outputs": [
    {
     "name": "stdout",
     "output_type": "stream",
     "text": [
      "Hello papa\n"
     ]
    },
    {
     "ename": "AttributeError",
     "evalue": "'Student' object has no attribute '__section'",
     "output_type": "error",
     "traceback": [
      "\u001b[31m---------------------------------------------------------------------------\u001b[39m",
      "\u001b[31mAttributeError\u001b[39m                            Traceback (most recent call last)",
      "\u001b[36mCell\u001b[39m\u001b[36m \u001b[39m\u001b[32mIn[9]\u001b[39m\u001b[32m, line 19\u001b[39m\n\u001b[32m     17\u001b[39m stu1 = Student(\u001b[33m\"\u001b[39m\u001b[33mRohit\u001b[39m\u001b[33m\"\u001b[39m,\u001b[33m\"\u001b[39m\u001b[33m78\u001b[39m\u001b[33m\"\u001b[39m,\u001b[33m\"\u001b[39m\u001b[33mA\u001b[39m\u001b[33m\"\u001b[39m)    \n\u001b[32m     18\u001b[39m stu1.get_Hello()\n\u001b[32m---> \u001b[39m\u001b[32m19\u001b[39m \u001b[38;5;28mprint\u001b[39m(\u001b[43mstu1\u001b[49m\u001b[43m.\u001b[49m\u001b[43m__section\u001b[49m)\n",
      "\u001b[31mAttributeError\u001b[39m: 'Student' object has no attribute '__section'"
     ]
    }
   ],
   "source": [
    "# let see other example of privatetation:\n",
    "\n",
    "\n",
    "class Student:\n",
    "    college_name = \"XYZ College\"\n",
    "\n",
    "    def __init__(self,name,marks,section) :\n",
    "        self.name = name\n",
    "        self.marks = marks\n",
    "        self.__section = section\n",
    "    \n",
    "    def get_Hello(self): \n",
    "        print(\"Hello papa\")\n",
    "\n",
    "    \n",
    "# creating object.    \n",
    "stu1 = Student(\"Rohit\",\"78\",\"A\")    \n",
    "stu1.get_Hello()\n",
    "print(stu1.__section) # Did not get publically accesible directly just because of we make attribute private.\n",
    "\n",
    "\n",
    "\n",
    "\n",
    "\n"
   ]
  },
  {
   "cell_type": "code",
   "execution_count": null,
   "metadata": {},
   "outputs": [
    {
     "name": "stdout",
     "output_type": "stream",
     "text": [
      "A\n"
     ]
    },
    {
     "ename": "NameError",
     "evalue": "name 's1' is not defined",
     "output_type": "error",
     "traceback": [
      "\u001b[31m---------------------------------------------------------------------------\u001b[39m",
      "\u001b[31mNameError\u001b[39m                                 Traceback (most recent call last)",
      "\u001b[36mCell\u001b[39m\u001b[36m \u001b[39m\u001b[32mIn[10]\u001b[39m\u001b[32m, line 18\u001b[39m\n\u001b[32m     16\u001b[39m stu1 = Student(\u001b[33m\"\u001b[39m\u001b[33mRohit\u001b[39m\u001b[33m\"\u001b[39m,\u001b[33m\"\u001b[39m\u001b[33m78\u001b[39m\u001b[33m\"\u001b[39m,\u001b[33m\"\u001b[39m\u001b[33mA\u001b[39m\u001b[33m\"\u001b[39m)    \n\u001b[32m     17\u001b[39m \u001b[38;5;28mprint\u001b[39m(stu1.section) \n\u001b[32m---> \u001b[39m\u001b[32m18\u001b[39m \u001b[43ms1\u001b[49m.__get_Hello()\n",
      "\u001b[31mNameError\u001b[39m: name 's1' is not defined"
     ]
    }
   ],
   "source": [
    "# one more example:\n",
    "\n",
    "class Student:\n",
    "    college_name = \"XYZ College\"\n",
    "\n",
    "    def __init__(self,name,marks,section) :\n",
    "        self.name = name\n",
    "        self.marks = marks\n",
    "        self.section = section\n",
    "    \n",
    "    def __get_Hello(self): \n",
    "        print(\"Hello papa\")\n",
    "\n",
    "    \n",
    "# creating object.    \n",
    "stu1 = Student(\"Rohit\",\"78\",\"A\")    \n",
    "print(stu1.section) \n",
    "s1.__get_Hello() # we can not get method publically  directly just because  e made it private.\n",
    "\n",
    "\n"
   ]
  },
  {
   "cell_type": "code",
   "execution_count": null,
   "metadata": {},
   "outputs": [],
   "source": [
    "# But we may access private methods and private attibute using within internal normal methods(jissse access kar rhe ho vo method normal hona chihye bas) within the class.\n",
    "# Using above technique we may access the private attribute or private method.\n",
    "# let see how it works!"
   ]
  },
  {
   "cell_type": "code",
   "execution_count": null,
   "metadata": {},
   "outputs": [
    {
     "name": "stdout",
     "output_type": "stream",
     "text": [
      "12345\n",
      "abcdef\n",
      "None\n"
     ]
    }
   ],
   "source": [
    "class Account():\n",
    "    def __init__(self,acc_no,acc_pass):\n",
    "        self.acc_no = acc_no\n",
    "        self.__acc_pass = acc_pass \n",
    "\n",
    "    def reset_pass(self): # but this method in itself should be normal not private.\n",
    "        print(self.__acc_pass) # via internal normal method within class we may acces private attribute or privat methods.\n",
    "        \n",
    "acc1 = Account(12345,\"abcdef\")\n",
    "print(acc1.acc_no)\n",
    "print(acc1.reset_pass()) # ab koi issue nii hai . okay\n",
    "\n",
    "\n",
    "\n"
   ]
  },
  {
   "cell_type": "code",
   "execution_count": null,
   "metadata": {},
   "outputs": [
    {
     "name": "stdout",
     "output_type": "stream",
     "text": [
      "12345\n",
      "Hii Pankaj you are the best bowler in this world.\n",
      "None\n"
     ]
    }
   ],
   "source": [
    "# let access private method this time:\n",
    "\n",
    "class Account():\n",
    "    def __init__(self,acc_no,acc_pass):\n",
    "        self.acc_no = acc_no\n",
    "        self.__acc_pass = acc_pass \n",
    "\n",
    "    def __Hello(self): # private method.\n",
    "        print(\"Hii Pankaj you are the best bowler in this world.\")\n",
    "\n",
    "    def get_Hello(self): # accessing other private method within normal method within the the class.\n",
    "        return acc1.__Hello()\n",
    "    \n",
    "acc1 = Account(12345,\"abcdef\")\n",
    "print(acc1.acc_no)\n",
    "print(acc1.get_Hello())\n",
    "\n",
    "\n",
    "\n",
    "\n"
   ]
  },
  {
   "cell_type": "code",
   "execution_count": null,
   "metadata": {},
   "outputs": [],
   "source": [
    "# INHERITENCE IN OOPs: Read its copy notes.\n",
    "# when one class(child/derived) derives the property(methods ,attribute) of another class(parent/base).\n",
    "\n",
    "class car: # parent/base class\n",
    "\n",
    "\n",
    "\n",
    "\n",
    "class Toyota_car(car): # child/derived class. and this is syntax for inheritence ."
   ]
  },
  {
   "cell_type": "code",
   "execution_count": null,
   "metadata": {},
   "outputs": [
    {
     "name": "stdout",
     "output_type": "stream",
     "text": [
      "car started\n",
      "car stop\n",
      "fortuner\n",
      "prius\n"
     ]
    }
   ],
   "source": [
    "# Single level inheritance: i.e one parent class and one child class.\n",
    "\n",
    "class Car:\n",
    "    @staticmethod\n",
    "    def start():\n",
    "        print(\"car started\")\n",
    "    \n",
    "    @staticmethod\n",
    "    def stop():\n",
    "        print(\"car stop\")\n",
    "\n",
    "class Toyotacar(Car):\n",
    "    def __init__(self,name):\n",
    "        self.name = name\n",
    "\n",
    "car1 = Toyotacar(\"fortuner\")\n",
    "car2 = Toyotacar(\"prius\")\n",
    "\n",
    "car1.start()# even start() method does't put in class of Toyotacar it prints succesfully because , Class Toyotacar inherits propety of Class Car.\n",
    "car2.stop() # same things happens here.\n",
    "print(car1.name)\n",
    "print(car2.name)\n",
    "\n"
   ]
  },
  {
   "cell_type": "code",
   "execution_count": null,
   "metadata": {},
   "outputs": [
    {
     "name": "stdout",
     "output_type": "stream",
     "text": [
      "car stop\n",
      "car started\n",
      "lets acclerate\n",
      "diesel\n",
      "petrol\n",
      "electric\n"
     ]
    },
    {
     "ename": "AttributeError",
     "evalue": "'Fortuner' object has no attribute 'brand'",
     "output_type": "error",
     "traceback": [
      "\u001b[31m---------------------------------------------------------------------------\u001b[39m",
      "\u001b[31mAttributeError\u001b[39m                            Traceback (most recent call last)",
      "\u001b[36mCell\u001b[39m\u001b[36m \u001b[39m\u001b[32mIn[9]\u001b[39m\u001b[32m, line 34\u001b[39m\n\u001b[32m     32\u001b[39m \u001b[38;5;28mprint\u001b[39m(car2.type)\n\u001b[32m     33\u001b[39m \u001b[38;5;28mprint\u001b[39m(car3.type)\n\u001b[32m---> \u001b[39m\u001b[32m34\u001b[39m \u001b[38;5;28mprint\u001b[39m(\u001b[43mcar2\u001b[49m\u001b[43m.\u001b[49m\u001b[43mbrand\u001b[49m) \u001b[38;5;66;03m# ek class ka attribue dusre class ke attribue ko directly access nii kr skte. Kuch rules hote hai for that we will see it later.\u001b[39;00m\n",
      "\u001b[31mAttributeError\u001b[39m: 'Fortuner' object has no attribute 'brand'"
     ]
    }
   ],
   "source": [
    "# Multi Level Inheritence:\n",
    "\n",
    "class Car:\n",
    "    @staticmethod\n",
    "    def start():\n",
    "        print(\"car started\")\n",
    "    \n",
    "    @staticmethod\n",
    "    def stop():\n",
    "        print(\"car stop\")\n",
    "\n",
    "class Toyotacar(Car):\n",
    "    def __init__(self,brand):\n",
    "        self.brand = brand\n",
    "\n",
    "    def acclerate(self):\n",
    "        print(\"lets acclerate\")\n",
    "\n",
    "class Fortuner(Toyotacar):\n",
    "    def __init__(self,type):\n",
    "        self.type = type\n",
    "\n",
    "\n",
    "car1 = Fortuner(\"diesel\")\n",
    "car2 = Fortuner(\"petrol\")\n",
    "car3 = Fortuner(\"electric\")\n",
    "car1.stop()  # seen we carried method of parent classes to use within the the derived class.\n",
    "car2.start()\n",
    "car2.acclerate() # seen we carried method of parent classes to use within the the derived class.\n",
    "print(car1.type) \n",
    "print(car2.type)\n",
    "print(car3.type)\n",
    "print\n",
    "print(car2.brand) # ek class ka attribue dusre class ke attribue ko directly access nii kr skte. Kuch rules hote hai for that we will see it later.\n"
   ]
  },
  {
   "cell_type": "code",
   "execution_count": null,
   "metadata": {},
   "outputs": [
    {
     "name": "stdout",
     "output_type": "stream",
     "text": [
      "car stop\n",
      "car started\n",
      "car stop\n",
      "lets acclerate\n",
      "lets acclerate\n",
      "intense momentum\n",
      "intense momentum\n",
      "drift karo\n",
      "drift karo\n",
      "diesel petrol\n",
      "78\n",
      "12\n",
      "prius\n"
     ]
    },
    {
     "ename": "AttributeError",
     "evalue": "'Fortuner' object has no attribute 'brand'",
     "output_type": "error",
     "traceback": [
      "\u001b[31m---------------------------------------------------------------------------\u001b[39m",
      "\u001b[31mAttributeError\u001b[39m                            Traceback (most recent call last)",
      "\u001b[36mCell\u001b[39m\u001b[36m \u001b[39m\u001b[32mIn[4]\u001b[39m\u001b[32m, line 51\u001b[39m\n\u001b[32m     48\u001b[39m \u001b[38;5;28mprint\u001b[39m(car0.brand) \u001b[38;5;66;03m#  this is fine \u001b[39;00m\n\u001b[32m     50\u001b[39m \u001b[38;5;66;03m# But direct ek class dusre class ka attribute access nii skta see \u001b[39;00m\n\u001b[32m---> \u001b[39m\u001b[32m51\u001b[39m \u001b[38;5;28mprint\u001b[39m(\u001b[43mcar1\u001b[49m\u001b[43m.\u001b[49m\u001b[43mbrand\u001b[49m) \u001b[38;5;66;03m# Don't worry we wil see about it later.\u001b[39;00m\n",
      "\u001b[31mAttributeError\u001b[39m: 'Fortuner' object has no attribute 'brand'"
     ]
    }
   ],
   "source": [
    "# Multilevel Inheritence example:\n",
    "\n",
    "class Car:\n",
    "    @staticmethod\n",
    "    def start():\n",
    "        print(\"car started\")\n",
    "    \n",
    "    def stop(self):\n",
    "        print(\"car stop\")\n",
    "\n",
    "class Toyotacar(Car):\n",
    "    def __init__(self,brand):\n",
    "        self.brand = brand\n",
    "\n",
    "    def acclerate(self):\n",
    "        print(\"lets acclerate\")\n",
    "    \n",
    "    def momentum(self):\n",
    "        print(\"intense momentum\")\n",
    "\n",
    "    def velocity(self):\n",
    "        return \"drift karo\"\n",
    "    \n",
    "car0 = Toyotacar(\"prius\")    \n",
    "\n",
    "class Fortuner(Toyotacar):\n",
    "    def __init__(self,type,milage):\n",
    "        self.type = type\n",
    "        self.milage = milage\n",
    "\n",
    "\n",
    "car1 = Fortuner(\"diesel\",78)\n",
    "car2 = Fortuner(\"petrol\",12) # Remember  car1, car2  are object associated to class Fortuner.\n",
    "\n",
    "car1.stop()\n",
    "car1.start()\n",
    "car2.stop()\n",
    "car2.acclerate()\n",
    "car1.acclerate()\n",
    "car1.momentum()\n",
    "car2.momentum()\n",
    "print(car1.velocity())\n",
    "print(car2.velocity())\n",
    "print(car1.type,car2.type)\n",
    "print(car1.milage)\n",
    "print(car2.milage)\n",
    "\n",
    "print(car0.brand) #  this is fine \n",
    "\n",
    "# But direct ek class dusre class ka attribute access nii skta see \n",
    "print(car1.brand) # Don't worry we wil see about it later.\n"
   ]
  },
  {
   "cell_type": "code",
   "execution_count": null,
   "metadata": {},
   "outputs": [
    {
     "name": "stdout",
     "output_type": "stream",
     "text": [
      "welcome to hell\n",
      "welcome to class B\n",
      "welcome to class A\n"
     ]
    }
   ],
   "source": [
    "# Multiple inheritence: \n",
    "\n",
    "\n",
    "class First_class:\n",
    "    varA = \"welcome to class A\"\n",
    "\n",
    "class Second_class:\n",
    "    varB  = \"welcome to class B\"\n",
    "\n",
    "class Third_class(First_class,): # This is syntax for multiple inheritance.\n",
    "    varC = \"welcome to hell\"    \n",
    "\n",
    "C1 = Third_class() # Even though C1 is just class third's object but it also enalbes printing of class first and second object because it inherited properties of first and second class.\n",
    "print(C1.varC)\n",
    "print(C1.varB)\n",
    "print(C1.varA)\n"
   ]
  },
  {
   "cell_type": "code",
   "execution_count": null,
   "metadata": {},
   "outputs": [
    {
     "name": "stdout",
     "output_type": "stream",
     "text": [
      "Welcome to first class\n",
      "welcome to my second class\n",
      "welcome to my third class\n",
      "welcome to hell!\n"
     ]
    }
   ],
   "source": [
    "# OTHER EXAMPLE:\n",
    "\n",
    "class First_Papa:\n",
    "    Var1 =\"Welcome to first class\"\n",
    "\n",
    "class Second_Mummy:\n",
    "    Var2 = \"welcome to my second class\"\n",
    "\n",
    "class Third_Brother:\n",
    "    Var3 = \"welcome to my third class\"\n",
    "\n",
    "class Grand_father(First_Papa,Second_Mummy,Third_Brother ):\n",
    "    Var4 = \"welcome to hell!\"\n",
    "\n",
    "c1 = Grand_father()\n",
    "print(c1.Var1)\n",
    "print(c1.Var2)\n",
    "print(c1.Var3)\n",
    "print(c1.Var4)\n"
   ]
  },
  {
   "cell_type": "code",
   "execution_count": null,
   "metadata": {},
   "outputs": [
    {
     "ename": "SyntaxError",
     "evalue": "duplicate argument 'self' in function definition (1540016891.py, line 23)",
     "output_type": "error",
     "traceback": [
      "  \u001b[36mCell\u001b[39m\u001b[36m \u001b[39m\u001b[32mIn[4]\u001b[39m\u001b[32m, line 23\u001b[39m\n\u001b[31m    \u001b[39m\u001b[31mdef __init__(self,name,self):\u001b[39m\n                           ^\n\u001b[31mSyntaxError\u001b[39m\u001b[31m:\u001b[39m duplicate argument 'self' in function definition\n"
     ]
    }
   ],
   "source": [
    "# SUPER METHOD:\n",
    "\n",
    "# Super method is used to access the method of parent class .(This is logic to use attribute of one class to using into another class).\n",
    "# Understend it very precicesly.\n",
    "\n",
    "\n",
    "\n",
    "class Car:\n",
    "\n",
    "    def __init__(self,type):\n",
    "        self.type = type\n",
    "\n",
    "    @staticmethod\n",
    "    def start():\n",
    "        print(\"car started\")\n",
    "    \n",
    "    @staticmethod\n",
    "    def stop():\n",
    "        print(\"car stop\")\n",
    "\n",
    "class Toyotacar(Car):\n",
    "    def __init__(self,name,):\n",
    "        self.name  = name\n",
    "\n",
    "car1 = Toyotacar(\"prius\")\n",
    "\n",
    "print(car1.type) # We can not accccess the constructor attribute of one calss to another \n",
    "\n"
   ]
  },
  {
   "cell_type": "code",
   "execution_count": null,
   "metadata": {},
   "outputs": [
    {
     "ename": "AttributeError",
     "evalue": "'Toyotacar' object has no attribute 'type'",
     "output_type": "error",
     "traceback": [
      "\u001b[31m---------------------------------------------------------------------------\u001b[39m",
      "\u001b[31mAttributeError\u001b[39m                            Traceback (most recent call last)",
      "\u001b[36mCell\u001b[39m\u001b[36m \u001b[39m\u001b[32mIn[5]\u001b[39m\u001b[32m, line 22\u001b[39m\n\u001b[32m     18\u001b[39m         \u001b[38;5;28mself\u001b[39m.name  = name \u001b[38;5;66;03m# But did not specified self.type = type.\u001b[39;00m\n\u001b[32m     20\u001b[39m car1 = Toyotacar(\u001b[33m\"\u001b[39m\u001b[33mprius\u001b[39m\u001b[33m\"\u001b[39m,\u001b[33m\"\u001b[39m\u001b[33melectric\u001b[39m\u001b[33m\"\u001b[39m) \u001b[38;5;66;03m# ab to attribute valus pass kr di hai.\u001b[39;00m\n\u001b[32m---> \u001b[39m\u001b[32m22\u001b[39m \u001b[38;5;28mprint\u001b[39m(\u001b[43mcar1\u001b[49m\u001b[43m.\u001b[49m\u001b[43mtype\u001b[49m) \n",
      "\u001b[31mAttributeError\u001b[39m: 'Toyotacar' object has no attribute 'type'"
     ]
    }
   ],
   "source": [
    "# even we specify attribute of other class into other class and and passes atribute values in object , but agar self.attb_name = attb_name nahi specify kiya fir bhiie rroe ayega.\n",
    "\n",
    "class Car:\n",
    "\n",
    "    def __init__(self,type):\n",
    "        self.type = type\n",
    "\n",
    "    @staticmethod\n",
    "    def start():\n",
    "        print(\"car started\")\n",
    "    \n",
    "    @staticmethod\n",
    "    def stop():\n",
    "        print(\"car stop\")\n",
    "\n",
    "class Toyotacar(Car):\n",
    "    def __init__(self,name,type): # type attribute bhhi defined ho gya.\n",
    "        self.name  = name # But did not specified self.type = type.\n",
    "\n",
    "car1 = Toyotacar(\"prius\",\"electric\") # ab to attribute valus pass kr di hai.\n",
    "\n",
    "print(car1.type) \n",
    "# still it gives error now see magic of SUPER METHOD.\n"
   ]
  },
  {
   "cell_type": "code",
   "execution_count": null,
   "metadata": {},
   "outputs": [
    {
     "name": "stdout",
     "output_type": "stream",
     "text": [
      "electric\n"
     ]
    }
   ],
   "source": [
    "# SUPER METHOD USAGES AND ITS WORKING SYNTAX:\n",
    "\n",
    "\n",
    "class Car:\n",
    "\n",
    "    def __init__(self,type):\n",
    "        self.type = type # This attribute of parent class constructor we imported into the child class attribute.\n",
    "\n",
    "    @staticmethod\n",
    "    def start():\n",
    "        print(\"car started\")\n",
    "    \n",
    "    @staticmethod\n",
    "    def stop():\n",
    "        print(\"car stop\")\n",
    "\n",
    "class Toyotacar(Car):\n",
    "    def __init__(self,name,type): # BUT SUPER METHOD USE KARNE KE SAATH SAATH YAHA (WITHIN THE CHILD INIT FUNCTION ) PAR VO ATTRIBUTE BHI PUT KARDENA JO IMPORT KR RHE HO.\n",
    "        super().__init__(type) # This is how SUPER METHOD INITIATED.\n",
    "        self.name  = name   \n",
    "\n",
    "car1 = Toyotacar(\"prius\",\"electric\") # AALSO ALONG WITH SUPER METHOD PUTS CORRESPONDING ATTRIBUTE VALUE INTO OBJECT ().\n",
    "\n",
    "print(car1.type) # We can not accccess the constructor attribute of one clas to another. \n",
    "\n"
   ]
  },
  {
   "cell_type": "code",
   "execution_count": null,
   "metadata": {},
   "outputs": [
    {
     "name": "stdout",
     "output_type": "stream",
     "text": [
      "Electric\n",
      "Patel Brand\n"
     ]
    }
   ],
   "source": [
    "# Lets see other example:\n",
    "\n",
    "\n",
    "class Car:\n",
    "\n",
    "    def __init__(self,type,brand):\n",
    "        self.type = type # This attribute of parent class constructor we imported into the child class attribute.\n",
    "        self.brand = brand\n",
    "\n",
    "    @staticmethod\n",
    "    def start():\n",
    "        print(\"car started\")\n",
    "    \n",
    "    @staticmethod\n",
    "    def stop():\n",
    "        print(\"car stop\")\n",
    "\n",
    "class Toyotacar(Car):\n",
    "    def __init__(self,name,type,brand): # BUT SUPER METHOD USE KARNE KE SAATH SAATH YAHA (WITHIN THE CHILD INIT FUNCTION ) PAR VO ATTRIBUTE BHI PUT KARDENA JO IMPORT KR RHE HO.\n",
    "        super().__init__(type,brand) # This is how SUPER METHOD INITIATED . ek sssth more attributew import.\n",
    "        self.name  = name   \n",
    "\n",
    "car1 = Toyotacar(\"prius\",\"Electric\",\"Patel Brand\") # AALSO ALONG WITH SUPER METHOD PUTS CORRESPONDING ATTRIBUTE VALUE INTO OBJECT ().\n",
    "\n",
    "print(car1.type) # We can not accccess the constructor attribute of one clas to another. \n",
    "print(car1.brand)\n",
    "\n",
    "\n"
   ]
  },
  {
   "cell_type": "code",
   "execution_count": null,
   "metadata": {},
   "outputs": [
    {
     "name": "stdout",
     "output_type": "stream",
     "text": [
      "car started\n",
      "car stop\n",
      "lets acclerate \n",
      "Angular Momentum\n",
      "Electric\n",
      "Patel Brand\n"
     ]
    }
   ],
   "source": [
    "# We can also initiate(import) via using the SUPER METHOD :\n",
    "\n",
    "class Car:\n",
    "\n",
    "    def __init__(self,type,brand):\n",
    "        self.type = type \n",
    "        self.brand = brand\n",
    "\n",
    "    @staticmethod\n",
    "    def start():\n",
    "        print(\"car started\")\n",
    "    \n",
    "    @staticmethod\n",
    "    def stop():\n",
    "        print(\"car stop\")\n",
    "\n",
    "    def acclerate(self):\n",
    "        print(\"lets acclerate \")   \n",
    "\n",
    "    def momentum(self):\n",
    "        print(\"Angular Momentum\")\n",
    "            \n",
    "class Toyotacar(Car):\n",
    "    def __init__(self,name,type,brand):\n",
    "        super().__init__(type,brand) \n",
    "        self.name  = name   \n",
    "        super().start()    # This is how we carried the parent calss method at stating of object creation using super method.\n",
    "    #                     This method will invoke at beggining of object .\n",
    "        super().stop()\n",
    "        super().acclerate()\n",
    "        super().momentum()\n",
    "car1 = Toyotacar(\"prius\",\"Electric\",\"Patel Brand\")\n",
    "\n",
    "print(car1.type)\n",
    "print(car1.brand)\n",
    "\n"
   ]
  },
  {
   "cell_type": "code",
   "execution_count": null,
   "metadata": {},
   "outputs": [],
   "source": [
    "# Class Method: A class method is bound to the class and recieve the class as the first implicit argument.\n",
    "# Note : Since static method can't access or modify the class state and gennerally used for utility. So due to this limitation we uses class method which makes changes at class.\n"
   ]
  },
  {
   "cell_type": "code",
   "execution_count": null,
   "metadata": {},
   "outputs": [
    {
     "name": "stdout",
     "output_type": "stream",
     "text": [
      "RAHUL KUMAR\n",
      "Anonymous\n"
     ]
    }
   ],
   "source": [
    "# Let see what we are talking about:\n",
    "\n",
    "class Person:\n",
    "    name  = \"Anonymous\"\n",
    "\n",
    "    def changename(self,name):\n",
    "        self.name = name\n",
    "\n",
    "p1 = Person()\n",
    "p1.changename(\"RAHUL KUMAR\")\n",
    "print(p1.name) # This got changes at objcet level.\n",
    "print(Person.name) # But ye kya it doest make changes at class level \n",
    "\n",
    "\n",
    "\n",
    "# Haa to aisa hai ki normal method ko use kar ke hum direct class level pe changes nii kr skte hai to .for that we have some tricks and methods."
   ]
  },
  {
   "cell_type": "code",
   "execution_count": null,
   "metadata": {},
   "outputs": [
    {
     "name": "stdout",
     "output_type": "stream",
     "text": [
      "RAHUL KUMAR\n",
      "RAHUL KUMAR\n"
     ]
    }
   ],
   "source": [
    "# First way is : Ye bhi theek hai lekin best one is class method.\n",
    "\n",
    "\n",
    "class Person:\n",
    "    name  = \"Anonymous\"\n",
    "\n",
    "    def changename(self,name):\n",
    "        Person.name = name   # here we put person.name = name , instead of self.name = name because here person.name = name will make changes at class level.\n",
    "\n",
    "p1 = Person()\n",
    "p1.changename(\"RAHUL KUMAR\")\n",
    "print(p1.name) # This got changes at objcet level.\n",
    "print(Person.name) # using this makes changes at class level.\n"
   ]
  },
  {
   "cell_type": "code",
   "execution_count": null,
   "metadata": {},
   "outputs": [
    {
     "name": "stdout",
     "output_type": "stream",
     "text": [
      "RAHUL KUMAR\n",
      "RAHUL KUMAR\n"
     ]
    }
   ],
   "source": [
    "# let see class method: its working and syntax .\n",
    "\n",
    "\n",
    "class Person:\n",
    "    name  = \"Anonymous\"\n",
    "\n",
    "    @classmethod                # This is working syntax of class method.\n",
    "    def changename(cls,name): # Here is class level we uses cls.name  = name  not self.name = name. so be aware about that.\n",
    "        cls.name = name  # here (cls)  not (self) becoz this is class refernce not object (not objects normal method it is class level method ).\n",
    "\n",
    "p1 = Person()\n",
    "p1.changename(\"RAHUL KUMAR\")\n",
    "print(p1.name) # This got changes at objcet level.\n",
    "print(p1.name)  # Here we did't print(person.name ) still with print(p1.name) it makes changes at class level just because  of class method.\n"
   ]
  },
  {
   "cell_type": "code",
   "execution_count": null,
   "metadata": {},
   "outputs": [],
   "source": [
    "# so far we seen three levels of methods : i.e basicallys\n",
    "\n",
    "# 1: static methods(); that basicaally fixed for all class , object and untouchable.\n",
    "# 2: class methods(); that basically works and makes changes at class level.\n",
    "# 3: normal method(i.e basicalll method referering to the instances / objects ) \n",
    "# Read more about them from notes and practice and practice."
   ]
  },
  {
   "cell_type": "code",
   "execution_count": null,
   "metadata": {},
   "outputs": [],
   "source": [
    "# PROPERTY DECORATOR: automatics change maker."
   ]
  },
  {
   "cell_type": "code",
   "execution_count": null,
   "metadata": {},
   "outputs": [
    {
     "name": "stdout",
     "output_type": "stream",
     "text": [
      "98.0%\n",
      "98.0%\n"
     ]
    }
   ],
   "source": [
    "# lets see for what we are talking about:\n",
    "\n",
    "\n",
    "class Student:\n",
    "    def __init__(self,phy,chem,maths):\n",
    "        self.phy = phy\n",
    "        self.chem = chem\n",
    "        self.maths = maths\n",
    "        self.percentage  = str((self.phy + self.chem + self.maths)/3) +\"%\"\n",
    "\n",
    "stu1 = Student(97,98,99)        \n",
    "print(stu1.percentage)  # It gives result as 98 % . when phy are 97.\n",
    "#Sab normal hai! \n",
    "#now lets makes changes. we make phy value changes by 86 inplace of 97.see what happpens.\n",
    "\n",
    "stu1.phy = 86 #we makes change  of phys marks  now .let see what happens here .\n",
    "print(stu1.percentage) # Aree ye kya percentage is still 98% even we decrese physics marks value.\n",
    "\n",
    "\n",
    "\n",
    "# Yess it is ! using normal methods we cant expect automation. \n",
    "# To do it . we use property decorator.see next cell.\n",
    "\n",
    "\n"
   ]
  },
  {
   "cell_type": "code",
   "execution_count": null,
   "metadata": {},
   "outputs": [
    {
     "name": "stdout",
     "output_type": "stream",
     "text": [
      "98.0%\n",
      "94.33333333333333%\n",
      "78.0%\n",
      "75.33333333333333%\n"
     ]
    }
   ],
   "source": [
    "class Student:\n",
    "    def __init__(self,phy,chem,maths):\n",
    "        self.phy = phy\n",
    "        self.chem = chem\n",
    "        self.maths = maths\n",
    "        \n",
    "    @property                 # Now this property methoid wiil make thiks automaticllly changeble as dependent function.\n",
    "    def percentage (self):\n",
    "        return str((self.phy + self.chem + self.maths)/3) + \"%\"\n",
    "\n",
    "stu1 = Student(97,98,99)        \n",
    "print(stu1.percentage)  # It gives result as 98 % . when phy are 97.\n",
    "#Sab normal hai! \n",
    "#now lets makes changes. we make phy value changes by 86 inplace of 97.see what happpens.\n",
    "\n",
    "stu1.phy = 86 #we makes change  of phys marks  now .let see what happens here .\n",
    "print(stu1.percentage) # Aree ye kya percentage is still 98% even we decrese physics marks value.\n",
    "# ab sab sorted hai!.\n",
    "\n",
    "\n",
    "stu1.maths = 50\n",
    "print(stu1.percentage) \n",
    "# Its returns last updated ones.\n",
    "# lets see one more time .\n",
    "stu1.chem = 90\n",
    "print(stu1.percentage)\n",
    "\n",
    "\n",
    "# This is how the  property decorator works."
   ]
  },
  {
   "cell_type": "code",
   "execution_count": null,
   "metadata": {},
   "outputs": [],
   "source": [
    "# CONCEPT OF POLYMORPHISM: OPERATOR OVERLOADING.\n",
    "# Opertor and Dhunder function: When same function allows to have diffferent meaning according to context. \n",
    "# Also here prefer copy notes for theoretical aspect."
   ]
  },
  {
   "cell_type": "code",
   "execution_count": null,
   "metadata": {},
   "outputs": [
    {
     "name": "stdout",
     "output_type": "stream",
     "text": [
      "4\n",
      "pankaj\n",
      "[1, 2, 6, 4, 8, 7]\n"
     ]
    }
   ],
   "source": [
    "# Operator overloading / Dunder function:   An Brief Overview.\n",
    "# Different meaning of + operator in different differnt data types. \n",
    "\n",
    "\n",
    "print(1+3) # Here + means adding in int.\n",
    "print(\"pan\"+\"kaj\") # Here + means concatenation in string.\n",
    "print([1,2,6]+[4,8,7]) # Here + means merging in list.\n",
    "# Have you seen same operator have different diferent meaning and working function in diffferent dat typesa nd situation.This is concept of polymorphism.\n",
    "# Because in python it is already defined how a  operator will deal with specific data types.\n"
   ]
  },
  {
   "cell_type": "code",
   "execution_count": null,
   "metadata": {},
   "outputs": [
    {
     "name": "stdout",
     "output_type": "stream",
     "text": [
      "5 i + 9 j\n",
      "8 i + 6 j\n"
     ]
    }
   ],
   "source": [
    "# To understand working of dunder function we will see complex numbers but in python complex numbers is not already defined so firstly we will see it properly.\n",
    "\n",
    "class Complex:\n",
    "    def __init__(self,real,img):\n",
    "        self.real = real\n",
    "        self.img = img\n",
    "\n",
    "    def shownum(self):\n",
    "        print(self.real,\"i\",\"+\",self.img,\"j\") \n",
    "\n",
    "c1 = Complex(5,9)    \n",
    "c2 = Complex(8,6)   \n",
    "c1.shownum() \n",
    "c2.shownum() # this is how we create complex number in python because in python there is no such thing complex number that is already defined here. so we creates it as how."
   ]
  },
  {
   "cell_type": "code",
   "execution_count": null,
   "metadata": {},
   "outputs": [],
   "source": [
    "# Now we will see addition and sbtraction of complex number."
   ]
  },
  {
   "cell_type": "code",
   "execution_count": null,
   "metadata": {},
   "outputs": [
    {
     "name": "stdout",
     "output_type": "stream",
     "text": [
      "5 i + 8 j\n",
      "9 i + 3 j\n",
      "14 i + 11 j\n",
      "4 i + -5 j\n"
     ]
    }
   ],
   "source": [
    "# Method 1 : Using function and jugaad.Yes this is also true but using dunder function will be best in such scenerio.\n",
    "# Any way let see first method of using function and jugaad. Fir 2nd time dunder function ko use kr ke karenge.\n",
    "\n",
    "\n",
    "\n",
    "class Complex:\n",
    "    def __init__(self,real,img):\n",
    "        self.real = real\n",
    "        self.img = img\n",
    "\n",
    "    def shownum(self):\n",
    "        print(self.real,\"i\",\"+\",self.img,\"j\") \n",
    "\n",
    "    def add(self,num2):\n",
    "        newReal = self.real + num2.real\n",
    "        newImg =  self.img + num2.img      # Understanding this method is crucial.\n",
    "        return Complex(newReal,newImg)\n",
    "    \n",
    "    \n",
    "    def subtract(self,num2):\n",
    "        newReal = self.real - num2.real\n",
    "        newImg =  self.img - num2.img        # Understanding this method is crucial.\n",
    "        return Complex(newReal,newImg)\n",
    "    \n",
    "\n",
    "num1 = Complex(5,8)\n",
    "num2 = Complex(9,3)\n",
    "num1.shownum()\n",
    "num2.shownum()\n",
    "\n",
    "num3 = num1.add(num2)\n",
    "num3.shownum()\n",
    "\n",
    "num4 = num2.subtract(num1)\n",
    "num4.shownum()\n",
    "\n",
    "\n",
    "#  This is how things works , if you does't get 100% now dont worry just stick to it with consistency you will win for sure.\n"
   ]
  },
  {
   "cell_type": "code",
   "execution_count": null,
   "metadata": {},
   "outputs": [],
   "source": [
    "# Now let See things with dunder function: \n",
    "# See we added suntracted complex number using jugaad of functions and methods .\n",
    "# But let we wish to add/subtract complex numbers directly as simole addition and subtraction as num3 = num1 + num2 or num3 = num1 - num2. now see next line\n",
    "# But we can not directly add suntract complex no here as we add integer because in python such logics of direct addition / subtraction of complex numbers is not defined  direcltly.\n",
    "# But we can dircetly add / subract such complex numbers with usual addition/ subtraction logics using CONCEPT OF DUNDER FUNCTION."
   ]
  },
  {
   "cell_type": "code",
   "execution_count": null,
   "metadata": {},
   "outputs": [
    {
     "name": "stdout",
     "output_type": "stream",
     "text": [
      "14 i + 11 j\n",
      "4 i + -5 j\n"
     ]
    },
    {
     "ename": "TypeError",
     "evalue": "unsupported operand type(s) for +: 'Complex' and 'Complex'",
     "output_type": "error",
     "traceback": [
      "\u001b[31m---------------------------------------------------------------------------\u001b[39m",
      "\u001b[31mTypeError\u001b[39m                                 Traceback (most recent call last)",
      "\u001b[36mCell\u001b[39m\u001b[36m \u001b[39m\u001b[32mIn[12]\u001b[39m\u001b[32m, line 34\u001b[39m\n\u001b[32m     31\u001b[39m num4.shownum() \n\u001b[32m     32\u001b[39m \u001b[38;5;66;03m# ab tak to sab theek hai but !\u001b[39;00m\n\u001b[32m---> \u001b[39m\u001b[32m34\u001b[39m num5 = \u001b[43mnum1\u001b[49m\u001b[43m \u001b[49m\u001b[43m+\u001b[49m\u001b[43m \u001b[49m\u001b[43mnum2\u001b[49m \u001b[38;5;66;03m# erroe aa gya na bcoz in python it is not predefined that we can do normal\u001b[39;00m\n\u001b[32m     35\u001b[39m num6 = num1 - num2\n",
      "\u001b[31mTypeError\u001b[39m: unsupported operand type(s) for +: 'Complex' and 'Complex'"
     ]
    }
   ],
   "source": [
    "#let see what happens we we use usual addition/subtraction for complex nos without dunder function.\n",
    "\n",
    "\n",
    "class Complex:\n",
    "    def __init__(self,real,img):\n",
    "        self.real = real\n",
    "        self.img = img\n",
    "\n",
    "    def shownum(self):\n",
    "        print(self.real,\"i\",\"+\",self.img,\"j\") \n",
    "\n",
    "    def add(self,num2):\n",
    "        newReal = self.real + num2.real\n",
    "        newImg =  self.img + num2.img      # Understanding this method is crucial.\n",
    "        return Complex(newReal,newImg)\n",
    "    \n",
    "    \n",
    "    def subtract(self,num2):\n",
    "        newReal = self.real - num2.real\n",
    "        newImg =  self.img - num2.img        # Understanding this method is crucial.\n",
    "        return Complex(newReal,newImg)\n",
    "    \n",
    "\n",
    "num1 = Complex(5,8)\n",
    "num2 = Complex(9,3)\n",
    "\n",
    "num3 = num1.add(num2)\n",
    "num4 = num2.subtract(num1)\n",
    "\n",
    "num3.shownum()\n",
    "num4.shownum() \n",
    "# ab tak to sab theek hai but !\n",
    "\n",
    "num5 = num1 + num2 # error aa gya na bcoz in python it is not predefined that we can do normal add, sunrtact diecltly for complex no.\n",
    "num6 = num1 - num2 # same issue idhar bhii hai."
   ]
  },
  {
   "cell_type": "code",
   "execution_count": null,
   "metadata": {},
   "outputs": [
    {
     "name": "stdout",
     "output_type": "stream",
     "text": [
      "14 i + 11 j\n",
      "-4 i + 5 j\n"
     ]
    }
   ],
   "source": [
    "# Doing add subtract as usual simple add , subtraction logics for complex numbers BUT WITH DUNDER FUNCTION. \n",
    "\n",
    "# But how to initiate DUNDER FUNCTION: jus simple __add__ and __subtract__ . Put double under score before and after as well of methiod name you are using.\n",
    "\n",
    "\n",
    "\n",
    "class Complex:\n",
    "    def __init__(self,real,img):\n",
    "        self.real = real\n",
    "        self.img = img\n",
    "\n",
    "    def shownum(self):\n",
    "        print(self.real,\"i\",\"+\",self.img,\"j\") \n",
    "\n",
    "    def __add__(self,num2):\n",
    "        newReal = self.real + num2.real\n",
    "        newImg =  self.img + num2.img      # Understanding this method is crucial.\n",
    "        return Complex(newReal,newImg)\n",
    "    \n",
    "    \n",
    "    def __sub__(self,num2):  # put __sub__ ,not __subtraction__ , because in python correct dunder function for subtraction will be __sub__.\n",
    "        newReal = self.real - num2.real      # Understanding this method is crucial.\n",
    "        newImg =  self.img - num2.img\n",
    "        return Complex(newReal,newImg)\n",
    "    \n",
    "\n",
    "num1 = Complex(5,8)\n",
    "num2 = Complex(9,3)\n",
    "\n",
    "num3 = num1 + num2\n",
    "num3.shownum()   # Have you see magic of dunder function.\n",
    "\n",
    "num4 = num1 - num2\n",
    "num4.shownum() # have you seeit \n",
    "\n",
    "\n",
    "# Now check all specific dunder function for all operation in python from notes."
   ]
  }
 ],
 "metadata": {
  "kernelspec": {
   "display_name": "Python 3",
   "language": "python",
   "name": "python3"
  },
  "language_info": {
   "codemirror_mode": {
    "name": "ipython",
    "version": 3
   },
   "file_extension": ".py",
   "mimetype": "text/x-python",
   "name": "python",
   "nbconvert_exporter": "python",
   "pygments_lexer": "ipython3",
   "version": "undefined.undefined.undefined"
  }
 },
 "nbformat": 4,
 "nbformat_minor": 2
}
