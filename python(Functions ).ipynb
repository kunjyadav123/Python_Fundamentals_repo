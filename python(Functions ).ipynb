{
 "cells": [
  {
   "cell_type": "markdown",
   "metadata": {},
   "source": [
    "# Lecture 9 :\n"
   ]
  },
  {
   "cell_type": "code",
   "execution_count": null,
   "metadata": {},
   "outputs": [],
   "source": [
    "# FUNCTION IN PYTHON: "
   ]
  },
  {
   "cell_type": "code",
   "execution_count": null,
   "metadata": {},
   "outputs": [],
   "source": [
    "# Function enhances usability and reduces redundency of code and this is sign of good programmer.\n",
    "# syntax of function:    \n",
    "\n",
    "def function_name(param1,param2....): # function definition. here def is an keywords.\n",
    "    # some work.\n",
    "    return val   \n",
    "function_name(argu1,argu2) # function .\n",
    "# argument values got stores into paramenter values to correspond and according to it fuction executes.\n",
    "    \n",
    "# Having parameter in function and return stetement is completely optional in function."
   ]
  },
  {
   "cell_type": "code",
   "execution_count": null,
   "metadata": {},
   "outputs": [
    {
     "name": "stdout",
     "output_type": "stream",
     "text": [
      "12\n",
      "86\n",
      "110\n"
     ]
    },
    {
     "data": {
      "text/plain": [
       "110"
      ]
     },
     "execution_count": 5,
     "metadata": {},
     "output_type": "execute_result"
    }
   ],
   "source": [
    "# Function to print sum of two numbers:\n",
    "\n",
    "def func_name(a,b):\n",
    "    sum = a+b\n",
    "    print(sum)\n",
    "    return sum\n",
    "func_name(7,5)\n",
    "func_name(11,75)\n",
    "func_name(50,60) #  in this way function  works \n",
    "\n"
   ]
  },
  {
   "cell_type": "code",
   "execution_count": null,
   "metadata": {},
   "outputs": [
    {
     "name": "stdout",
     "output_type": "stream",
     "text": [
      "64\n",
      "92\n"
     ]
    }
   ],
   "source": [
    "def cal_sum(a,b):\n",
    "    return a+b\n",
    "sum = cal_sum(12,52)\n",
    "print(sum)\n",
    "sum1 = cal_sum(78,14)\n",
    "print(sum1)               # In this way also function works."
   ]
  },
  {
   "cell_type": "code",
   "execution_count": null,
   "metadata": {},
   "outputs": [
    {
     "name": "stdout",
     "output_type": "stream",
     "text": [
      "27\n"
     ]
    },
    {
     "data": {
      "text/plain": [
       "66"
      ]
     },
     "execution_count": 42,
     "metadata": {},
     "output_type": "execute_result"
    }
   ],
   "source": [
    "def cal_prod(a,b):\n",
    "    return a*b\n",
    "prod1 = cal_prod(3,9)\n",
    "print(prod1)\n",
    "# also\n",
    "cal_prod(11,6) \n",
    "# print(cal_prod(55,3))  this also  as asme as firtst print statement."
   ]
  },
  {
   "cell_type": "code",
   "execution_count": null,
   "metadata": {},
   "outputs": [
    {
     "name": "stdout",
     "output_type": "stream",
     "text": [
      "hello\n",
      "hello\n",
      "None\n"
     ]
    }
   ],
   "source": [
    "# Function without argument and return statement is also posible: see\n",
    "def func_hello(): # no parmeter.\n",
    "    print(\"hello\")\n",
    "func_hello()\n",
    "print(func_hello()) # this function returs none because function associted to it returns nothing.\n",
    "\n"
   ]
  },
  {
   "cell_type": "code",
   "execution_count": null,
   "metadata": {},
   "outputs": [
    {
     "data": {
      "text/plain": [
       "4.0"
      ]
     },
     "execution_count": 16,
     "metadata": {},
     "output_type": "execute_result"
    }
   ],
   "source": [
    "# Function to get average of  numbers;\n",
    "def avg_num(a,b,c):\n",
    "    sum = a+b+c\n",
    "    avg = sum/3\n",
    "    return avg # return statement.\n",
    "avg_num(96,97,98)\n",
    "avg_num(3,4,5)\n",
    "# this way\n",
    "\n",
    "\n"
   ]
  },
  {
   "cell_type": "code",
   "execution_count": null,
   "metadata": {},
   "outputs": [
    {
     "name": "stdout",
     "output_type": "stream",
     "text": [
      "97.0\n",
      "46.0\n",
      "21.0\n"
     ]
    },
    {
     "data": {
      "text/plain": [
       "18.0"
      ]
     },
     "execution_count": 24,
     "metadata": {},
     "output_type": "execute_result"
    }
   ],
   "source": [
    "# Function to get average of  numbers;\n",
    "def avg_num(a,b,c):\n",
    "    sum = a+b+c\n",
    "    return sum/3\n",
    "X = avg_num(96,97,98) # return values stores here now we can print it here.\n",
    "print(X)\n",
    "Y = avg_num(45, 46 ,47) # return values stores here  now we can print it here.\n",
    "print(Y)\n",
    "print(avg_num(20,21,22)) # this is also good \n",
    "avg_num(17,18,19)# direct accesing is also allowed.   JKHXHEJKN"
   ]
  },
  {
   "cell_type": "code",
   "execution_count": null,
   "metadata": {},
   "outputs": [],
   "source": [
    "# Note : we can use loops , conditional statement etc in our functions provided everythoing is used with proper indentation."
   ]
  },
  {
   "cell_type": "code",
   "execution_count": null,
   "metadata": {},
   "outputs": [
    {
     "name": "stdout",
     "output_type": "stream",
     "text": [
      "hello\n",
      "pankaj\n"
     ]
    }
   ],
   "source": [
    "# TYPES OF FUNCTIONS.\n",
    "# In built function: print(), len(), range() etc\n",
    "# User defined function: which is defined by user."
   ]
  },
  {
   "cell_type": "code",
   "execution_count": null,
   "metadata": {},
   "outputs": [
    {
     "name": "stdout",
     "output_type": "stream",
     "text": [
      "Hii pankaj \n"
     ]
    }
   ],
   "source": [
    "# use of end=\" \" function it prints different print statement in same line with gap. Remember end id key word here so use end only.\n",
    "print(\"Hii\", end = \" \")\n",
    "print(\"pankaj \") # let see one more"
   ]
  },
  {
   "cell_type": "code",
   "execution_count": 1,
   "metadata": {},
   "outputs": [
    {
     "name": "stdout",
     "output_type": "stream",
     "text": [
      "Hello kaise ho  puppy\n"
     ]
    }
   ],
   "source": [
    "# use of end = \" \"\n",
    "print(\"Hello\",end = \" \")\n",
    "print(\"kaise ho \",end = \" \")\n",
    "print(\"puppy\") # this function is intresting ."
   ]
  },
  {
   "cell_type": "code",
   "execution_count": 37,
   "metadata": {},
   "outputs": [
    {
     "name": "stdout",
     "output_type": "stream",
     "text": [
      "Hii@sachin tendulkar\n"
     ]
    }
   ],
   "source": [
    "# also you may fill gap as \n",
    "print(\"Hii\",end = \"@\") # now this time within gap you will see @ .\n",
    "print(\"sachin tendulkar\")"
   ]
  },
  {
   "cell_type": "code",
   "execution_count": null,
   "metadata": {},
   "outputs": [],
   "source": [
    "# Default argument:Assigning a default parameter when no argument is passed.\n"
   ]
  },
  {
   "cell_type": "code",
   "execution_count": null,
   "metadata": {},
   "outputs": [
    {
     "ename": "TypeError",
     "evalue": "cal_prod() missing 2 required positional arguments: 'a' and 'b'",
     "output_type": "error",
     "traceback": [
      "\u001b[31m---------------------------------------------------------------------------\u001b[39m",
      "\u001b[31mTypeError\u001b[39m                                 Traceback (most recent call last)",
      "\u001b[36mCell\u001b[39m\u001b[36m \u001b[39m\u001b[32mIn[2]\u001b[39m\u001b[32m, line 4\u001b[39m\n\u001b[32m      2\u001b[39m     prod = a*b\n\u001b[32m      3\u001b[39m     \u001b[38;5;28;01mreturn\u001b[39;00m prod\n\u001b[32m----> \u001b[39m\u001b[32m4\u001b[39m \u001b[43mcal_prod\u001b[49m\u001b[43m(\u001b[49m\u001b[43m)\u001b[49m\n",
      "\u001b[31mTypeError\u001b[39m: cal_prod() missing 2 required positional arguments: 'a' and 'b'"
     ]
    }
   ],
   "source": [
    "def cal_prod( a,b):\n",
    "    prod = a*b\n",
    "    return prod\n",
    "cal_prod() # when we does assign default paremeter and does't uses argument we face error. let see now"
   ]
  },
  {
   "cell_type": "code",
   "execution_count": 3,
   "metadata": {},
   "outputs": [
    {
     "data": {
      "text/plain": [
       "56"
      ]
     },
     "execution_count": 3,
     "metadata": {},
     "output_type": "execute_result"
    }
   ],
   "source": [
    "def cal_prod( a = 7,b = 8):\n",
    "    prod = a*b\n",
    "    return prod\n",
    "cal_prod()# here we does not passes any values as aergument so function will call for default values as argument by default."
   ]
  },
  {
   "cell_type": "code",
   "execution_count": null,
   "metadata": {},
   "outputs": [
    {
     "data": {
      "text/plain": [
       "17"
      ]
     },
     "execution_count": 4,
     "metadata": {},
     "output_type": "execute_result"
    }
   ],
   "source": [
    "def cal_sum( x = 12, y = 5):\n",
    "    sum = x + y\n",
    "    return sum\n",
    "cal_sum() "
   ]
  },
  {
   "cell_type": "code",
   "execution_count": null,
   "metadata": {},
   "outputs": [
    {
     "data": {
      "text/plain": [
       "110"
      ]
     },
     "execution_count": 5,
     "metadata": {},
     "output_type": "execute_result"
    }
   ],
   "source": [
    "# assigned argument value > default values i.e if argument value is assigned then default values will be neglected.\n",
    "def cal_sum( x = 12, y = 5):\n",
    "    sum = x + y\n",
    "    return sum\n",
    "cal_sum(60, 50) # 110 will be not 17.default values will be considerd for calculation when there is no argument assigned."
   ]
  },
  {
   "cell_type": "code",
   "execution_count": 4,
   "metadata": {},
   "outputs": [
    {
     "data": {
      "text/plain": [
       "60"
      ]
     },
     "execution_count": 4,
     "metadata": {},
     "output_type": "execute_result"
    }
   ],
   "source": [
    "# siingle default value, remember default value must be followed by non defult valus in functio def.\n",
    "def cal_prod(a,b = 10):\n",
    "    prod = a*b\n",
    "    return prod\n",
    "# cal_prod(24)# here by default a = 24, b = 10.\n",
    "cal_prod(6)"
   ]
  },
  {
   "cell_type": "code",
   "execution_count": null,
   "metadata": {},
   "outputs": [
    {
     "ename": "SyntaxError",
     "evalue": "parameter without a default follows parameter with a default (408659847.py, line 1)",
     "output_type": "error",
     "traceback": [
      "  \u001b[36mCell\u001b[39m\u001b[36m \u001b[39m\u001b[32mIn[7]\u001b[39m\u001b[32m, line 1\u001b[39m\n\u001b[31m    \u001b[39m\u001b[31mdef cal_sum( x = 12, y):\u001b[39m\n                         ^\n\u001b[31mSyntaxError\u001b[39m\u001b[31m:\u001b[39m parameter without a default follows parameter with a default\n"
     ]
    }
   ],
   "source": [
    "def cal_sum( x = 12, y):\n",
    "    sum = x + y\n",
    "    return sum\n",
    "cal_sum(13)# ye sab nii chalega default argumet must be followed  by non defaultargument.\n",
    "# so give default value from last."
   ]
  },
  {
   "cell_type": "code",
   "execution_count": null,
   "metadata": {},
   "outputs": [],
   "source": [
    "# Practice time :\n"
   ]
  },
  {
   "cell_type": "code",
   "execution_count": 3,
   "metadata": {},
   "outputs": [
    {
     "data": {
      "text/plain": [
       "4"
      ]
     },
     "execution_count": 3,
     "metadata": {},
     "output_type": "execute_result"
    }
   ],
   "source": [
    "# Q1: WAP to print length of list. (list is parameter)\n",
    "list1 = [1,5.6,\"@#\",\"absent\"]\n",
    "list2 = [\"vyom\",\"shyam\",6,\"$\",100,56]\n",
    "def cal_len(list):\n",
    "    list_len = len(list)\n",
    "    return list_len\n",
    "# cal_len(list2)\n",
    "cal_len(list1)\n"
   ]
  },
  {
   "cell_type": "code",
   "execution_count": 28,
   "metadata": {},
   "outputs": [
    {
     "name": "stdout",
     "output_type": "stream",
     "text": [
      "3 45 apna ### pankaj "
     ]
    }
   ],
   "source": [
    "# WAP to print element of list on single line (list is parameter)\n",
    "list1 = [3,45,\"apna\",\"###\",\"pankaj\"]\n",
    "def show_sameline(list):\n",
    "    idx = 0\n",
    "    while idx < len(list):\n",
    "        print(list[idx],end = \" \") # end = \" \" as escape sequence character.\n",
    "        idx+=1\n",
    "show_sameline(list1)\n",
    "\n"
   ]
  },
  {
   "cell_type": "code",
   "execution_count": 15,
   "metadata": {},
   "outputs": [
    {
     "name": "stdout",
     "output_type": "stream",
     "text": [
      "3 45 apna ### pankaj "
     ]
    }
   ],
   "source": [
    "# same Question using for loop:\n",
    "list1 = [3,45,\"apna\",\"###\",\"pankaj\"]\n",
    "def show_sameline(list):\n",
    "    for val in list:\n",
    "        print(val,end = \" \")\n",
    "show_sameline(list1)"
   ]
  },
  {
   "cell_type": "code",
   "execution_count": 2,
   "metadata": {},
   "outputs": [
    {
     "data": {
      "text/plain": [
       "5040"
      ]
     },
     "execution_count": 2,
     "metadata": {},
     "output_type": "execute_result"
    }
   ],
   "source": [
    "# WAP to find factorial of number (number is parameter).\n",
    "\n",
    "def fact_val(n):\n",
    "    i = 1\n",
    "    fact = 1\n",
    "    while i <= n:\n",
    "        fact *= i\n",
    "        i += 1\n",
    "    return fact\n",
    "# fact_val(5)\n",
    "# fact_val(6)\n",
    "fact_val(7)"
   ]
  },
  {
   "cell_type": "code",
   "execution_count": 36,
   "metadata": {},
   "outputs": [
    {
     "data": {
      "text/plain": [
       "720"
      ]
     },
     "execution_count": 36,
     "metadata": {},
     "output_type": "execute_result"
    }
   ],
   "source": [
    "# same q using range: \n",
    "def fact_val(x):\n",
    "    fact = 1\n",
    "    for i in range(1,x+1):\n",
    "        fact *= i\n",
    "    return fact\n",
    "fact_val(6)    \n"
   ]
  },
  {
   "cell_type": "code",
   "execution_count": 1,
   "metadata": {},
   "outputs": [
    {
     "name": "stdout",
     "output_type": "stream",
     "text": [
      "3 USD = 249 INR\n"
     ]
    }
   ],
   "source": [
    "# WAP to convert USD into RUPEES.\n",
    "def usd_conv (usd_val):\n",
    "    inr_val = usd_val* 83\n",
    "    print(usd_val,\"USD =\",inr_val,\"INR\" )\n",
    "# usd_conv(2)    \n",
    "usd_conv(3)\n"
   ]
  },
  {
   "cell_type": "code",
   "execution_count": null,
   "metadata": {},
   "outputs": [],
   "source": [
    "# It time to go back on recursion."
   ]
  }
 ],
 "metadata": {
  "kernelspec": {
   "display_name": "Python 3",
   "language": "python",
   "name": "python3"
  },
  "language_info": {
   "codemirror_mode": {
    "name": "ipython",
    "version": 3
   },
   "file_extension": ".py",
   "mimetype": "text/x-python",
   "name": "python",
   "nbconvert_exporter": "python",
   "pygments_lexer": "ipython3",
   "version": "3.13.1"
  }
 },
 "nbformat": 4,
 "nbformat_minor": 2
}
