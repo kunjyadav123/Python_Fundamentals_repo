{
 "cells": [
  {
   "cell_type": "markdown",
   "metadata": {},
   "source": [
    "# LECTURE 1"
   ]
  },
  {
   "cell_type": "code",
   "execution_count": 1,
   "metadata": {},
   "outputs": [
    {
     "name": "stdout",
     "output_type": "stream",
     "text": [
      "Hello World\n",
      "Hello Pankaj\n"
     ]
    }
   ],
   "source": [
    "# our first program\n",
    "print(\"Hello World\")\n",
    "print(\"Hello Pankaj\")"
   ]
  },
  {
   "cell_type": "code",
   "execution_count": 2,
   "metadata": {},
   "outputs": [
    {
     "name": "stdout",
     "output_type": "stream",
     "text": [
      "My name is pankaj yadav.\n",
      "my age is 21\n"
     ]
    }
   ],
   "source": [
    "print(\"My name is pankaj yadav.\")\n",
    "print(\"my age is 21\")"
   ]
  },
  {
   "cell_type": "code",
   "execution_count": 3,
   "metadata": {},
   "outputs": [
    {
     "name": "stdout",
     "output_type": "stream",
     "text": [
      "I am student of Bsc Cs 5th sem and currently aimaing to become a good data scientist.\n"
     ]
    }
   ],
   "source": [
    "print(\"I am student of Bsc Cs 5th sem\",\"and currently aimaing to become a good data scientist.\")"
   ]
  },
  {
   "cell_type": "code",
   "execution_count": 4,
   "metadata": {},
   "outputs": [
    {
     "name": "stdout",
     "output_type": "stream",
     "text": [
      "23\n",
      "37\n",
      "6\n"
     ]
    }
   ],
   "source": [
    "# printing numbers and their sum and differnce\n",
    "print(23)\n",
    "print(14+23)\n",
    "print(42-36)"
   ]
  },
  {
   "cell_type": "code",
   "execution_count": 5,
   "metadata": {},
   "outputs": [
    {
     "name": "stdout",
     "output_type": "stream",
     "text": [
      "name \n",
      "Pankaj\n",
      "21\n",
      "25.99\n",
      "my name is  Pankaj and my current age is 21  and my market price is just 25.99\n",
      "my name is : Pankaj\n",
      "my age is : 21\n",
      "my market price is: 25.99\n"
     ]
    }
   ],
   "source": [
    "# practical understanding of variables in python\n",
    "name = \"Pankaj\"\n",
    "age = 21\n",
    "price= 25.99\n",
    "# see it care fully when you write someting within close inbraces it get prints \n",
    "print(\"name \")\n",
    "# and to print variable value just print variable name only see without closed inbraces\n",
    "print(name )\n",
    "print(age )\n",
    "print(price)\n",
    "# hence don't use cotes when you prints variable value , its use only for string valus storing see it \n",
    "print(\"my name is \",name ,\"and my current age is\",age ,\" and my market price is just\",price,)\n",
    "print(\"my name is :\", name,)\n",
    "print (\"my age is :\", age ,)\n",
    "print (\"my market price is:\",price,)\n"
   ]
  },
  {
   "cell_type": "code",
   "execution_count": 6,
   "metadata": {},
   "outputs": [
    {
     "name": "stdout",
     "output_type": "stream",
     "text": [
      "my current age is : 21\n"
     ]
    }
   ],
   "source": [
    "#chaining in python\n",
    "age = 21\n",
    "age2 = age \n",
    "print(\"my current age is :\",age2,)\n",
    "# = means assignment operator in python and == means equal to\n"
   ]
  },
  {
   "cell_type": "code",
   "execution_count": 7,
   "metadata": {},
   "outputs": [],
   "source": [
    "# rules for identifiers name \n",
    "# Valid identifiers\n",
    "name = \"Alice\"       # Letters only\n",
    "age_25 = 25          # Letters, digits, and underscore\n",
    "_var = 10            # Starts with an underscore (allowed)\n",
    "CamelCase = \"Yes\"    # Case-sensitive identifier\n",
    "PI = 3.14           # Constants are usually in uppercase (by convention)\n",
    "\n",
    "# Invalid identifiers\n",
    "# 123name = \"John\"    # ❌ Cannot start with a digit\n",
    "# my-name = \"Alex\"    # ❌ Hyphen (-) is not allowed\n",
    "# class = \"Python\"    # ❌ 'class' is a reserved keyword\n",
    "# price$ = 100        # ❌ Special characters like $ are not allowed\n",
    "# identifiers can be of any length\n"
   ]
  },
  {
   "cell_type": "code",
   "execution_count": 8,
   "metadata": {},
   "outputs": [],
   "source": [
    "# remember variable name must be simple short and meaningful and this is and very crucial property of good programmer.\n"
   ]
  },
  {
   "cell_type": "code",
   "execution_count": 9,
   "metadata": {},
   "outputs": [
    {
     "name": "stdout",
     "output_type": "stream",
     "text": [
      "<class 'str'>\n",
      "<class 'int'>\n",
      "<class 'int'>\n",
      "<class 'float'>\n"
     ]
    }
   ],
   "source": [
    "# data type\n",
    "name = \" Pankhu\"\n",
    "age1 = 21\n",
    "age2 = -27\n",
    "price = 24.99\n",
    "print(type(name))\n",
    "print(type(age1))\n",
    "print(type(age2))\n",
    "print(type(price))"
   ]
  },
  {
   "cell_type": "code",
   "execution_count": 10,
   "metadata": {},
   "outputs": [
    {
     "name": "stdout",
     "output_type": "stream",
     "text": [
      "<class 'bool'>\n",
      "<class 'bool'>\n"
     ]
    }
   ],
   "source": [
    "# boolean data type : True and False. They must be start with capital letter always.\n",
    "old = False\n",
    "print(type(old))\n",
    "new = True\n",
    "print(type(new))"
   ]
  },
  {
   "cell_type": "code",
   "execution_count": 11,
   "metadata": {},
   "outputs": [
    {
     "name": "stdout",
     "output_type": "stream",
     "text": [
      "<class 'NoneType'>\n"
     ]
    }
   ],
   "source": [
    "# none variable( data type): None shoould always start with captal N.\n",
    "a= None\n",
    "print(type(a))"
   ]
  },
  {
   "cell_type": "code",
   "execution_count": 12,
   "metadata": {},
   "outputs": [
    {
     "name": "stdout",
     "output_type": "stream",
     "text": [
      "['False', 'None', 'True', 'and', 'as', 'assert', 'async', 'await', 'break', 'class', 'continue', 'def', 'del', 'elif', 'else', 'except', 'finally', 'for', 'from', 'global', 'if', 'import', 'in', 'is', 'lambda', 'nonlocal', 'not', 'or', 'pass', 'raise', 'return', 'try', 'while', 'with', 'yield']\n",
      "This is a valid condition\n"
     ]
    }
   ],
   "source": [
    "# Keywords in python and their rules.\n",
    "# Rules for Keywords in Python\n",
    "\n",
    "# 1. Keywords are reserved words in Python and cannot be used as identifiers.\n",
    "# Example (invalid use):\n",
    "# def = 10    # ❌ 'def' is a keyword, cannot be used as a variable name\n",
    "\n",
    "# 2. Keywords are case-sensitive.\n",
    "True_value = True  # ✅ 'True' is a keyword, but 'true' (lowercase) is not\n",
    "# true = False      # ❌ 'true' (lowercase) is not a keyword but can be misleading\n",
    "\n",
    "# 3. Keywords cannot be enclosed in quotes to use as identifiers.\n",
    "# \"if\" = 5         # ❌ Strings are not identifiers, 'if' is a keyword\n",
    "\n",
    "# 4. Python has a fixed set of keywords that cannot be changed.\n",
    "import keyword\n",
    "print(keyword.kwlist)  # ✅ Prints the list of all Python keywords\n",
    "\n",
    "# 5. Keywords must be used in the correct context.\n",
    "if True:  # ✅ Correct usage of 'if' keyword\n",
    "    print(\"This is a valid condition\")\n",
    "\n",
    "# Incorrect usage:\n",
    "# if = 10   # ❌ 'if' cannot be assigned a value\n",
    "\n",
    "# 6. Some keywords have special meaning and cannot be redefined.\n",
    "# None = 0  # ❌ 'None' is a special keyword and cannot be reassigned\n",
    "\n"
   ]
  },
  {
   "cell_type": "code",
   "execution_count": 13,
   "metadata": {},
   "outputs": [],
   "source": [
    "# PYTHON IS CASE SENSITVE LANGUAGE. SO BE ALERT EVEN A SINGLE LETTER DIFFERENCE OF CASES CAN MAKE A DIFFERENCE.\n",
    "# EK EK LETTER SAME SAME."
   ]
  },
  {
   "cell_type": "code",
   "execution_count": 14,
   "metadata": {},
   "outputs": [
    {
     "name": "stdout",
     "output_type": "stream",
     "text": [
      "25\n",
      "5\n"
     ]
    }
   ],
   "source": [
    "# sum of numbers # difference of number\n",
    "a = 10\n",
    "b = 15\n",
    "sum = a+b\n",
    "diff = b-a\n",
    "print(sum)\n",
    "print(diff)"
   ]
  },
  {
   "cell_type": "code",
   "execution_count": 15,
   "metadata": {},
   "outputs": [],
   "source": [
    "# Python is an implicit language . ie no need to specify the data type of variable sa we did in java and c++and tehy are explicit in nature unlike python."
   ]
  },
  {
   "cell_type": "code",
   "execution_count": 16,
   "metadata": {},
   "outputs": [
    {
     "name": "stdout",
     "output_type": "stream",
     "text": [
      "@@@@@@\n"
     ]
    }
   ],
   "source": [
    "# Expression Execution.repetation rule.\n",
    "# string and numeric values can operate together with *.\n",
    "A,B = 2,3\n",
    "TxT=\"@\"\n",
    "print(A*TxT*B)"
   ]
  },
  {
   "cell_type": "code",
   "execution_count": 17,
   "metadata": {},
   "outputs": [
    {
     "name": "stdout",
     "output_type": "stream",
     "text": [
      "2@2@2@\n"
     ]
    }
   ],
   "source": [
    "# string and string can operate with +. concatenation\n",
    "A,B = \"2\",3 # here A will act as string not as integer bcoz its enclose within braces.\n",
    "TxT= \"@\"\n",
    "print((A+TxT)*B) # \"2\"+\"@\"= 2@ and 2@*3=2@2@2@ okay ."
   ]
  },
  {
   "cell_type": "code",
   "execution_count": 18,
   "metadata": {},
   "outputs": [],
   "source": [
    "# be fully aware about operator precedence in python.\n"
   ]
  },
  {
   "cell_type": "code",
   "execution_count": 19,
   "metadata": {},
   "outputs": [
    {
     "name": "stdout",
     "output_type": "stream",
     "text": [
      "14\n"
     ]
    }
   ],
   "source": [
    "# numerics values can opearte with all arithmetics operator.\n",
    "A,B = 2,3\n",
    "C=4\n",
    "print(A+B*C)# *>+"
   ]
  },
  {
   "cell_type": "code",
   "execution_count": 20,
   "metadata": {},
   "outputs": [
    {
     "name": "stdout",
     "output_type": "stream",
     "text": [
      "50.0\n",
      "15.0\n"
     ]
    }
   ],
   "source": [
    "# arithmetic expression with integer and float will result in float\n",
    "A,B = 10, 5.0\n",
    "C=A*B\n",
    "D= A+B\n",
    "print(C)\n",
    "print(D) # results are of float data type"
   ]
  },
  {
   "cell_type": "code",
   "execution_count": 21,
   "metadata": {},
   "outputs": [
    {
     "name": "stdout",
     "output_type": "stream",
     "text": [
      "2.0\n"
     ]
    }
   ],
   "source": [
    "# result of division operator with two integer will be float\n",
    "A,B= 1,2\n",
    "C= B/A\n",
    "print(C)# 2.0 not 2"
   ]
  },
  {
   "cell_type": "code",
   "execution_count": 22,
   "metadata": {},
   "outputs": [
    {
     "name": "stdout",
     "output_type": "stream",
     "text": [
      "0.5\n"
     ]
    }
   ],
   "source": [
    "A,B=1.5,3\n",
    "C=A/B\n",
    "print(C)"
   ]
  },
  {
   "cell_type": "code",
   "execution_count": 23,
   "metadata": {},
   "outputs": [
    {
     "name": "stdout",
     "output_type": "stream",
     "text": [
      "0.0\n"
     ]
    }
   ],
   "source": [
    "# integer division(//)\n",
    "# integer division with float and int will give int(GIF) but displayed asa float.\n",
    "A,B= 1.5,3\n",
    "C= A//B\n",
    "print(C)"
   ]
  },
  {
   "cell_type": "code",
   "execution_count": 24,
   "metadata": {},
   "outputs": [
    {
     "name": "stdout",
     "output_type": "stream",
     "text": [
      "2\n",
      "-3\n",
      "4\n"
     ]
    }
   ],
   "source": [
    "# integer division of two integer(A//B) values will be same as floor of (A/B)and result will be of integer(GIF).\n",
    "A,B= 12,5\n",
    "C=A//B\n",
    "print(C)\n",
    "X,Y= -12,5\n",
    "Z=X//Y\n",
    "print(Z)\n",
    "P=18\n",
    "Q=4\n",
    "R=(P//Q)\n",
    "print(R) # GIF means greatest integer less than or equal to . this is call floor in python "
   ]
  },
  {
   "cell_type": "code",
   "execution_count": 25,
   "metadata": {},
   "outputs": [
    {
     "name": "stdout",
     "output_type": "stream",
     "text": [
      "1\n",
      "1\n",
      "-1\n"
     ]
    }
   ],
   "source": [
    "# modulo operator, firstly clear notion about sign of numerator and denominator and its gives results as remainder.\n",
    "\n",
    "A,B= -5,2\n",
    "C=A%B\n",
    "print(C)\n",
    "X,Y=5,2\n",
    "Z=X%Y\n",
    "print(Z)\n",
    "P=5\n",
    "Q=-2\n",
    "R=P%Q\n",
    "print(R)"
   ]
  },
  {
   "cell_type": "code",
   "execution_count": 26,
   "metadata": {},
   "outputs": [
    {
     "name": "stdout",
     "output_type": "stream",
     "text": [
      "1\n",
      "2\n",
      "-2\n",
      "-1\n"
     ]
    }
   ],
   "source": [
    "# understanding sign of modulo operator based on sign of numerator and denominator see below\n",
    "# Case 1: Both numerator and denominator are positive\n",
    "print(10 % 3)  # ✅ 10 % 3 = 1 (Positive remainder)\n",
    "\n",
    "# Case 2: Numerator is negative, denominator is positive\n",
    "print(-10 % 3)  # ✅ -10 % 3 = 2 (Remainder follows the sign of the divisor)\n",
    "\n",
    "# Case 3: Numerator is positive, denominator is negative\n",
    "print(10 % -3)  # ✅ 10 % -3 = -2 (Remainder follows the sign of the divisor)\n",
    "\n",
    "# Case 4: Both numerator and denominator are negative\n",
    "print(-10 % -3)  # ✅ -10 % -3 = -1 (Remainder follows the sign of the divisor)\n"
   ]
  },
  {
   "cell_type": "code",
   "execution_count": 27,
   "metadata": {},
   "outputs": [],
   "source": [
    "# you know comments well. but its is very immppp.\n",
    "# it enhance understandibility and readibility of code.\n",
    "# help full for future self and too others programmers .\n"
   ]
  },
  {
   "cell_type": "code",
   "execution_count": 28,
   "metadata": {},
   "outputs": [],
   "source": [
    "# Input from user in python:( input() statement is used to accept values (using keyboard) from user\n",
    "# let see each case one by one \n",
    "\n",
    "# may be jupyer + vcs code doest support user input so try input topic in to pure vs code only in file misscelenous.py\n",
    "# lecture 1 ends here\n"
   ]
  }
 ],
 "metadata": {
  "kernelspec": {
   "display_name": "Python 3",
   "language": "python",
   "name": "python3"
  },
  "language_info": {
   "codemirror_mode": {
    "name": "ipython",
    "version": 3
   },
   "file_extension": ".py",
   "mimetype": "text/x-python",
   "name": "python",
   "nbconvert_exporter": "python",
   "pygments_lexer": "ipython3",
   "version": "undefined.undefined.undefined"
  }
 },
 "nbformat": 4,
 "nbformat_minor": 2
}
