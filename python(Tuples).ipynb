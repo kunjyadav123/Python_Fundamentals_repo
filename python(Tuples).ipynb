{
 "cells": [
  {
   "cell_type": "markdown",
   "metadata": {},
   "source": [
    "# Lecture 5"
   ]
  },
  {
   "cell_type": "code",
   "execution_count": null,
   "metadata": {},
   "outputs": [],
   "source": [
    "# TUPLE IN PYTHON:\n",
    "# A built in data type that stores sequence of element\n",
    "# Tuples are also immutable in nature , i.e you can acces its values but cant ammend anyone."
   ]
  },
  {
   "cell_type": "code",
   "execution_count": null,
   "metadata": {},
   "outputs": [
    {
     "name": "stdout",
     "output_type": "stream",
     "text": [
      "<class 'int'>\n",
      "<class 'tuple'>\n"
     ]
    }
   ],
   "source": [
    "# examples\n",
    "tup1 = () # this is also a tuple. known as empty tuple.\n",
    "tup2 = (1,) # this is method to specify a tuple of singe element, always put ,(comma) after elementso that python interpreter does not confuse it with int data type.let see what ia ma talking about.\n",
    "tup = (2) # it seems to be tuple  it comes integer datatype\n",
    "print(type(tup))\n",
    "tup4 = (2,)\n",
    "print(type(tup4))\n"
   ]
  },
  {
   "cell_type": "code",
   "execution_count": null,
   "metadata": {},
   "outputs": [
    {
     "name": "stdout",
     "output_type": "stream",
     "text": [
      "(12, 16, 'aditya', '@')\n",
      "<class 'tuple'>\n"
     ]
    }
   ],
   "source": [
    "tup3 = ( 12, 16,\"aditya\",\"@\") # you can also store different data type of element in tuples.\n",
    "print(tup3)\n",
    "print(type(tup3)) # got it\n"
   ]
  },
  {
   "cell_type": "code",
   "execution_count": null,
   "metadata": {},
   "outputs": [
    {
     "name": "stdout",
     "output_type": "stream",
     "text": [
      "12\n",
      "16\n",
      "aditya\n",
      "4\n"
     ]
    }
   ],
   "source": [
    "# Via indexing we can acces element of tuple.see\n",
    "tup3 = ( 12, 16,\"aditya\",\"@\")\n",
    "elem0 = tup3[0]\n",
    "elem1 = tup3[1]\n",
    "elem2 = tup3[2]\n",
    "print(elem0)\n",
    "print(elem1)\n",
    "print(elem2)\n",
    "# Indexing works in tuples as well.\n",
    "print(len(tup3)) # len function also works here\n"
   ]
  },
  {
   "cell_type": "code",
   "execution_count": null,
   "metadata": {},
   "outputs": [
    {
     "ename": "TypeError",
     "evalue": "'tuple' object does not support item assignment",
     "output_type": "error",
     "traceback": [
      "\u001b[31m---------------------------------------------------------------------------\u001b[39m",
      "\u001b[31mTypeError\u001b[39m                                 Traceback (most recent call last)",
      "\u001b[36mCell\u001b[39m\u001b[36m \u001b[39m\u001b[32mIn[10]\u001b[39m\u001b[32m, line 3\u001b[39m\n\u001b[32m      1\u001b[39m \u001b[38;5;66;03m#  BUT UNLIKE LIST AND LIKE STRING TUPLES ARE IMMUTABLE.\u001b[39;00m\n\u001b[32m      2\u001b[39m tup3 = ( \u001b[32m12\u001b[39m, \u001b[32m16\u001b[39m,\u001b[33m\"\u001b[39m\u001b[33maditya\u001b[39m\u001b[33m\"\u001b[39m,\u001b[33m\"\u001b[39m\u001b[33m@\u001b[39m\u001b[33m\"\u001b[39m)\n\u001b[32m----> \u001b[39m\u001b[32m3\u001b[39m \u001b[43mtup3\u001b[49m\u001b[43m[\u001b[49m\u001b[32;43m2\u001b[39;49m\u001b[43m]\u001b[49m = \u001b[33m\"\u001b[39m\u001b[33mrohit\u001b[39m\u001b[33m\"\u001b[39m\n\u001b[32m      4\u001b[39m \u001b[38;5;28mprint\u001b[39m(tup3)\n",
      "\u001b[31mTypeError\u001b[39m: 'tuple' object does not support item assignment"
     ]
    }
   ],
   "source": [
    "#  BUT UNLIKE LIST AND LIKE STRING TUPLES ARE IMMUTABLE.\n",
    "tup3 = ( 12, 16,\"aditya\",\"@\")\n",
    "tup3[2] = \"rohit\"\n",
    "print(tup3)\n",
    "# i.e no mutation no manipulation only accesing like string and unlike list."
   ]
  },
  {
   "cell_type": "code",
   "execution_count": null,
   "metadata": {},
   "outputs": [],
   "source": [
    "# TUPLES METHOD/OPERATION.\n"
   ]
  },
  {
   "cell_type": "code",
   "execution_count": 13,
   "metadata": {},
   "outputs": [
    {
     "name": "stdout",
     "output_type": "stream",
     "text": [
      "1\n",
      "2\n"
     ]
    }
   ],
   "source": [
    "# METHOD1: tup_name.index(elem) it provides index no of first occurence of given element.\n",
    "# METHOD2: tup_name.count(elem). it count total occurences of given no.\n",
    "tup3 = ( 12, 16,\"aditya\",\"@\",\"aditya\")\n",
    "print(tup3.index(16))\n",
    "print(tup3.index(\"aditya\"))\n"
   ]
  },
  {
   "cell_type": "code",
   "execution_count": 14,
   "metadata": {},
   "outputs": [
    {
     "name": "stdout",
     "output_type": "stream",
     "text": [
      "2\n"
     ]
    }
   ],
   "source": [
    "tup3 = ( 12, 16,\"aditya\",\"@\",\"aditya\")\n",
    "print(tup3.count(\"aditya\"))"
   ]
  }
 ],
 "metadata": {
  "kernelspec": {
   "display_name": "Python 3",
   "language": "python",
   "name": "python3"
  },
  "language_info": {
   "codemirror_mode": {
    "name": "ipython",
    "version": 3
   },
   "file_extension": ".py",
   "mimetype": "text/x-python",
   "name": "python",
   "nbconvert_exporter": "python",
   "pygments_lexer": "ipython3",
   "version": "3.13.1"
  }
 },
 "nbformat": 4,
 "nbformat_minor": 2
}
