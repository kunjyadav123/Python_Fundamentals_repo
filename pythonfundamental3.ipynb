{
 "cells": [
  {
   "cell_type": "markdown",
   "id": "97a37c50",
   "metadata": {},
   "source": [
    "## Data Types and Object:"
   ]
  },
  {
   "cell_type": "code",
   "execution_count": 1,
   "id": "6e7c4a3e",
   "metadata": {},
   "outputs": [
    {
     "data": {
      "text/plain": [
       "9"
      ]
     },
     "execution_count": 1,
     "metadata": {},
     "output_type": "execute_result"
    }
   ],
   "source": [
    "4 + 5"
   ]
  },
  {
   "cell_type": "code",
   "execution_count": 2,
   "id": "c691290d",
   "metadata": {},
   "outputs": [
    {
     "data": {
      "text/plain": [
       "15"
      ]
     },
     "execution_count": 2,
     "metadata": {},
     "output_type": "execute_result"
    }
   ],
   "source": [
    "5*3"
   ]
  },
  {
   "cell_type": "code",
   "execution_count": 3,
   "id": "4d4ebd35",
   "metadata": {},
   "outputs": [
    {
     "data": {
      "text/plain": [
       "64"
      ]
     },
     "execution_count": 3,
     "metadata": {},
     "output_type": "execute_result"
    }
   ],
   "source": [
    "2**6"
   ]
  },
  {
   "cell_type": "code",
   "execution_count": null,
   "id": "5747597b",
   "metadata": {},
   "outputs": [
    {
     "data": {
      "text/plain": [
       "3.141592653589793"
      ]
     },
     "execution_count": 9,
     "metadata": {},
     "output_type": "execute_result"
    }
   ],
   "source": [
    "# Imporrtant preinstallld module math just import and use ! \n",
    "\n",
    "import math\n",
    "\n",
    "math.pi\n"
   ]
  },
  {
   "cell_type": "code",
   "execution_count": 10,
   "id": "49f00d70",
   "metadata": {},
   "outputs": [
    {
     "data": {
      "text/plain": [
       "2.718281828459045"
      ]
     },
     "execution_count": 10,
     "metadata": {},
     "output_type": "execute_result"
    }
   ],
   "source": [
    "math.e"
   ]
  },
  {
   "cell_type": "code",
   "execution_count": null,
   "id": "401b3ba1",
   "metadata": {},
   "outputs": [
    {
     "data": {
      "text/plain": [
       "0.01889472591538577"
      ]
     },
     "execution_count": 12,
     "metadata": {},
     "output_type": "execute_result"
    }
   ],
   "source": [
    "# One more goood module ! random and remember random values always flactuate between 0 to 1 .\n",
    "import random\n",
    "\n",
    "random.random()\n"
   ]
  },
  {
   "cell_type": "code",
   "execution_count": 13,
   "id": "8ab731ca",
   "metadata": {},
   "outputs": [
    {
     "data": {
      "text/plain": [
       "0.7416867290638529"
      ]
     },
     "execution_count": 13,
     "metadata": {},
     "output_type": "execute_result"
    }
   ],
   "source": [
    "random.random()"
   ]
  },
  {
   "cell_type": "code",
   "execution_count": 14,
   "id": "8ba4925f",
   "metadata": {},
   "outputs": [
    {
     "data": {
      "text/plain": [
       "0.251493711704584"
      ]
     },
     "execution_count": 14,
     "metadata": {},
     "output_type": "execute_result"
    }
   ],
   "source": [
    "random.random()"
   ]
  },
  {
   "cell_type": "code",
   "execution_count": null,
   "id": "8ce985d6",
   "metadata": {},
   "outputs": [
    {
     "data": {
      "text/plain": [
       "1"
      ]
     },
     "execution_count": 16,
     "metadata": {},
     "output_type": "execute_result"
    }
   ],
   "source": [
    "random.choice([1,44,34.5,11])  # its basicallly choose any one of specified  element from list by its random choice ."
   ]
  },
  {
   "cell_type": "code",
   "execution_count": 21,
   "id": "58774ad4",
   "metadata": {},
   "outputs": [
    {
     "data": {
      "text/plain": [
       "'Akash'"
      ]
     },
     "execution_count": 21,
     "metadata": {},
     "output_type": "execute_result"
    }
   ],
   "source": [
    "random.choice([\"Akash\",44,34.5,11])  \n"
   ]
  },
  {
   "cell_type": "code",
   "execution_count": 20,
   "id": "70a284e8",
   "metadata": {},
   "outputs": [
    {
     "data": {
      "text/plain": [
       "34.5"
      ]
     },
     "execution_count": 20,
     "metadata": {},
     "output_type": "execute_result"
    }
   ],
   "source": [
    "random.choice([\"Apna_bhai\",44,34.5,11])  \n"
   ]
  },
  {
   "cell_type": "code",
   "execution_count": 24,
   "id": "cf9dc443",
   "metadata": {},
   "outputs": [
    {
     "data": {
      "text/plain": [
       "8"
      ]
     },
     "execution_count": 24,
     "metadata": {},
     "output_type": "execute_result"
    }
   ],
   "source": [
    "# exploring some basic string methods !\n",
    "\n",
    "user_name = \" Pankaj \"\n",
    "len(user_name)     # len method conts all total element of string including spaces.\n",
    "\n"
   ]
  },
  {
   "cell_type": "code",
   "execution_count": null,
   "id": "5514de7c",
   "metadata": {},
   "outputs": [
    {
     "data": {
      "text/plain": [
       "'a'"
      ]
     },
     "execution_count": 25,
     "metadata": {},
     "output_type": "execute_result"
    }
   ],
   "source": [
    "user_name[2]  # its specify the elemt of specified index  , and indexong starts from 0 not by 1.\n",
    "# Remember spaces also have index ! that's why at 2 we have a not n ."
   ]
  },
  {
   "cell_type": "code",
   "execution_count": null,
   "id": "2695faee",
   "metadata": {},
   "outputs": [
    {
     "data": {
      "text/plain": [
       "'n'"
      ]
     },
     "execution_count": 27,
     "metadata": {},
     "output_type": "execute_result"
    }
   ],
   "source": [
    "course = \"Engineering\"\n",
    "course[4]   # clear hai ! "
   ]
  },
  {
   "cell_type": "code",
   "execution_count": null,
   "id": "f6039f42",
   "metadata": {},
   "outputs": [
    {
     "ename": "TypeError",
     "evalue": "'str' object does not support item assignment",
     "output_type": "error",
     "traceback": [
      "\u001b[31m---------------------------------------------------------------------------\u001b[39m",
      "\u001b[31mTypeError\u001b[39m                                 Traceback (most recent call last)",
      "\u001b[36mCell\u001b[39m\u001b[36m \u001b[39m\u001b[32mIn[28]\u001b[39m\u001b[32m, line 3\u001b[39m\n\u001b[32m      1\u001b[39m \u001b[38;5;66;03m# string is immutable : \u001b[39;00m\n\u001b[32m      2\u001b[39m course = \u001b[33m\"\u001b[39m\u001b[33mEngineering\u001b[39m\u001b[33m\"\u001b[39m\n\u001b[32m----> \u001b[39m\u001b[32m3\u001b[39m \u001b[43mcourse\u001b[49m\u001b[43m[\u001b[49m\u001b[32;43m5\u001b[39;49m\u001b[43m]\u001b[49m = \u001b[33m\"\u001b[39m\u001b[33mp\u001b[39m\u001b[33m\"\u001b[39m\n",
      "\u001b[31mTypeError\u001b[39m: 'str' object does not support item assignment"
     ]
    }
   ],
   "source": [
    "# string is immutable : \n",
    "course = \"Engineering\"\n",
    "course[5] = \"p\"   #Not string is immutable ans we cannot do manipulation in strings  and so striing does't suppport item assignment .\n"
   ]
  },
  {
   "cell_type": "code",
   "execution_count": 29,
   "id": "58b8df48",
   "metadata": {},
   "outputs": [
    {
     "data": {
      "text/plain": [
       "'g'"
      ]
     },
     "execution_count": 29,
     "metadata": {},
     "output_type": "execute_result"
    }
   ],
   "source": [
    "# Negative indexing also works its starts from -1 from last then commming to firts its gets as -2 , -3 ..... as on\n",
    "\n",
    "course = \"Engineering\"\n",
    "course[-1]"
   ]
  },
  {
   "cell_type": "code",
   "execution_count": 30,
   "id": "60419402",
   "metadata": {},
   "outputs": [
    {
     "data": {
      "text/plain": [
       "'r'"
      ]
     },
     "execution_count": 30,
     "metadata": {},
     "output_type": "execute_result"
    }
   ],
   "source": [
    "\n",
    "course = \"Engineering\"\n",
    "course[-4]"
   ]
  },
  {
   "cell_type": "code",
   "execution_count": null,
   "id": "48047d0e",
   "metadata": {},
   "outputs": [
    {
     "data": {
      "text/plain": [
       "'gineer'"
      ]
     },
     "execution_count": 32,
     "metadata": {},
     "output_type": "execute_result"
    }
   ],
   "source": [
    "# string me slicing ! str_name[x : y  ]  slicing starts from x and goes to index no y-1 and element of y order doest get prints.\n",
    "course = \"Engineering\"\n",
    "course[2:8]\n",
    "\n",
    " # we also do negative slicing ! "
   ]
  },
  {
   "cell_type": "code",
   "execution_count": 36,
   "id": "9b139bb0",
   "metadata": {},
   "outputs": [
    {
     "data": {
      "text/plain": [
       "[123, 'chai', 3.14, 'Pankaj']"
      ]
     },
     "execution_count": 36,
     "metadata": {},
     "output_type": "execute_result"
    }
   ],
   "source": [
    "# Lets see some list methods ! \n",
    "\n",
    "\n",
    "myList = [123, \"chai\" , 3.14 , \"Pankaj\"]\n",
    "\n",
    "myList\n",
    "\n"
   ]
  },
  {
   "cell_type": "code",
   "execution_count": 38,
   "id": "7e4a14ae",
   "metadata": {},
   "outputs": [
    {
     "data": {
      "text/plain": [
       "4"
      ]
     },
     "execution_count": 38,
     "metadata": {},
     "output_type": "execute_result"
    }
   ],
   "source": [
    "len(myList)"
   ]
  },
  {
   "cell_type": "code",
   "execution_count": null,
   "id": "b27f92b2",
   "metadata": {},
   "outputs": [
    {
     "data": {
      "text/plain": [
       "3.14"
      ]
     },
     "execution_count": 39,
     "metadata": {},
     "output_type": "execute_result"
    }
   ],
   "source": [
    "myList[2] # indexing "
   ]
  },
  {
   "cell_type": "code",
   "execution_count": 42,
   "id": "67cd56b2",
   "metadata": {},
   "outputs": [
    {
     "data": {
      "text/plain": [
       "'chai'"
      ]
     },
     "execution_count": 42,
     "metadata": {},
     "output_type": "execute_result"
    }
   ],
   "source": [
    "myList[-3] # negative indexing"
   ]
  },
  {
   "cell_type": "code",
   "execution_count": null,
   "id": "4a6fb885",
   "metadata": {},
   "outputs": [],
   "source": [
    "# Same we have methods for set and tuple we will further discuss more about all set , tuple , lsit , dict , str in this series further."
   ]
  },
  {
   "cell_type": "markdown",
   "id": "f29bc1aa",
   "metadata": {},
   "source": [
    "###  formated string : f"
   ]
  },
  {
   "cell_type": "code",
   "execution_count": null,
   "id": "0e22c95e",
   "metadata": {},
   "outputs": [
    {
     "name": "stdout",
     "output_type": "stream",
     "text": [
      "My name is Pankaj\n"
     ]
    }
   ],
   "source": [
    "# The f stands for f-string, which means formatted string literal.\n",
    "\n",
    "# It was introduced in Python 3.6, and it makes it easy to put variables inside strings.\n",
    "\n",
    "# Remember always use f before  print statement and put valriable in { } always don't use other bracket or perenthesis okay ! \n",
    "\n",
    "name = \"Pankaj\"\n",
    "print(f\"My name is {name}\")\n"
   ]
  },
  {
   "cell_type": "code",
   "execution_count": null,
   "id": "7a1851ff",
   "metadata": {},
   "outputs": [
    {
     "name": "stdout",
     "output_type": "stream",
     "text": [
      "My name is  Pankaj\n",
      "My name is Pankaj\n"
     ]
    }
   ],
   "source": [
    "#💬 Why use f?\n",
    "\n",
    "# Before f-strings, if you wanted to include a variable in a string, you had to do this:as\n",
    "\n",
    "name = \"Pankaj\"\n",
    "print(\"My name is \",name)    # Old way\n",
    "\n",
    "\n",
    "# But after getting f we got it as ! \n",
    "\n",
    "print(f\"My name is {name}\")   # Cleaner & easier\n"
   ]
  }
 ],
 "metadata": {
  "kernelspec": {
   "display_name": ".venv",
   "language": "python",
   "name": "python3"
  },
  "language_info": {
   "codemirror_mode": {
    "name": "ipython",
    "version": 3
   },
   "file_extension": ".py",
   "mimetype": "text/x-python",
   "name": "python",
   "nbconvert_exporter": "python",
   "pygments_lexer": "ipython3",
   "version": "3.13.5"
  }
 },
 "nbformat": 4,
 "nbformat_minor": 5
}
